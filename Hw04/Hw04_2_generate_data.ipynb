{
 "cells": [
  {
   "attachments": {},
   "cell_type": "markdown",
   "metadata": {},
   "source": [
    "# Generate the datasets\n",
    "This program is used to generate the data, including test.csv, train.csv, valid.csv."
   ]
  },
  {
   "attachments": {},
   "cell_type": "markdown",
   "metadata": {},
   "source": [
    "## import package"
   ]
  },
  {
   "cell_type": "code",
   "execution_count": 45,
   "metadata": {},
   "outputs": [],
   "source": [
    "import numpy as np\n",
    "import pandas as pd\n",
    "import os\n",
    "from tqdm import tqdm"
   ]
  },
  {
   "attachments": {},
   "cell_type": "markdown",
   "metadata": {},
   "source": [
    "## parameter"
   ]
  },
  {
   "cell_type": "code",
   "execution_count": 46,
   "metadata": {},
   "outputs": [],
   "source": [
    "data_number = 1000\n",
    "\n",
    "# 定義資料數量、訓練集、驗證集和測試集的比例\n",
    "train_p, valid_p, test_p = 0.7, 0.2, 0.1"
   ]
  },
  {
   "attachments": {},
   "cell_type": "markdown",
   "metadata": {},
   "source": [
    "## define the six hump camelback function"
   ]
  },
  {
   "cell_type": "code",
   "execution_count": 47,
   "metadata": {},
   "outputs": [],
   "source": [
    "def six_hump_camelback_function(points):\n",
    "    x = points[:, 0]\n",
    "    y = points[:, 1]\n",
    "    z = (4 - 2.1 * x**2 + x**4 / 3) * x**2 + x * y + (-4 + 4 * y**2) * y**2\n",
    "    return np.vstack((x, y, z)).T\n"
   ]
  },
  {
   "attachments": {},
   "cell_type": "markdown",
   "metadata": {},
   "source": [
    "## generate the random thetas(joints)"
   ]
  },
  {
   "cell_type": "code",
   "execution_count": 48,
   "metadata": {},
   "outputs": [],
   "source": [
    "points = np.random.uniform(-3, 3, size=(data_number, 2))\n",
    "# print(points.shape)\n",
    "# x = np.linspace(-5, 5, data_number).T\n",
    "# y = np.linspace(-5, 5, data_number).T\n",
    "# points = np.vstack((x, y)).T\n",
    "# print(points.shape)\n",
    "\n"
   ]
  },
  {
   "attachments": {},
   "cell_type": "markdown",
   "metadata": {},
   "source": [
    "## thetas to positions"
   ]
  },
  {
   "cell_type": "code",
   "execution_count": 49,
   "metadata": {},
   "outputs": [],
   "source": [
    "datasets = six_hump_camelback_function(points) # x, y, z"
   ]
  },
  {
   "cell_type": "code",
   "execution_count": 50,
   "metadata": {},
   "outputs": [
    {
     "name": "stdout",
     "output_type": "stream",
     "text": [
      "(700, 3) (200, 3) (100, 3)\n"
     ]
    }
   ],
   "source": [
    "# 計算資料集中各個部分的數量\n",
    "train_num = int(data_number * train_p)\n",
    "valid_num = int(data_number * valid_p)\n",
    "test_num = data_number - train_num - valid_num\n",
    "train = datasets[:train_num, :]\n",
    "valid = datasets[train_num:train_num+valid_num, :]\n",
    "test  = datasets[train_num+valid_num:data_number, :]\n",
    "print(train.shape, valid.shape, test.shape)\n"
   ]
  },
  {
   "attachments": {},
   "cell_type": "markdown",
   "metadata": {},
   "source": [
    "## save datasets"
   ]
  },
  {
   "cell_type": "code",
   "execution_count": 51,
   "metadata": {},
   "outputs": [],
   "source": [
    "# 創建data文件夾（如果不存在）\n",
    "os.makedirs('dataQ2', exist_ok=True)"
   ]
  },
  {
   "cell_type": "code",
   "execution_count": 52,
   "metadata": {},
   "outputs": [],
   "source": [
    "# 將資料寫入檔案\n",
    "np.savetxt('dataQ2/train.csv', train, delimiter=',')\n",
    "np.savetxt('dataQ2/valid.csv', valid, delimiter=',')\n",
    "np.savetxt('dataQ2/test.csv', test, delimiter=',')"
   ]
  }
 ],
 "metadata": {
  "kernelspec": {
   "display_name": "myenv",
   "language": "python",
   "name": "python3"
  },
  "language_info": {
   "codemirror_mode": {
    "name": "ipython",
    "version": 3
   },
   "file_extension": ".py",
   "mimetype": "text/x-python",
   "name": "python",
   "nbconvert_exporter": "python",
   "pygments_lexer": "ipython3",
   "version": "3.10.11"
  },
  "orig_nbformat": 4
 },
 "nbformat": 4,
 "nbformat_minor": 2
}
