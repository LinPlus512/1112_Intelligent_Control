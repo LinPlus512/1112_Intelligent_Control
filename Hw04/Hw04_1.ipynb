{
 "cells": [
  {
   "attachments": {},
   "cell_type": "markdown",
   "metadata": {},
   "source": [
    "# Traget:\n",
    "Build a inverse kinematics model by using Backpropagation neural network (BPNN) to solve θ1, θ2, θ3 if X, Y, Z are given. The program of the model needs to be written in Python language and use the Pytorch package. You can refer to the attached python program but use the Tensorflow package\n",
    "#### input: X, Y, Z\n",
    "#### output: θ1, θ2, θ3"
   ]
  },
  {
   "attachments": {},
   "cell_type": "markdown",
   "metadata": {},
   "source": [
    "## BPNN"
   ]
  },
  {
   "attachments": {},
   "cell_type": "markdown",
   "metadata": {},
   "source": [
    "## import package"
   ]
  },
  {
   "cell_type": "code",
   "execution_count": 1,
   "metadata": {},
   "outputs": [],
   "source": [
    "import torch\n",
    "import torch.nn as nn\n",
    "import torch.optim as optim\n",
    "import numpy as np\n",
    "import pandas as pd\n",
    "from torch.utils.data import TensorDataset, DataLoader\n",
    "from tqdm import tqdm"
   ]
  },
  {
   "cell_type": "markdown",
   "metadata": {},
   "source": [
    "## Check GPU info.\n",
    "ref: https://towardsdatascience.com/installing-pytorch-on-apple-m1-chip-with-gpu-acceleration-3351dc44d67c"
   ]
  },
  {
   "cell_type": "code",
   "execution_count": 2,
   "metadata": {},
   "outputs": [
    {
     "name": "stdout",
     "output_type": "stream",
     "text": [
      "True\n",
      "True\n"
     ]
    }
   ],
   "source": [
    "# this ensures that the current MacOS version is at least 12.3+\n",
    "print(torch.backends.mps.is_available())\n",
    "# this ensures that the current current PyTorch installation was built with MPS activated.\n",
    "print(torch.backends.mps.is_built())"
   ]
  },
  {
   "cell_type": "code",
   "execution_count": 3,
   "metadata": {},
   "outputs": [
    {
     "name": "stdout",
     "output_type": "stream",
     "text": [
      "mps\n"
     ]
    }
   ],
   "source": [
    "device = torch.device(\"mps\" if torch.backends.mps.is_available() else \"cpu\")\n",
    "# device = torch.device(\"cpu\")\n",
    "print(device)"
   ]
  },
  {
   "attachments": {},
   "cell_type": "markdown",
   "metadata": {},
   "source": [
    "## datasets\n",
    "generate datasets from file: Hw04_1_generate_data.ipynb."
   ]
  },
  {
   "cell_type": "code",
   "execution_count": 4,
   "metadata": {},
   "outputs": [
    {
     "name": "stdout",
     "output_type": "stream",
     "text": [
      "train data shape: (7000, 6)\n",
      "valid data shape: (2000, 6)\n",
      "test data shape: (1000, 6)\n"
     ]
    }
   ],
   "source": [
    "#  讀取數據\n",
    "train_data = pd.read_csv('data/train.csv', header=None).values\n",
    "valid_data = pd.read_csv('data/valid.csv', header=None).values\n",
    "test_data = pd.read_csv('data/test.csv', header=None).values\n",
    "\n",
    "# 將數據轉換成 PyTorch 張量\n",
    "train_inputs = torch.from_numpy(train_data[:, :3]).float().to(device=device)\n",
    "train_outputs = torch.from_numpy(train_data[:, 3:]).float().to(device=device)\n",
    "valid_inputs = torch.from_numpy(valid_data[:, :3]).float().to(device=device)\n",
    "valid_outputs = torch.from_numpy(valid_data[:, 3:]).float().to(device=device)\n",
    "test_inputs = torch.from_numpy(test_data[:, :3]).float().to(device=device)\n",
    "test_outputs = torch.from_numpy(test_data[:, 3:]).float().to(device=device)\n",
    "\n",
    "print(\"train data shape:\", train_data.shape)\n",
    "print(\"valid data shape:\", valid_data.shape)\n",
    "print(\"test data shape:\", test_data.shape)"
   ]
  },
  {
   "attachments": {},
   "cell_type": "markdown",
   "metadata": {},
   "source": [
    "## model\n",
    "ref: https://pytorch.org/docs/stable/nn.html#non-linear-activations-weighted-sum-nonlinearity"
   ]
  },
  {
   "cell_type": "code",
   "execution_count": 5,
   "metadata": {},
   "outputs": [],
   "source": [
    "class BPNN(nn.Module):\n",
    "    def __init__(self, input_size, hidden_size, output_size):\n",
    "        super(BPNN, self).__init__()\n",
    "        self.layers = nn.Sequential(\n",
    "            nn.Linear(input_size, hidden_size),\n",
    "            nn.ReLU6(),\n",
    "            nn.Tanh(),\n",
    "            nn.Dropout(p=0.6),\n",
    "            nn.Linear(hidden_size, hidden_size),\n",
    "            nn.ReLU6(),\n",
    "            nn.Tanh(),\n",
    "            nn.Dropout(p=0.2),\n",
    "            nn.Linear(hidden_size, output_size)\n",
    "        )\n",
    "\n",
    "    def forward(self, x):\n",
    "        x = self.layers(x).squeeze()\n",
    "        return x\n"
   ]
  },
  {
   "attachments": {},
   "cell_type": "markdown",
   "metadata": {},
   "source": [
    "## parameter"
   ]
  },
  {
   "cell_type": "code",
   "execution_count": 6,
   "metadata": {},
   "outputs": [],
   "source": [
    "# 設定模型參數\n",
    "input_size = 3\n",
    "hidden_size = 64\n",
    "output_size = 3\n",
    "learning_rate = 0.1\n",
    "num_epochs = 100\n",
    "batch = 64"
   ]
  },
  {
   "cell_type": "code",
   "execution_count": 7,
   "metadata": {},
   "outputs": [],
   "source": [
    "# 使用TensorDataset和DataLoader進行批次讀取\n",
    "train_dataset = TensorDataset(train_inputs, train_outputs)\n",
    "train_dataloader = DataLoader(train_dataset, batch_size=batch, shuffle=True)\n",
    "valid_dataset = TensorDataset(valid_inputs, valid_outputs)\n",
    "valid_dataloader = DataLoader(valid_dataset, batch_size=batch, shuffle=True)"
   ]
  },
  {
   "attachments": {},
   "cell_type": "markdown",
   "metadata": {},
   "source": [
    "## loss and optimizer"
   ]
  },
  {
   "cell_type": "code",
   "execution_count": 8,
   "metadata": {},
   "outputs": [],
   "source": [
    "# 建立 BPNN 模型\n",
    "model = BPNN(input_size, hidden_size, output_size).to(device=device)\n",
    "\n",
    "# 定義損失函數和優化器\n",
    "criterion = nn.MSELoss()\n",
    "optimizer = optim.Adam(model.parameters(), lr=learning_rate)\n",
    "# optimizer = optim.AdamW(model.parameters(), lr=learning_rate, betas=(0.9, 0.999)) ## momentum\n",
    "scheduler = optim.lr_scheduler.StepLR(optimizer, step_size=1, gamma=0.1)\n"
   ]
  },
  {
   "attachments": {},
   "cell_type": "markdown",
   "metadata": {},
   "source": [
    "## train"
   ]
  },
  {
   "cell_type": "code",
   "execution_count": 9,
   "metadata": {},
   "outputs": [
    {
     "name": "stderr",
     "output_type": "stream",
     "text": [
      "100%|██████████| 100/100 [02:20<00:00,  1.40s/it, Train Loss=0.318, Valid Loss=0.317]\n"
     ]
    }
   ],
   "source": [
    "# 創建進度條\n",
    "pbar = tqdm(total=num_epochs)\n",
    "\n",
    "train_loss, valid_loss = [], [] # 紀錄loss\n",
    "for epoch in range(num_epochs):\n",
    "    for (x, target) in train_dataloader:\n",
    "        optimizer.zero_grad()\n",
    "        output = model(x)\n",
    "        loss = criterion(output, target)\n",
    "        loss.backward()\n",
    "        optimizer.step()\n",
    "        train_loss.append(loss.item())\n",
    "\n",
    "    # validation\n",
    "    model.eval()\n",
    "\n",
    "    for (x, target) in valid_dataloader:\n",
    "        output = model(x)\n",
    "        loss = criterion(output, target)\n",
    "        valid_loss.append(loss.item())\n",
    "\n",
    "    # 更新進度條的顯示信息\n",
    "    pbar.set_postfix({'Train Loss': np.mean(train_loss), 'Valid Loss': np.mean(valid_loss)})\n",
    "    pbar.update()\n",
    "\n",
    "    # 更新學習率\n",
    "    scheduler.step()\n",
    "\n",
    "# 關閉進度條\n",
    "pbar.close()"
   ]
  },
  {
   "cell_type": "code",
   "execution_count": 10,
   "metadata": {},
   "outputs": [
    {
     "data": {
      "image/png": "[encoded data removed]",
      "text/plain": [
       "<Figure size 1200x400 with 2 Axes>"
      ]
     },
     "metadata": {},
     "output_type": "display_data"
    }
   ],
   "source": [
    "import matplotlib.pyplot as plt\n",
    "\n",
    "# 繪製訓練集和驗證集的損失曲線\n",
    "fig, axs = plt.subplots(1, 2, figsize=(12, 4))\n",
    "axs[0].plot(train_loss, label='Training Loss')\n",
    "axs[0].set_title('Training Loss')\n",
    "axs[0].set_xlabel('Epoch')\n",
    "axs[0].set_ylabel('Loss')\n",
    "axs[0].legend()\n",
    "\n",
    "axs[1].plot(valid_loss, label='Validation Loss')\n",
    "axs[1].set_title('Validation Loss')\n",
    "axs[1].set_xlabel('Epoch')\n",
    "axs[1].set_ylabel('Loss')\n",
    "axs[1].legend()\n",
    "\n",
    "plt.show()\n"
   ]
  },
  {
   "attachments": {},
   "cell_type": "markdown",
   "metadata": {},
   "source": [
    "## test"
   ]
  },
  {
   "cell_type": "code",
   "execution_count": 11,
   "metadata": {},
   "outputs": [
    {
     "name": "stdout",
     "output_type": "stream",
     "text": [
      "Test Loss: 0.3338\n",
      "      x1         x2         x3      yd1      yd2      yd3      yp1      yp2      yp3       L1       L2       L3\n",
      "--------  ---------  ---------  -------  -------  -------  -------  -------  -------  -------  -------  -------\n",
      "100.4518   233.3061  -145.0876   1.1642   1.2137  -1.0868   1.2842   0.6275   0.0909  -0.1200   0.5862  -1.1776\n",
      " 33.8210   304.0570   -63.7883   1.4600   0.7328  -0.9142   1.5965   0.0105  -0.1342  -0.1365   0.7223  -0.7801\n",
      " 29.5888  -294.9337    51.9071  -1.4708   0.3549  -1.0922  -1.5524  -0.3055  -0.2553   0.0816   0.6604  -0.8368\n",
      "-36.9933   -46.7328   162.4600   0.9012  -1.3965  -1.5430  -0.2804  -1.3441  -0.7163   1.1816  -0.0525  -0.8267\n",
      " 38.2820    92.8940  -272.5775   1.1799   1.2010   0.4333   0.8350   1.0856   0.4470   0.3449   0.1154  -0.0137\n",
      " 76.5481  -308.3983   116.6177  -1.3275  -0.4239  -0.0047  -1.5494  -0.3106  -0.2577   0.2219  -0.1133   0.2530\n",
      " 10.8779    11.3436  -271.2765   0.8064   1.5035   0.4460   0.0134   1.2615   0.8885   0.7929   0.2420  -0.4425\n",
      " 93.6836   -81.5502  -273.2817  -0.7163   1.4514  -0.2069  -0.5551   0.9366   0.6451  -0.1611   0.5147  -0.8519\n",
      " 47.1129   151.3748   249.0838   1.2691  -1.5342   0.6448   0.9962  -0.9912  -0.4696   0.2728  -0.5429   1.1143\n"
     ]
    }
   ],
   "source": [
    "from tabulate import tabulate\n",
    "\n",
    "# 在測試集上評估模型\n",
    "with torch.no_grad():\n",
    "    test_outputs_pred = model(test_inputs)\n",
    "    test_loss = criterion(test_outputs_pred, test_outputs)\n",
    "    print(f'Test Loss: {test_loss.item():.4f}')\n",
    "\n",
    "    # 整理數據\n",
    "    data = []\n",
    "    for i in range(len(test_inputs[:9])):\n",
    "        x1, x2, x3, yd, yp = test_inputs[i][0], test_inputs[i][1], test_inputs[i][2], test_outputs[i], test_outputs_pred[i]\n",
    "        loss = yd - yp\n",
    "        row = [x1.item(), x2.item(), x3.item(), yd[0].item(), yd[1].item(), yd[2].item(), yp[0].item(), yp[1].item(), yp[2].item(), loss[0].item(), loss[1].item(), loss[2].item()]\n",
    "        data.append(row)\n",
    "\n",
    "    # 輸出表格\n",
    "    headers = [\"x1\", \"x2\", \"x3\", \"yd1\", \"yd2\", \"yd3\", \"yp1\", \"yp2\", \"yp3\", \"L1\", \"L2\", \"L3\"]\n",
    "    print(tabulate(data, headers=headers, floatfmt=\".4f\"))\n"
   ]
  }
 ],
 "metadata": {
  "kernelspec": {
   "display_name": "Python 3",
   "language": "python",
   "name": "python3"
  },
  "language_info": {
   "codemirror_mode": {
    "name": "ipython",
    "version": 3
   },
   "file_extension": ".py",
   "mimetype": "text/x-python",
   "name": "python",
   "nbconvert_exporter": "python",
   "pygments_lexer": "ipython3",
   "version": "3.10.11"
  },
  "orig_nbformat": 4
 },
 "nbformat": 4,
 "nbformat_minor": 2
}
