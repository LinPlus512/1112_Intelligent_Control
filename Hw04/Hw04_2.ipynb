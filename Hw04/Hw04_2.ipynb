{
 "cells": [
  {
   "attachments": {},
   "cell_type": "markdown",
   "metadata": {},
   "source": [
    "# Traget:\n",
    "Build a Backpropagation neural network (BPNN) program to approximate the six-hump camelback function. The program needs to be written in Python language and use the Pytorch package\n",
    "#### input: X, Y\n",
    "#### output: Z"
   ]
  },
  {
   "attachments": {},
   "cell_type": "markdown",
   "metadata": {},
   "source": [
    "## BPNN"
   ]
  },
  {
   "attachments": {},
   "cell_type": "markdown",
   "metadata": {},
   "source": [
    "## import package"
   ]
  },
  {
   "cell_type": "code",
   "execution_count": 286,
   "metadata": {},
   "outputs": [],
   "source": [
    "# !pip3 install --pre torch torchvision torchaudio --extra-index-url https://download.pytorch.org/whl/nightly/cpu"
   ]
  },
  {
   "cell_type": "code",
   "execution_count": 287,
   "metadata": {},
   "outputs": [],
   "source": [
    "import torch\n",
    "import torch.nn as nn\n",
    "import torch.optim as optim\n",
    "import numpy as np\n",
    "import pandas as pd\n",
    "from torch.utils.data import TensorDataset, DataLoader\n",
    "from tqdm import tqdm\n",
    "import os"
   ]
  },
  {
   "attachments": {},
   "cell_type": "markdown",
   "metadata": {},
   "source": [
    "## Check GPU info.\n",
    "ref: https://towardsdatascience.com/installing-pytorch-on-apple-m1-chip-with-gpu-acceleration-3351dc44d67c"
   ]
  },
  {
   "cell_type": "code",
   "execution_count": 288,
   "metadata": {},
   "outputs": [
    {
     "name": "stdout",
     "output_type": "stream",
     "text": [
      "True\n",
      "True\n"
     ]
    }
   ],
   "source": [
    "# this ensures that the current MacOS version is at least 12.3+\n",
    "print(torch.backends.mps.is_available())\n",
    "# this ensures that the current current PyTorch installation was built with MPS activated.\n",
    "print(torch.backends.mps.is_built())"
   ]
  },
  {
   "cell_type": "code",
   "execution_count": 289,
   "metadata": {},
   "outputs": [
    {
     "name": "stdout",
     "output_type": "stream",
     "text": [
      "mps\n"
     ]
    }
   ],
   "source": [
    "device = torch.device(\"mps\" if torch.backends.mps.is_available() else \"cpu\")\n",
    "# device = torch.device(\"cpu\")\n",
    "print(device)"
   ]
  },
  {
   "attachments": {},
   "cell_type": "markdown",
   "metadata": {},
   "source": [
    "## datasets\n",
    "generate datasets from file: Hw04_2_generate_data.ipynb."
   ]
  },
  {
   "cell_type": "code",
   "execution_count": 290,
   "metadata": {},
   "outputs": [
    {
     "name": "stdout",
     "output_type": "stream",
     "text": [
      "train data shape: (700, 3)\n",
      "valid data shape: (200, 3)\n",
      "test data shape: (100, 3)\n"
     ]
    }
   ],
   "source": [
    "#  讀取數據\n",
    "train_data = pd.read_csv('dataQ2/train.csv', header=None).values\n",
    "valid_data = pd.read_csv('dataQ2/valid.csv', header=None).values\n",
    "test_data = pd.read_csv('dataQ2/test.csv', header=None).values\n",
    "\n",
    "# 將數據轉換成 PyTorch 張量\n",
    "train_inputs = torch.from_numpy(train_data[:, :2]).float().to(device=device)\n",
    "train_outputs = torch.from_numpy(train_data[:, 2:]).float().to(device=device)\n",
    "valid_inputs = torch.from_numpy(valid_data[:, :2]).float().to(device=device)\n",
    "valid_outputs = torch.from_numpy(valid_data[:, 2:]).float().to(device=device)\n",
    "test_inputs = torch.from_numpy(test_data[:, :2]).float().to(device=device)\n",
    "test_outputs = torch.from_numpy(test_data[:, 2:]).float().to(device=device)\n",
    "\n",
    "print(\"train data shape:\", train_data.shape)\n",
    "print(\"valid data shape:\", valid_data.shape)\n",
    "print(\"test data shape:\", test_data.shape)"
   ]
  },
  {
   "attachments": {},
   "cell_type": "markdown",
   "metadata": {},
   "source": [
    "## model\n",
    "ref: https://pytorch.org/docs/stable/nn.html#non-linear-activations-weighted-sum-nonlinearity"
   ]
  },
  {
   "cell_type": "code",
   "execution_count": 291,
   "metadata": {},
   "outputs": [],
   "source": [
    "class BPNN(nn.Module):\n",
    "    def __init__(self, input_size, hidden_size, output_size):\n",
    "        super(BPNN, self).__init__()\n",
    "        self.layers = nn.Sequential(\n",
    "            nn.Linear(input_size, hidden_size),\n",
    "            nn.ReLU6(),\n",
    "            nn.Tanh(),\n",
    "            nn.Linear(hidden_size, hidden_size),\n",
    "            nn.ReLU6(),\n",
    "            nn.Tanh(),\n",
    "            nn.Linear(hidden_size, hidden_size),\n",
    "            nn.ReLU6(),\n",
    "            nn.Tanh(),\n",
    "            nn.Linear(hidden_size, hidden_size),\n",
    "            nn.ReLU6(),\n",
    "            nn.Tanh(),\n",
    "            nn.Linear(hidden_size, output_size)\n",
    "        )\n",
    "\n",
    "    def forward(self, x):\n",
    "        x = self.layers(x).squeeze()\n",
    "        return x\n"
   ]
  },
  {
   "attachments": {},
   "cell_type": "markdown",
   "metadata": {},
   "source": [
    "## parameter"
   ]
  },
  {
   "cell_type": "code",
   "execution_count": 292,
   "metadata": {},
   "outputs": [],
   "source": [
    "# 設定模型參數\n",
    "input_size = 2\n",
    "hidden_size = 64\n",
    "output_size = 1\n",
    "learning_rate = 0.1\n",
    "num_epochs = 100\n",
    "batch = 4"
   ]
  },
  {
   "cell_type": "code",
   "execution_count": 293,
   "metadata": {},
   "outputs": [],
   "source": [
    "# 使用TensorDataset和DataLoader進行批次讀取\n",
    "train_dataset = TensorDataset(train_inputs, train_outputs)\n",
    "train_dataloader = DataLoader(train_dataset, batch_size=batch, shuffle=True)\n",
    "valid_dataset = TensorDataset(valid_inputs, valid_outputs)\n",
    "valid_dataloader = DataLoader(valid_dataset, batch_size=batch, shuffle=True)"
   ]
  },
  {
   "attachments": {},
   "cell_type": "markdown",
   "metadata": {},
   "source": [
    "## loss and optimizer"
   ]
  },
  {
   "cell_type": "code",
   "execution_count": 294,
   "metadata": {},
   "outputs": [],
   "source": [
    "# 建立 BPNN 模型\n",
    "model = BPNN(input_size, hidden_size, output_size).to(device=device)\n",
    "\n",
    "# 定義損失函數和優化器\n",
    "criterion = nn.L1Loss()\n",
    "optimizer = optim.SGD(model.parameters(), lr=learning_rate)\n",
    "# optimizer = optim.AdamW(model.parameters(), lr=learning_rate, betas=(0.9, 0.999)) ## momentum\n",
    "scheduler = optim.lr_scheduler.StepLR(optimizer, step_size=1, gamma=0.1)\n"
   ]
  },
  {
   "attachments": {},
   "cell_type": "markdown",
   "metadata": {},
   "source": [
    "## train"
   ]
  },
  {
   "cell_type": "code",
   "execution_count": 295,
   "metadata": {},
   "outputs": [
    {
     "name": "stderr",
     "output_type": "stream",
     "text": [
      "  0%|          | 0/100 [00:00<?, ?it/s]/Users/linchenghao/Desktop/Master/01_Course/02_Intelligent_control/01_homework/.venv/lib/python3.10/site-packages/torch/nn/modules/loss.py:101: UserWarning: Using a target size (torch.Size([4, 1])) that is different to the input size (torch.Size([4])). This will likely lead to incorrect results due to broadcasting. Please ensure they have the same size.\n",
      "  return F.l1_loss(input, target, reduction=self.reduction)\n",
      "100%|██████████| 100/100 [01:49<00:00,  1.10s/it, Train Loss=58.8, Valid Loss=66.6]\n"
     ]
    }
   ],
   "source": [
    "# 創建進度條\n",
    "pbar = tqdm(total=num_epochs)\n",
    "\n",
    "train_loss, valid_loss = [], [] # 紀錄loss\n",
    "for epoch in range(num_epochs):\n",
    "    for (x, target) in train_dataloader:\n",
    "        optimizer.zero_grad()\n",
    "        output = model(x)\n",
    "        loss = criterion(output, target)\n",
    "        loss.backward()\n",
    "        optimizer.step()\n",
    "        train_loss.append(loss.item())\n",
    "\n",
    "    # validation\n",
    "    model.eval()\n",
    "\n",
    "    for (x, target) in valid_dataloader:\n",
    "        output = model(x)\n",
    "        loss = criterion(output, target)\n",
    "        valid_loss.append(loss.item())\n",
    "\n",
    "    # 更新進度條的顯示信息\n",
    "    pbar.set_postfix({'Train Loss': np.mean(train_loss), 'Valid Loss': np.mean(valid_loss)})\n",
    "    pbar.update()\n",
    "\n",
    "    # 更新學習率\n",
    "    scheduler.step()\n",
    "\n",
    "# 關閉進度條\n",
    "pbar.close()"
   ]
  },
  {
   "cell_type": "code",
   "execution_count": 296,
   "metadata": {},
   "outputs": [
    {
     "data": {
      "image/png": "[encoded data removed]",
      "text/plain": [
       "<Figure size 1200x400 with 2 Axes>"
      ]
     },
     "metadata": {},
     "output_type": "display_data"
    }
   ],
   "source": [
    "import matplotlib.pyplot as plt\n",
    "\n",
    "# 繪製訓練集和驗證集的損失曲線\n",
    "fig, axs = plt.subplots(1, 2, figsize=(12, 4))\n",
    "axs[0].plot(train_loss, label='Training Loss')\n",
    "axs[0].set_title('Training Loss')\n",
    "axs[0].set_xlabel('Epoch')\n",
    "axs[0].set_ylabel('Loss')\n",
    "axs[0].legend()\n",
    "\n",
    "axs[1].plot(valid_loss, label='Validation Loss')\n",
    "axs[1].set_title('Validation Loss')\n",
    "axs[1].set_xlabel('Epoch')\n",
    "axs[1].set_ylabel('Loss')\n",
    "axs[1].legend()\n",
    "\n",
    "plt.show()"
   ]
  },
  {
   "attachments": {},
   "cell_type": "markdown",
   "metadata": {},
   "source": [
    "## test"
   ]
  },
  {
   "cell_type": "code",
   "execution_count": 297,
   "metadata": {},
   "outputs": [
    {
     "name": "stdout",
     "output_type": "stream",
     "text": [
      "Test Loss: 62.1670\n"
     ]
    },
    {
     "name": "stderr",
     "output_type": "stream",
     "text": [
      "/Users/linchenghao/Desktop/Master/01_Course/02_Intelligent_control/01_homework/.venv/lib/python3.10/site-packages/torch/nn/modules/loss.py:101: UserWarning: Using a target size (torch.Size([100, 1])) that is different to the input size (torch.Size([100])). This will likely lead to incorrect results due to broadcasting. Please ensure they have the same size.\n",
      "  return F.l1_loss(input, target, reduction=self.reduction)\n"
     ]
    }
   ],
   "source": [
    "# 在測試集上評估模型\n",
    "with torch.no_grad():\n",
    "    test_outputs_pred = model(test_inputs)\n",
    "    test_loss = criterion(test_outputs_pred, test_outputs)\n",
    "    print(f'Test Loss: {test_loss.item():.4f}')"
   ]
  },
  {
   "cell_type": "code",
   "execution_count": 299,
   "metadata": {},
   "outputs": [
    {
     "name": "stdout",
     "output_type": "stream",
     "text": [
      "Test Loss: 62.1670\n",
      "     x1       x2        yd       yp      loss\n",
      "-------  -------  --------  -------  --------\n",
      " 1.0587  -0.6589    0.6344  39.4974  -38.8630\n",
      "-2.4024  -0.9316   18.9986  39.6158  -20.6173\n",
      " 1.1863  -1.4801   11.0770  39.5851  -28.5080\n",
      " 2.3750   0.5557   16.0343  39.7372  -23.7028\n",
      " 2.1777  -0.3962    5.8991  39.6822  -33.7831\n",
      " 1.5894   1.5514   18.0892  39.7504  -21.6611\n",
      " 1.0873   2.6448  172.9600  39.7881  133.1719\n",
      " 0.6584  -2.5182  135.1911  39.6807   95.5104\n",
      " 1.6921   1.2236    7.1086  39.7324  -32.6238\n",
      " 1.0653   2.2019   79.3027  39.7753   39.5275\n"
     ]
    }
   ],
   "source": [
    "from tabulate import tabulate\n",
    "\n",
    "# 在測試集上評估模型\n",
    "with torch.no_grad():\n",
    "    test_outputs_pred = model(test_inputs)\n",
    "    test_loss = criterion(test_outputs_pred, test_outputs)\n",
    "    print(f'Test Loss: {test_loss.item():.4f}')\n",
    "\n",
    "    # 整理數據\n",
    "    data = []\n",
    "    for i in range(len(test_inputs[:10])):\n",
    "        x1, x2, yd, yp = test_inputs[i][0], test_inputs[i][1], test_outputs[i], test_outputs_pred[i]\n",
    "        loss = yd - yp\n",
    "        row = [x1.item(), x2.item(), yd.item(), yp.item(), loss.item()]\n",
    "        data.append(row)\n",
    "\n",
    "    # 輸出表格\n",
    "    headers = [\"x1\", \"x2\", \"yd\", \"yp\", \"loss\"]\n",
    "    print(tabulate(data, headers=headers, floatfmt=\".4f\"))\n"
   ]
  }
 ],
 "metadata": {
  "kernelspec": {
   "display_name": "myenv",
   "language": "python",
   "name": "python3"
  },
  "language_info": {
   "codemirror_mode": {
    "name": "ipython",
    "version": 3
   },
   "file_extension": ".py",
   "mimetype": "text/x-python",
   "name": "python",
   "nbconvert_exporter": "python",
   "pygments_lexer": "ipython3",
   "version": "3.10.11"
  },
  "orig_nbformat": 4
 },
 "nbformat": 4,
 "nbformat_minor": 2
}
