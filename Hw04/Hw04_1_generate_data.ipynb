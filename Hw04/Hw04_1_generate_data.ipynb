{
 "cells": [
  {
   "attachments": {},
   "cell_type": "markdown",
   "metadata": {},
   "source": [
    "# Generate the datasets\n",
    "This program is used to generate the data, including test.csv, train.csv, valid.csv."
   ]
  },
  {
   "attachments": {},
   "cell_type": "markdown",
   "metadata": {},
   "source": [
    "## import package"
   ]
  },
  {
   "cell_type": "code",
   "execution_count": 1,
   "metadata": {},
   "outputs": [],
   "source": [
    "import numpy as np\n",
    "import pandas as pd\n",
    "import os\n",
    "from tqdm import tqdm"
   ]
  },
  {
   "attachments": {},
   "cell_type": "markdown",
   "metadata": {},
   "source": [
    "## parameter"
   ]
  },
  {
   "cell_type": "code",
   "execution_count": 2,
   "metadata": {},
   "outputs": [],
   "source": [
    "data_number = 10000\n",
    "\n",
    "# 定義資料數量、訓練集、驗證集和測試集的比例\n",
    "train_p, valid_p, test_p = 0.7, 0.2, 0.1"
   ]
  },
  {
   "attachments": {},
   "cell_type": "markdown",
   "metadata": {},
   "source": [
    "## define the kinematics function"
   ]
  },
  {
   "cell_type": "code",
   "execution_count": 3,
   "metadata": {},
   "outputs": [],
   "source": [
    "# 設定機械手臂的幾何參數\n",
    "L1 = 0.    # a1 = 0\n",
    "L2 = 135.  # a2 = 135\n",
    "L3 = 147.  # a3 = 147\n",
    "L4 = 61.   # a4 = 61\n",
    "\n",
    "# 正向運動學方程式\n",
    "def forward_kinematics_equations(theta):\n",
    "    C1 = np.cos(theta[:,0])\n",
    "    C2 = np.cos(theta[:,1])\n",
    "    C23 = np.cos(theta[:,1] + theta[:,2])\n",
    "    S1 = np.sin(theta[:,0])\n",
    "    S2 = np.sin(theta[:,1])\n",
    "    S23 = np.sin(theta[:,1] + theta[:,2])\n",
    "\n",
    "    x = C1 * (L3 * C23 + L2 * C2 + L4)\n",
    "    y = S1 * (L3 * C23 + L2 * C2 + L4)\n",
    "    z = -L2 * S2 - L3 * S23 \n",
    "\n",
    "    return np.vstack((x, y, z)).T"
   ]
  },
  {
   "attachments": {},
   "cell_type": "markdown",
   "metadata": {},
   "source": [
    "## generate the random thetas(joints)"
   ]
  },
  {
   "cell_type": "code",
   "execution_count": 4,
   "metadata": {},
   "outputs": [],
   "source": [
    "thetas = np.random.uniform(-np.pi/2, np.pi/2, size=(data_number, 3))\n",
    "# print(thetas)"
   ]
  },
  {
   "attachments": {},
   "cell_type": "markdown",
   "metadata": {},
   "source": [
    "## thetas to positions"
   ]
  },
  {
   "cell_type": "code",
   "execution_count": 5,
   "metadata": {},
   "outputs": [],
   "source": [
    "points = forward_kinematics_equations(thetas)\n",
    "datasets = np.hstack((points, thetas))\n",
    "# print(datasets[:2,:]) # x, y, z, t1, t2, t3"
   ]
  },
  {
   "cell_type": "code",
   "execution_count": 6,
   "metadata": {},
   "outputs": [
    {
     "name": "stdout",
     "output_type": "stream",
     "text": [
      "(7000, 6) (2000, 6) (1000, 6)\n"
     ]
    }
   ],
   "source": [
    "# 計算資料集中各個部分的數量\n",
    "train_num = int(data_number * train_p)\n",
    "valid_num = int(data_number * valid_p)\n",
    "test_num = data_number - train_num - valid_num\n",
    "train = datasets[:train_num, :]\n",
    "valid = datasets[train_num:train_num+valid_num, :]\n",
    "test  = datasets[train_num+valid_num:data_number, :]\n",
    "print(train.shape, valid.shape, test.shape)\n"
   ]
  },
  {
   "attachments": {},
   "cell_type": "markdown",
   "metadata": {},
   "source": [
    "## save datasets"
   ]
  },
  {
   "cell_type": "code",
   "execution_count": 7,
   "metadata": {},
   "outputs": [],
   "source": [
    "# 創建data文件夾（如果不存在）\n",
    "os.makedirs('data', exist_ok=True)"
   ]
  },
  {
   "cell_type": "code",
   "execution_count": 8,
   "metadata": {},
   "outputs": [],
   "source": [
    "# 將資料寫入檔案\n",
    "np.savetxt('data/train.csv', train, delimiter=',')\n",
    "np.savetxt('data/valid.csv', valid, delimiter=',')\n",
    "np.savetxt('data/test.csv', test, delimiter=',')"
   ]
  }
 ],
 "metadata": {
  "kernelspec": {
   "display_name": "myenv",
   "language": "python",
   "name": "python3"
  },
  "language_info": {
   "codemirror_mode": {
    "name": "ipython",
    "version": 3
   },
   "file_extension": ".py",
   "mimetype": "text/x-python",
   "name": "python",
   "nbconvert_exporter": "python",
   "pygments_lexer": "ipython3",
   "version": "3.10.6"
  },
  "orig_nbformat": 4
 },
 "nbformat": 4,
 "nbformat_minor": 2
}
