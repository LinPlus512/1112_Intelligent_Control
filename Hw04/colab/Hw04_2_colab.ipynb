{
  "cells": [
    {
      "cell_type": "markdown",
      "metadata": {
        "id": "vOkLsG9v4K7Q"
      },
      "source": [
        "# Traget:\n",
        "Build a Backpropagation neural network (BPNN) program to approximate the six-hump camelback function. The program needs to be written in Python language and use the Pytorch package\n",
        "#### input: X, Y\n",
        "#### output: Z"
      ]
    },
    {
      "cell_type": "markdown",
      "source": [
        "## connect the driver"
      ],
      "metadata": {
        "id": "xwf4OSXu4dAe"
      }
    },
    {
      "cell_type": "code",
      "source": [
        "from google.colab import drive\n",
        "drive.mount('/content/drive')\n",
        "!ls -l"
      ],
      "metadata": {
        "colab": {
          "base_uri": "https://localhost:8080/"
        },
        "id": "971CBerO4ZMo",
        "outputId": "0eadea65-9045-4689-899d-ca3ce7395f52"
      },
      "execution_count": 43,
      "outputs": [
        {
          "output_type": "stream",
          "name": "stdout",
          "text": [
            "Drive already mounted at /content/drive; to attempt to forcibly remount, call drive.mount(\"/content/drive\", force_remount=True).\n",
            "total 756\n",
            "drwx------ 5 root root   4096 Apr 19 14:20 drive\n",
            "drwxr-xr-x 1 root root   4096 Apr 14 13:35 sample_data\n",
            "-rw-r--r-- 1 root root  76006 Apr 19 14:19 test.csv\n",
            "-rw-r--r-- 1 root root 532139 Apr 19 14:19 train.csv\n",
            "-rw-r--r-- 1 root root 152015 Apr 19 14:19 valid.csv\n"
          ]
        }
      ]
    },
    {
      "cell_type": "markdown",
      "metadata": {
        "id": "g7D922HZ4K7S"
      },
      "source": [
        "## BPNN"
      ]
    },
    {
      "cell_type": "markdown",
      "metadata": {
        "id": "bK90VgNZ4K7S"
      },
      "source": [
        "## import package"
      ]
    },
    {
      "cell_type": "code",
      "execution_count": 44,
      "metadata": {
        "id": "3ux5a9vO4K7T"
      },
      "outputs": [],
      "source": [
        "# !pip3 install --pre torch torchvision torchaudio --extra-index-url https://download.pytorch.org/whl/nightly/cpu"
      ]
    },
    {
      "cell_type": "code",
      "execution_count": 45,
      "metadata": {
        "id": "EV7p1rBd4K7T"
      },
      "outputs": [],
      "source": [
        "import torch\n",
        "import torch.nn as nn\n",
        "import torch.optim as optim\n",
        "import numpy as np\n",
        "import pandas as pd\n",
        "from torch.utils.data import TensorDataset, DataLoader\n",
        "from tqdm import tqdm"
      ]
    },
    {
      "cell_type": "markdown",
      "metadata": {
        "id": "xdZiI1Tu4K7U"
      },
      "source": [
        "## Check GPU info.\n",
        "ref: https://towardsdatascience.com/installing-pytorch-on-apple-m1-chip-with-gpu-acceleration-3351dc44d67c"
      ]
    },
    {
      "cell_type": "code",
      "execution_count": 46,
      "metadata": {
        "colab": {
          "base_uri": "https://localhost:8080/"
        },
        "id": "7Qz6bw5z4K7U",
        "outputId": "2f56537f-972f-409d-b325-bebf7cb8989c"
      },
      "outputs": [
        {
          "output_type": "stream",
          "name": "stdout",
          "text": [
            "cuda\n"
          ]
        }
      ],
      "source": [
        "device = torch.device(\"cuda\" if torch.cuda.is_available() else \"cpu\")\n",
        "# device = torch.device(\"cpu\")\n",
        "print(device)"
      ]
    },
    {
      "cell_type": "markdown",
      "metadata": {
        "id": "pYkf5Ij74K7U"
      },
      "source": [
        "## datasets\n",
        "generate datasets from file: Hw04_2_generate_data.ipynb."
      ]
    },
    {
      "cell_type": "code",
      "execution_count": 47,
      "metadata": {
        "colab": {
          "base_uri": "https://localhost:8080/"
        },
        "id": "WPFqSa8B4K7U",
        "outputId": "106e427d-af7e-4716-ac4c-bb798b78729b"
      },
      "outputs": [
        {
          "output_type": "stream",
          "name": "stdout",
          "text": [
            "train data shape: (7000, 3)\n",
            "valid data shape: (2000, 3)\n",
            "test data shape: (1000, 3)\n"
          ]
        }
      ],
      "source": [
        "#  讀取數據\n",
        "train_data = pd.read_csv('/content/train.csv', header=None).values\n",
        "valid_data = pd.read_csv('/content/valid.csv', header=None).values\n",
        "test_data = pd.read_csv('/content/test.csv', header=None).values\n",
        "\n",
        "# 將數據轉換成 PyTorch 張量\n",
        "train_inputs = torch.from_numpy(train_data[:, :2]).float().to(device=device)\n",
        "train_outputs = torch.from_numpy(train_data[:, 2:]).float().to(device=device)\n",
        "valid_inputs = torch.from_numpy(valid_data[:, :2]).float().to(device=device)\n",
        "valid_outputs = torch.from_numpy(valid_data[:, 2:]).float().to(device=device)\n",
        "test_inputs = torch.from_numpy(test_data[:, :2]).float().to(device=device)\n",
        "test_outputs = torch.from_numpy(test_data[:, 2:]).float().to(device=device)\n",
        "\n",
        "print(\"train data shape:\", train_data.shape)\n",
        "print(\"valid data shape:\", valid_data.shape)\n",
        "print(\"test data shape:\", test_data.shape)"
      ]
    },
    {
      "cell_type": "markdown",
      "metadata": {
        "id": "16fzY7CP4K7V"
      },
      "source": [
        "## model\n",
        "ref: https://pytorch.org/docs/stable/nn.html#non-linear-activations-weighted-sum-nonlinearity"
      ]
    },
    {
      "cell_type": "code",
      "execution_count": 48,
      "metadata": {
        "id": "gcsX7tMG4K7V"
      },
      "outputs": [],
      "source": [
        "class BPNN(nn.Module):\n",
        "    def __init__(self, input_size, hidden_size, output_size):\n",
        "        super(BPNN, self).__init__()\n",
        "        self.layers = nn.Sequential(\n",
        "            nn.Linear(input_size, hidden_size),\n",
        "            nn.ReLU6(),\n",
        "            nn.Tanh(),\n",
        "            nn.Linear(hidden_size, hidden_size),\n",
        "            nn.ReLU6(),\n",
        "            nn.Tanh(),\n",
        "            nn.Linear(hidden_size, hidden_size),\n",
        "            nn.ReLU6(),\n",
        "            nn.Tanh(),\n",
        "            nn.Linear(hidden_size, hidden_size),\n",
        "            nn.ReLU6(),\n",
        "            nn.Tanh(),\n",
        "            nn.Linear(hidden_size, output_size)\n",
        "        )\n",
        "\n",
        "    def forward(self, x):\n",
        "        x = self.layers(x).squeeze()\n",
        "        return x\n"
      ]
    },
    {
      "cell_type": "markdown",
      "metadata": {
        "id": "LJ8JSqRE4K7W"
      },
      "source": [
        "## parameter"
      ]
    },
    {
      "cell_type": "code",
      "execution_count": 49,
      "metadata": {
        "id": "3FcPYY9h4K7W"
      },
      "outputs": [],
      "source": [
        "# 設定模型參數\n",
        "input_size = 2\n",
        "hidden_size = 64\n",
        "output_size = 1\n",
        "learning_rate = 0.1\n",
        "num_epochs = 100\n",
        "batch = 4"
      ]
    },
    {
      "cell_type": "code",
      "execution_count": 50,
      "metadata": {
        "id": "g6mhMZmY4K7W"
      },
      "outputs": [],
      "source": [
        "# 使用TensorDataset和DataLoader進行批次讀取\n",
        "train_dataset = TensorDataset(train_inputs, train_outputs)\n",
        "train_dataloader = DataLoader(train_dataset, batch_size=batch, shuffle=True)\n",
        "valid_dataset = TensorDataset(valid_inputs, valid_outputs)\n",
        "valid_dataloader = DataLoader(valid_dataset, batch_size=batch, shuffle=True)"
      ]
    },
    {
      "cell_type": "markdown",
      "metadata": {
        "id": "JRuJiojk4K7W"
      },
      "source": [
        "## loss and optimizer"
      ]
    },
    {
      "cell_type": "code",
      "execution_count": 51,
      "metadata": {
        "id": "GNgWm8C84K7W"
      },
      "outputs": [],
      "source": [
        "# 建立 BPNN 模型\n",
        "model = BPNN(input_size, hidden_size, output_size).to(device=device)\n",
        "\n",
        "# 定義損失函數和優化器\n",
        "criterion = nn.L1Loss()\n",
        "optimizer = optim.SGD(model.parameters(), lr=learning_rate)\n",
        "# optimizer = optim.AdamW(model.parameters(), lr=learning_rate, betas=(0.9, 0.999)) ## momentum\n",
        "scheduler = optim.lr_scheduler.StepLR(optimizer, step_size=1, gamma=0.1)\n"
      ]
    },
    {
      "cell_type": "markdown",
      "metadata": {
        "id": "4pvip7de4K7W"
      },
      "source": [
        "## train"
      ]
    },
    {
      "cell_type": "code",
      "execution_count": 52,
      "metadata": {
        "colab": {
          "base_uri": "https://localhost:8080/"
        },
        "id": "AwSa_5oM4K7X",
        "outputId": "2fee0a33-52bf-4589-d017-7be2cd5e7792"
      },
      "outputs": [
        {
          "output_type": "stream",
          "name": "stderr",
          "text": [
            "\r  0%|          | 0/100 [00:00<?, ?it/s]/usr/local/lib/python3.9/dist-packages/torch/nn/modules/loss.py:101: UserWarning: Using a target size (torch.Size([4, 1])) that is different to the input size (torch.Size([4])). This will likely lead to incorrect results due to broadcasting. Please ensure they have the same size.\n",
            "  return F.l1_loss(input, target, reduction=self.reduction)\n",
            "100%|██████████| 100/100 [03:34<00:00,  2.14s/it, Train Loss=850, Valid Loss=836]\n"
          ]
        }
      ],
      "source": [
        "# 創建進度條\n",
        "pbar = tqdm(total=num_epochs)\n",
        "\n",
        "train_loss, valid_loss = [], [] # 紀錄loss\n",
        "for epoch in range(num_epochs):\n",
        "    for (x, target) in train_dataloader:\n",
        "        optimizer.zero_grad()\n",
        "        output = model(x)\n",
        "        loss = criterion(output, target)\n",
        "        loss.backward()\n",
        "        optimizer.step()\n",
        "        train_loss.append(loss.item())\n",
        "\n",
        "    # validation\n",
        "    model.eval()\n",
        "\n",
        "    for (x, target) in valid_dataloader:\n",
        "        output = model(x)\n",
        "        loss = criterion(output, target)\n",
        "        valid_loss.append(loss.item())\n",
        "\n",
        "    # 更新進度條的顯示信息\n",
        "    pbar.set_postfix({'Train Loss': np.mean(train_loss), 'Valid Loss': np.mean(valid_loss)})\n",
        "    pbar.update()\n",
        "\n",
        "    # 更新學習率\n",
        "    scheduler.step()\n",
        "\n",
        "# 關閉進度條\n",
        "pbar.close()"
      ]
    },
    {
      "cell_type": "code",
      "execution_count": 53,
      "metadata": {
        "colab": {
          "base_uri": "https://localhost:8080/",
          "height": 369
        },
        "id": "wR0ZOp1-4K7X",
        "outputId": "7e4a2c5d-40a7-4fa2-f928-cd46292687ac"
      },
      "outputs": [
        {
          "output_type": "display_data",
          "data": {
            "text/plain": [
              "<Figure size 1200x400 with 2 Axes>"
            ],
            "image/png": "[encoded data removed]"
          },
          "metadata": {}
        }
      ],
      "source": [
        "import matplotlib.pyplot as plt\n",
        "\n",
        "# 繪製訓練集和驗證集的損失曲線\n",
        "fig, axs = plt.subplots(1, 2, figsize=(12, 4))\n",
        "axs[0].plot(train_loss, label='Training Loss')\n",
        "axs[0].set_title('Training Loss')\n",
        "axs[0].set_xlabel('Epoch')\n",
        "axs[0].set_ylabel('Loss')\n",
        "axs[0].legend()\n",
        "\n",
        "axs[1].plot(valid_loss, label='Validation Loss')\n",
        "axs[1].set_title('Validation Loss')\n",
        "axs[1].set_xlabel('Epoch')\n",
        "axs[1].set_ylabel('Loss')\n",
        "axs[1].legend()\n",
        "\n",
        "plt.show()"
      ]
    },
    {
      "cell_type": "markdown",
      "metadata": {
        "id": "RLoIdGsP4K7X"
      },
      "source": [
        "## test"
      ]
    },
    {
      "cell_type": "code",
      "execution_count": 54,
      "metadata": {
        "colab": {
          "base_uri": "https://localhost:8080/"
        },
        "id": "se2Aacyx4K7X",
        "outputId": "26e51993-7636-4c0d-a5a5-76daf9017494"
      },
      "outputs": [
        {
          "output_type": "stream",
          "name": "stdout",
          "text": [
            "Test Loss: 883.1729\n"
          ]
        },
        {
          "output_type": "stream",
          "name": "stderr",
          "text": [
            "/usr/local/lib/python3.9/dist-packages/torch/nn/modules/loss.py:101: UserWarning: Using a target size (torch.Size([1000, 1])) that is different to the input size (torch.Size([1000])). This will likely lead to incorrect results due to broadcasting. Please ensure they have the same size.\n",
            "  return F.l1_loss(input, target, reduction=self.reduction)\n"
          ]
        }
      ],
      "source": [
        "from tabulate import tabulate\n",
        "\n",
        "# 在測試集上評估模型\n",
        "with torch.no_grad():\n",
        "    test_outputs_pred = model(test_inputs)\n",
        "    test_loss = criterion(test_outputs_pred, test_outputs)\n",
        "    print(f'Test Loss: {test_loss.item():.4f}')\n",
        "\n",
        "    # 整理數據\n",
        "    data = []\n",
        "    for i in range(len(test_inputs[:10])):\n",
        "        x1, x2, yd, yp = test_inputs[i][0], test_inputs[i][1], test_outputs[i], test_outputs_pred[i]\n",
        "        loss = yd - yp\n",
        "        row = [x1.item(), x2.item(), yd.item(), yp.item(), loss.item()]\n",
        "        data.append(row)\n",
        "\n",
        "    # 輸出表格\n",
        "    headers = [\"x1\", \"x2\", \"yd\", \"yp\", \"loss\"]\n",
        "    print(tabulate(data, headers=headers, floatfmt=\".4f\"))\n"
      ]
    }
  ],
  "metadata": {
    "kernelspec": {
      "display_name": "myenv",
      "language": "python",
      "name": "python3"
    },
    "language_info": {
      "codemirror_mode": {
        "name": "ipython",
        "version": 3
      },
      "file_extension": ".py",
      "mimetype": "text/x-python",
      "name": "python",
      "nbconvert_exporter": "python",
      "pygments_lexer": "ipython3",
      "version": "3.10.6"
    },
    "orig_nbformat": 4,
    "colab": {
      "provenance": []
    },
    "accelerator": "GPU",
    "gpuClass": "standard"
  },
  "nbformat": 4,
  "nbformat_minor": 0
}