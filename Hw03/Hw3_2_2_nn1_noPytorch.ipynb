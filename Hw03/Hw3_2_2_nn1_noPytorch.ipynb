{
 "cells": [
  {
   "attachments": {},
   "cell_type": "markdown",
   "metadata": {},
   "source": [
    "# Realize HW03 question 2-2 with no Pytorch (nn1)"
   ]
  },
  {
   "cell_type": "markdown",
   "metadata": {},
   "source": [
    "## import package"
   ]
  },
  {
   "cell_type": "code",
   "execution_count": 10,
   "metadata": {},
   "outputs": [],
   "source": [
    "import numpy as np\n",
    "import matplotlib.pyplot as plt\n",
    "from tqdm import tqdm"
   ]
  },
  {
   "cell_type": "markdown",
   "metadata": {},
   "source": [
    "## define parameter"
   ]
  },
  {
   "cell_type": "code",
   "execution_count": 11,
   "metadata": {},
   "outputs": [],
   "source": [
    "# inputs\n",
    "x = np.array([[-1., -1.],\n",
    "              [-1.,  1.],\n",
    "              [ 1., -1.],\n",
    "              [ 1.,  1.]])\n",
    "# desire output\n",
    "Yd = np.array([[0.],\n",
    "               [1.],\n",
    "               [1.],\n",
    "               [0.]])\n",
    "\n",
    "# nn model 1\n",
    "## hidden layer weight\n",
    "wh = np.array([[0.2, -0.4],\n",
    "              [0.2, -0.2]])\n",
    "\n",
    "## hidden layer bias\n",
    "bh = np.array([-0.8, 0.1])\n",
    "## output layer weight wy\n",
    "wy = np.array([0.1, -0.4])\n",
    "## output layer bias by\n",
    "by = -0.3\n",
    "\n",
    "# learning rate\n",
    "lr = 0.1\n",
    "\n",
    "\n",
    "# epochs\n",
    "epochs = 40000\n"
   ]
  },
  {
   "attachments": {},
   "cell_type": "markdown",
   "metadata": {},
   "source": [
    "## define Activation Function"
   ]
  },
  {
   "cell_type": "code",
   "execution_count": 12,
   "metadata": {},
   "outputs": [],
   "source": [
    "def sigmoid(x):\n",
    "    return 1 / (1 + np.exp(-x))\n"
   ]
  },
  {
   "attachments": {},
   "cell_type": "markdown",
   "metadata": {},
   "source": [
    "## gradient of active function\n",
    "#### ref: https://towardsdatascience.com/derivative-of-the-sigmoid-function-536880cf918e"
   ]
  },
  {
   "cell_type": "code",
   "execution_count": 13,
   "metadata": {},
   "outputs": [],
   "source": [
    "def sigmoid_der(x):\n",
    "    return x * (1 - x)\n"
   ]
  },
  {
   "cell_type": "code",
   "execution_count": 14,
   "metadata": {},
   "outputs": [
    {
     "name": "stderr",
     "output_type": "stream",
     "text": [
      "100%|██████████| 40000/40000 [00:01<00:00, 23745.68it/s]\n"
     ]
    }
   ],
   "source": [
    "log = []\n",
    "# training loop\n",
    "for i in tqdm(range(epochs)):\n",
    "    # forward pass\n",
    "    zh = np.dot(x, wh) + bh\n",
    "    ah = sigmoid(zh) # hidden_layer output\n",
    "    zy = np.dot(ah, wy) + by\n",
    "    y_pred = sigmoid(zy) # output\n",
    "    y_pred = y_pred.reshape(Yd.shape)\n",
    "\n",
    "    # error calculate\n",
    "    error = Yd - y_pred\n",
    "    ## MSE\n",
    "    loss = np.mean(error**2) \n",
    "    log.append(loss.tolist())\n",
    "    \n",
    "    # backward pass\n",
    "    delta = error * sigmoid_der(y_pred)\n",
    "    delta_h = np.dot(delta, wy.reshape(1, 2)) * sigmoid_der(ah)\n",
    "    \n",
    "    # update weights and bias\n",
    "    wy += lr * np.dot(ah.T, delta).reshape(wy.shape)\n",
    "    by += lr * np.sum(delta, axis=0)\n",
    "    wh += lr * np.dot(x.T, delta_h).reshape(wh.shape)\n",
    "    bh += lr * np.sum(delta_h, axis=0)"
   ]
  },
  {
   "cell_type": "code",
   "execution_count": 15,
   "metadata": {},
   "outputs": [
    {
     "name": "stdout",
     "output_type": "stream",
     "text": [
      "[[0.01876812]\n",
      " [0.97907962]\n",
      " [0.9790796 ]\n",
      " [0.01892352]]\n"
     ]
    }
   ],
   "source": [
    "print(y_pred)"
   ]
  },
  {
   "attachments": {},
   "cell_type": "markdown",
   "metadata": {},
   "source": [
    "## Plot the loss curve"
   ]
  },
  {
   "cell_type": "code",
   "execution_count": 16,
   "metadata": {},
   "outputs": [
    {
     "data": {
      "image/png": "[encoded data removed]",
      "text/plain": [
       "<Figure size 640x480 with 1 Axes>"
      ]
     },
     "metadata": {},
     "output_type": "display_data"
    }
   ],
   "source": [
    "# plot loss curve with stride\n",
    "plt.plot(np.array(log).flatten())\n",
    "plt.xlabel('Epochs')\n",
    "plt.ylabel('Loss')\n",
    "plt.title('Training Loss')\n",
    "plt.show()"
   ]
  }
 ],
 "metadata": {
  "kernelspec": {
   "display_name": "myenv",
   "language": "python",
   "name": "python3"
  },
  "language_info": {
   "codemirror_mode": {
    "name": "ipython",
    "version": 3
   },
   "file_extension": ".py",
   "mimetype": "text/x-python",
   "name": "python",
   "nbconvert_exporter": "python",
   "pygments_lexer": "ipython3",
   "version": "3.10.6"
  },
  "orig_nbformat": 4
 },
 "nbformat": 4,
 "nbformat_minor": 2
}
