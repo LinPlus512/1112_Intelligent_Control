{
 "cells": [
  {
   "attachments": {},
   "cell_type": "markdown",
   "metadata": {},
   "source": [
    "# Realize HW03 question 2-2 with no Pytorch (nn2)"
   ]
  },
  {
   "cell_type": "markdown",
   "metadata": {},
   "source": [
    "## import package"
   ]
  },
  {
   "cell_type": "code",
   "execution_count": 76,
   "metadata": {},
   "outputs": [],
   "source": [
    "import numpy as np\n",
    "import matplotlib.pyplot as plt\n",
    "from tqdm import tqdm"
   ]
  },
  {
   "cell_type": "markdown",
   "metadata": {},
   "source": [
    "## define parameter"
   ]
  },
  {
   "cell_type": "code",
   "execution_count": 77,
   "metadata": {},
   "outputs": [],
   "source": [
    "# inputs\n",
    "x = np.array([[-1., -1.],\n",
    "              [-1.,  1.],\n",
    "              [ 1., -1.],\n",
    "              [ 1.,  1.]])\n",
    "# desire output\n",
    "Yd = np.array([[0.],\n",
    "               [1.],\n",
    "               [1.],\n",
    "               [0.]])\n",
    "\n",
    "# nn model 1\n",
    "## hidden layer weight(1, 2)\n",
    "wh = np.array([[0.2, -0.4]])\n",
    "## hidden layer bias\n",
    "bh = -0.8\n",
    "## output layer weight wy\n",
    "wy = np.array([[0.2, -0.2, -0.4]])\n",
    "## output layer bias by\n",
    "by = -0.3\n",
    "\n",
    "# learning rate\n",
    "lr = 0.1\n",
    "\n",
    "\n",
    "# epochs\n",
    "epochs = 40000\n"
   ]
  },
  {
   "attachments": {},
   "cell_type": "markdown",
   "metadata": {},
   "source": [
    "## define active function"
   ]
  },
  {
   "cell_type": "code",
   "execution_count": 78,
   "metadata": {},
   "outputs": [],
   "source": [
    "def sigmoid(x):\n",
    "    return 1 / (1 + np.exp(-x))\n"
   ]
  },
  {
   "attachments": {},
   "cell_type": "markdown",
   "metadata": {},
   "source": [
    "## gradient of active function\n",
    "#### ref: https://towardsdatascience.com/derivative-of-the-sigmoid-function-536880cf918e"
   ]
  },
  {
   "cell_type": "code",
   "execution_count": 79,
   "metadata": {},
   "outputs": [],
   "source": [
    "def sigmoid_der(x): \n",
    "    return x * (1 - x)\n"
   ]
  },
  {
   "cell_type": "code",
   "execution_count": 80,
   "metadata": {},
   "outputs": [
    {
     "name": "stderr",
     "output_type": "stream",
     "text": [
      "100%|██████████| 40000/40000 [00:01<00:00, 21586.40it/s]\n"
     ]
    }
   ],
   "source": [
    "log = []\n",
    "for i in tqdm(range(epochs)):\n",
    "    # forward pass\n",
    "    zh = np.dot(x, wh.T) + bh\n",
    "    ah = sigmoid(zh)\n",
    "    zo = np.dot(np.hstack((x, ah)), wy.T) + by\n",
    "    y_pred = sigmoid(zo)\n",
    "\n",
    "    # error calculate\n",
    "    error = Yd - y_pred\n",
    "    ## MSE\n",
    "    loss = np.mean(error**2) \n",
    "    log.append(loss.tolist())\n",
    "\n",
    "    # backward pass\n",
    "    delta = error * sigmoid_der(y_pred)\n",
    "    delta_h = np.dot(delta, wy[:,-1].reshape(1, 1)) * sigmoid_der(ah)\n",
    "\n",
    "    # update weights and biases\n",
    "    wy += lr * np.dot(np.hstack((x, ah)).T, delta).reshape(wy.shape)\n",
    "    wh += lr * np.dot(x.T, delta_h).reshape(wh.shape)\n",
    "    by += lr * np.sum(delta, axis=0)\n",
    "    bh += lr * np.sum(delta_h, axis=0)\n"
   ]
  },
  {
   "cell_type": "code",
   "execution_count": 81,
   "metadata": {},
   "outputs": [
    {
     "name": "stdout",
     "output_type": "stream",
     "text": [
      "[[0.0243551 ]\n",
      " [0.97279503]\n",
      " [0.97279503]\n",
      " [0.02722222]]\n"
     ]
    }
   ],
   "source": [
    "print(y_pred)"
   ]
  },
  {
   "attachments": {},
   "cell_type": "markdown",
   "metadata": {},
   "source": [
    "## Plot the loss curve"
   ]
  },
  {
   "cell_type": "code",
   "execution_count": 82,
   "metadata": {},
   "outputs": [
    {
     "data": {
      "image/png": "[encoded data removed]",
      "text/plain": [
       "<Figure size 640x480 with 1 Axes>"
      ]
     },
     "metadata": {},
     "output_type": "display_data"
    }
   ],
   "source": [
    "# plot loss curve with stride\n",
    "plt.plot(np.array(log).flatten())\n",
    "plt.xlabel('Epochs')\n",
    "plt.ylabel('Loss')\n",
    "plt.title('Training Loss')\n",
    "plt.show()"
   ]
  }
 ],
 "metadata": {
  "kernelspec": {
   "display_name": "myenv",
   "language": "python",
   "name": "python3"
  },
  "language_info": {
   "codemirror_mode": {
    "name": "ipython",
    "version": 3
   },
   "file_extension": ".py",
   "mimetype": "text/x-python",
   "name": "python",
   "nbconvert_exporter": "python",
   "pygments_lexer": "ipython3",
   "version": "3.10.6"
  },
  "orig_nbformat": 4
 },
 "nbformat": 4,
 "nbformat_minor": 2
}
