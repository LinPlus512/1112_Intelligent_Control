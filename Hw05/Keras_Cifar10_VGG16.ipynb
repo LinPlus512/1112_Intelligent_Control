{
  "cells": [
    {
      "cell_type": "markdown",
      "metadata": {
        "id": "5QOa6XS0VbEC"
      },
      "source": [
        "# 1. Import Library"
      ]
    },
    {
      "cell_type": "code",
      "execution_count": 1,
      "metadata": {
        "id": "4Ro-69M1VbEF"
      },
      "outputs": [],
      "source": [
        "from keras.datasets import cifar10\n",
        "import numpy as np\n",
        "np.random.seed(10)"
      ]
    },
    {
      "cell_type": "markdown",
      "metadata": {
        "id": "dld3bCU7VbEG"
      },
      "source": [
        "# 資料準備"
      ]
    },
    {
      "cell_type": "code",
      "execution_count": 2,
      "metadata": {
        "colab": {
          "base_uri": "https://localhost:8080/"
        },
        "id": "DOCiNYJlVbEH",
        "outputId": "914aa496-74db-4324-f259-964354194c4b"
      },
      "outputs": [
        {
          "output_type": "stream",
          "name": "stdout",
          "text": [
            "Downloading data from https://www.cs.toronto.edu/~kriz/cifar-10-python.tar.gz\n",
            "170498071/170498071 [==============================] - 13s 0us/step\n"
          ]
        }
      ],
      "source": [
        "(x_img_train,y_label_train),(x_img_test,y_label_test)=cifar10.load_data()"
      ]
    },
    {
      "cell_type": "markdown",
      "source": [
        "自動下載data set"
      ],
      "metadata": {
        "id": "L6cFGQrweBLG"
      }
    },
    {
      "cell_type": "code",
      "execution_count": 3,
      "metadata": {
        "colab": {
          "base_uri": "https://localhost:8080/"
        },
        "id": "YKHihacaVbEH",
        "outputId": "681e422e-a90f-487a-8f26-8737a712a7ec"
      },
      "outputs": [
        {
          "output_type": "stream",
          "name": "stdout",
          "text": [
            "train data: images: (50000, 32, 32, 3)  labels: (50000, 1)\n",
            "test  data: images: (10000, 32, 32, 3)  labels: (10000, 1)\n"
          ]
        }
      ],
      "source": [
        "print(\"train data:\",'images:',x_img_train.shape,\n",
        "      \" labels:\",y_label_train.shape) \n",
        "print(\"test  data:\",'images:',x_img_test.shape ,\n",
        "      \" labels:\",y_label_test.shape) "
      ]
    },
    {
      "cell_type": "markdown",
      "source": [
        "順序標記訓練集和測試集的(資料數量,形狀和通道數量)\n",
        "例:(50000筆,像素32*32,RGB圖片通道為3)"
      ],
      "metadata": {
        "id": "73HGjZhXeLvF"
      }
    },
    {
      "cell_type": "code",
      "execution_count": 4,
      "metadata": {
        "id": "TG62WQJrVbEI"
      },
      "outputs": [],
      "source": [
        "x_img_train_normalize = x_img_train.astype('float32') / 255.0\n",
        "x_img_test_normalize = x_img_test.astype('float32') / 255.0"
      ]
    },
    {
      "cell_type": "markdown",
      "source": [
        "因為圖片像素數據以0到255表達，因此將數據(圖片)除以255,進行標準化,提高準確率"
      ],
      "metadata": {
        "id": "9FEp1tzLeWq7"
      }
    },
    {
      "cell_type": "code",
      "execution_count": 5,
      "metadata": {
        "id": "YEnPfn1yVbEI"
      },
      "outputs": [],
      "source": [
        "from keras.utils import np_utils\n",
        "y_label_train_OneHot = np_utils.to_categorical(y_label_train, 10)\n",
        "y_label_test_OneHot = np_utils.to_categorical(y_label_test, 10)"
      ]
    },
    {
      "cell_type": "markdown",
      "source": [
        "將圖片預先做好的標籤欄位轉換為Onehot encoding,方便後續繪制圖表時直接代入標籤文字"
      ],
      "metadata": {
        "id": "mdlSCouSf-h1"
      }
    },
    {
      "cell_type": "code",
      "execution_count": 6,
      "metadata": {
        "colab": {
          "base_uri": "https://localhost:8080/"
        },
        "id": "OWWaedrVVbEJ",
        "outputId": "94db44fc-f097-4070-dab1-f443c5e8bb44"
      },
      "outputs": [
        {
          "output_type": "execute_result",
          "data": {
            "text/plain": [
              "(10000, 10)"
            ]
          },
          "metadata": {},
          "execution_count": 6
        }
      ],
      "source": [
        "y_label_test_OneHot.shape"
      ]
    },
    {
      "cell_type": "markdown",
      "source": [
        "執行結果,數量為被處理的圖片數量"
      ],
      "metadata": {
        "id": "L2iTfAS9gfxt"
      }
    },
    {
      "cell_type": "markdown",
      "metadata": {
        "id": "RNQXhk4BVbEN"
      },
      "source": [
        "# 載入之前訓練的模型"
      ]
    },
    {
      "cell_type": "code",
      "source": [
        "from keras.applications.vgg16 import VGG16\n",
        "from keras.models import Model\n",
        "from keras.layers import Dense, Flatten\n",
        "\n",
        "# Load VGG16，and reshape into 32x32x3\n",
        "base_model = VGG16(weights='imagenet', include_top=False, input_shape=(32, 32, 3))\n",
        "\n",
        "# build the top\n",
        "x = base_model.output\n",
        "x = Flatten()(x)\n",
        "x = Dense(256, activation='relu')(x)\n",
        "predictions = Dense(10, activation='softmax')(x)\n",
        "\n",
        "# setup the model\n",
        "model = Model(inputs=base_model.input, outputs=predictions)\n",
        "\n",
        "# freeze the top of VGG16\n",
        "for layer in base_model.layers:\n",
        "    layer.trainable = False\n",
        "\n",
        "# compile the model\n",
        "model.compile(optimizer='rmsprop', loss='categorical_crossentropy', metrics=['accuracy'])\n"
      ],
      "metadata": {
        "colab": {
          "base_uri": "https://localhost:8080/"
        },
        "id": "tviIam3tvT7l",
        "outputId": "54462ba5-07ac-483b-d292-1e87622759a1"
      },
      "execution_count": 7,
      "outputs": [
        {
          "output_type": "stream",
          "name": "stdout",
          "text": [
            "Downloading data from https://storage.googleapis.com/tensorflow/keras-applications/vgg16/vgg16_weights_tf_dim_ordering_tf_kernels_notop.h5\n",
            "58889256/58889256 [==============================] - 3s 0us/step\n"
          ]
        }
      ]
    },
    {
      "cell_type": "markdown",
      "metadata": {
        "id": "UjDr04P-VbEO"
      },
      "source": [
        "# 訓練模型"
      ]
    },
    {
      "cell_type": "code",
      "source": [
        "train_history = model.fit(x_img_train_normalize, \n",
        "                          y_label_train_OneHot, \n",
        "                          batch_size=64, \n",
        "                          epochs=10, \n",
        "                          validation_data=(x_img_test_normalize, y_label_test_OneHot))\n"
      ],
      "metadata": {
        "colab": {
          "base_uri": "https://localhost:8080/"
        },
        "id": "47njgX7MvayH",
        "outputId": "16b68811-0a3d-4095-e728-6492d36dbbe2"
      },
      "execution_count": 9,
      "outputs": [
        {
          "output_type": "stream",
          "name": "stdout",
          "text": [
            "Epoch 1/10\n",
            "782/782 [==============================] - 21s 16ms/step - loss: 1.3813 - accuracy: 0.5169 - val_loss: 1.4552 - val_accuracy: 0.4965\n",
            "Epoch 2/10\n",
            "782/782 [==============================] - 10s 13ms/step - loss: 1.1991 - accuracy: 0.5835 - val_loss: 1.2524 - val_accuracy: 0.5636\n",
            "Epoch 3/10\n",
            "782/782 [==============================] - 10s 13ms/step - loss: 1.1354 - accuracy: 0.6051 - val_loss: 1.2629 - val_accuracy: 0.5574\n",
            "Epoch 4/10\n",
            "782/782 [==============================] - 11s 15ms/step - loss: 1.0889 - accuracy: 0.6194 - val_loss: 1.1788 - val_accuracy: 0.5866\n",
            "Epoch 5/10\n",
            "782/782 [==============================] - 12s 15ms/step - loss: 1.0509 - accuracy: 0.6332 - val_loss: 1.2359 - val_accuracy: 0.5653\n",
            "Epoch 6/10\n",
            "782/782 [==============================] - 12s 15ms/step - loss: 1.0173 - accuracy: 0.6455 - val_loss: 1.1777 - val_accuracy: 0.5904\n",
            "Epoch 7/10\n",
            "782/782 [==============================] - 11s 14ms/step - loss: 0.9897 - accuracy: 0.6540 - val_loss: 1.1420 - val_accuracy: 0.6029\n",
            "Epoch 8/10\n",
            "782/782 [==============================] - 12s 15ms/step - loss: 0.9613 - accuracy: 0.6664 - val_loss: 1.1357 - val_accuracy: 0.6086\n",
            "Epoch 9/10\n",
            "782/782 [==============================] - 11s 14ms/step - loss: 0.9349 - accuracy: 0.6730 - val_loss: 1.1451 - val_accuracy: 0.6135\n",
            "Epoch 10/10\n",
            "782/782 [==============================] - 12s 15ms/step - loss: 0.9097 - accuracy: 0.6831 - val_loss: 1.1483 - val_accuracy: 0.6088\n"
          ]
        }
      ]
    },
    {
      "cell_type": "markdown",
      "source": [
        "輸入圖像標籤文字\n",
        "\n",
        "validatiom split:訓練集和測試集的比例,這次為50000:10000,所以是0.2\n",
        "\n",
        "epochs:訓練週期10次\n",
        "\n",
        "batch size:每批次輸入128張圖片"
      ],
      "metadata": {
        "id": "g04fOH6Vk_W-"
      }
    },
    {
      "cell_type": "code",
      "execution_count": 10,
      "metadata": {
        "id": "i3omcjUjVbEO"
      },
      "outputs": [],
      "source": [
        "import matplotlib.pyplot as plt\n",
        "def show_train_history(train_acc,test_acc):\n",
        "    plt.plot(train_history.history[train_acc])\n",
        "    plt.plot(train_history.history[test_acc])\n",
        "    plt.title('Train History')\n",
        "    plt.ylabel(train_acc)\n",
        "    plt.xlabel('Epoch')\n",
        "    plt.legend(['train', 'test'], loc='upper left')\n",
        "    plt.show()"
      ]
    },
    {
      "cell_type": "markdown",
      "source": [
        "設定圖表欄位和格式"
      ],
      "metadata": {
        "id": "MvA07z-6lngv"
      }
    },
    {
      "cell_type": "code",
      "execution_count": 11,
      "metadata": {
        "colab": {
          "base_uri": "https://localhost:8080/",
          "height": 472
        },
        "id": "LJ-MIu_PVbEO",
        "outputId": "e6eaf9d6-fbc6-4afe-a788-ea9600176cf1"
      },
      "outputs": [
        {
          "output_type": "display_data",
          "data": {
            "text/plain": [
              "<Figure size 640x480 with 1 Axes>"
            ],
            "image/png": "[encoded data removed]"
          },
          "metadata": {}
        }
      ],
      "source": [
        "show_train_history('accuracy','val_accuracy')"
      ]
    },
    {
      "cell_type": "markdown",
      "source": [
        "accuracy:訓練時的準確率\n",
        "\n",
        "val accuracy:驗證時的準確率"
      ],
      "metadata": {
        "id": "wetwhd6TlvYh"
      }
    },
    {
      "cell_type": "code",
      "execution_count": 12,
      "metadata": {
        "colab": {
          "base_uri": "https://localhost:8080/",
          "height": 472
        },
        "id": "jcoX84ZdVbEP",
        "outputId": "940556f9-f75a-4487-8b61-a167477b3c48"
      },
      "outputs": [
        {
          "output_type": "display_data",
          "data": {
            "text/plain": [
              "<Figure size 640x480 with 1 Axes>"
            ],
            "image/png": "[encoded data removed]"
          },
          "metadata": {}
        }
      ],
      "source": [
        "show_train_history('loss','val_loss')"
      ]
    },
    {
      "cell_type": "markdown",
      "source": [
        "loss:訓練時的誤差\n",
        "\n",
        "val accuracy:驗證時的誤差"
      ],
      "metadata": {
        "id": "v85e18xxl4wE"
      }
    },
    {
      "cell_type": "markdown",
      "metadata": {
        "id": "EWBlmjtjVbEP"
      },
      "source": [
        "# 評估模型準確率"
      ]
    },
    {
      "cell_type": "code",
      "execution_count": 13,
      "metadata": {
        "colab": {
          "base_uri": "https://localhost:8080/"
        },
        "id": "PQ-rsbe0VbEP",
        "outputId": "31b755c3-6abe-4ccd-dbdc-29af959b4fc0"
      },
      "outputs": [
        {
          "output_type": "execute_result",
          "data": {
            "text/plain": [
              "0.6087999939918518"
            ]
          },
          "metadata": {},
          "execution_count": 13
        }
      ],
      "source": [
        "scores = model.evaluate(x_img_test_normalize, \n",
        "                        y_label_test_OneHot, verbose=0)\n",
        "scores[1]"
      ]
    },
    {
      "cell_type": "markdown",
      "metadata": {
        "id": "iaJ1TgHLVbEP"
      },
      "source": [
        "# 進行預測"
      ]
    },
    {
      "cell_type": "code",
      "execution_count": 14,
      "metadata": {
        "id": "QbQGAeFbVbEP",
        "colab": {
          "base_uri": "https://localhost:8080/"
        },
        "outputId": "a018fb91-6d65-467b-d920-4c4210237699"
      },
      "outputs": [
        {
          "output_type": "stream",
          "name": "stdout",
          "text": [
            "313/313 [==============================] - 2s 7ms/step\n"
          ]
        }
      ],
      "source": [
        "prediction=np.argmax(model.predict(x_img_test_normalize), axis=-1)"
      ]
    },
    {
      "cell_type": "code",
      "execution_count": 15,
      "metadata": {
        "id": "Fysay-SGVbER",
        "colab": {
          "base_uri": "https://localhost:8080/"
        },
        "outputId": "4d9d3563-1990-4f62-d84d-fc5a4b010feb"
      },
      "outputs": [
        {
          "output_type": "execute_result",
          "data": {
            "text/plain": [
              "array([3, 8, 8, 9, 6, 6, 1, 4, 5, 9])"
            ]
          },
          "metadata": {},
          "execution_count": 15
        }
      ],
      "source": [
        "prediction[:10]"
      ]
    },
    {
      "cell_type": "markdown",
      "metadata": {
        "id": "So-DttJWVbER"
      },
      "source": [
        "# 查看預測結果"
      ]
    },
    {
      "cell_type": "code",
      "execution_count": 16,
      "metadata": {
        "id": "Yta4cD21VbER"
      },
      "outputs": [],
      "source": [
        "label_dict={0:\"airplane\",1:\"automobile\",2:\"bird\",3:\"cat\",4:\"deer\",\n",
        "            5:\"dog\",6:\"frog\",7:\"horse\",8:\"ship\",9:\"truck\"}"
      ]
    },
    {
      "cell_type": "code",
      "execution_count": 17,
      "metadata": {
        "id": "j4cFs2WIVbER"
      },
      "outputs": [],
      "source": [
        "import matplotlib.pyplot as plt\n",
        "def plot_images_labels_prediction(images,labels,prediction,\n",
        "                                  idx,num=10):\n",
        "    fig = plt.gcf()\n",
        "    fig.set_size_inches(12, 14)\n",
        "    if num>25: num=25 \n",
        "    for i in range(0, num):\n",
        "        ax=plt.subplot(5,5, 1+i)\n",
        "        ax.imshow(images[idx],cmap='binary')\n",
        "                \n",
        "        title=str(i)+','+label_dict[labels[i][0]]\n",
        "        if len(prediction)>0:\n",
        "            title+='=>'+label_dict[prediction[i]]\n",
        "            \n",
        "        ax.set_title(title,fontsize=10) \n",
        "        ax.set_xticks([]);ax.set_yticks([])        \n",
        "        idx+=1 \n",
        "    plt.show()"
      ]
    },
    {
      "cell_type": "code",
      "execution_count": 18,
      "metadata": {
        "id": "67mJ5vjbVbES",
        "colab": {
          "base_uri": "https://localhost:8080/",
          "height": 439
        },
        "outputId": "9a120948-144c-44b6-9210-a0e09551721c"
      },
      "outputs": [
        {
          "output_type": "display_data",
          "data": {
            "text/plain": [
              "<Figure size 1200x1400 with 10 Axes>"
            ],
            "image/png": "[encoded data removed]"
          },
          "metadata": {}
        }
      ],
      "source": [
        "plot_images_labels_prediction(x_img_test,y_label_test,\n",
        "                              prediction,0,10)"
      ]
    },
    {
      "cell_type": "markdown",
      "metadata": {
        "id": "IbvhoccDVbES"
      },
      "source": [
        "# 查看預測機率"
      ]
    },
    {
      "cell_type": "code",
      "execution_count": 19,
      "metadata": {
        "id": "-MPuckT3VbES",
        "colab": {
          "base_uri": "https://localhost:8080/"
        },
        "outputId": "ac8a3f10-5bf3-4023-ec98-ecac03dca45f"
      },
      "outputs": [
        {
          "output_type": "stream",
          "name": "stdout",
          "text": [
            "313/313 [==============================] - 2s 7ms/step\n"
          ]
        }
      ],
      "source": [
        "Predicted_Probability=model.predict(x_img_test_normalize)"
      ]
    },
    {
      "cell_type": "code",
      "execution_count": 20,
      "metadata": {
        "id": "PQ3hIP15VbES"
      },
      "outputs": [],
      "source": [
        "def show_Predicted_Probability(y,prediction,\n",
        "                               x_img,Predicted_Probability,i):\n",
        "    print('label:',label_dict[y[i][0]],\n",
        "          'predict:',label_dict[prediction[i]])\n",
        "    plt.figure(figsize=(2,2))\n",
        "    plt.imshow(np.reshape(x_img_test[i],(32, 32,3)))\n",
        "    plt.show()\n",
        "    for j in range(10):\n",
        "        print(label_dict[j]+\n",
        "              ' Probability:%1.9f'%(Predicted_Probability[i][j]))"
      ]
    },
    {
      "cell_type": "code",
      "execution_count": 21,
      "metadata": {
        "id": "clduo7LXVbES",
        "colab": {
          "base_uri": "https://localhost:8080/",
          "height": 413
        },
        "outputId": "466d5eef-3c4b-4482-f008-1e546419e85c"
      },
      "outputs": [
        {
          "output_type": "stream",
          "name": "stdout",
          "text": [
            "label: cat predict: cat\n"
          ]
        },
        {
          "output_type": "display_data",
          "data": {
            "text/plain": [
              "<Figure size 200x200 with 1 Axes>"
            ],
            "image/png": "[encoded data removed]"
          },
          "metadata": {}
        },
        {
          "output_type": "stream",
          "name": "stdout",
          "text": [
            "airplane Probability:0.007501145\n",
            "automobile Probability:0.103958122\n",
            "bird Probability:0.009766167\n",
            "cat Probability:0.632545352\n",
            "deer Probability:0.022916567\n",
            "dog Probability:0.134215117\n",
            "frog Probability:0.025011050\n",
            "horse Probability:0.004945686\n",
            "ship Probability:0.006563751\n",
            "truck Probability:0.052577067\n"
          ]
        }
      ],
      "source": [
        "show_Predicted_Probability(y_label_test,prediction,\n",
        "                           x_img_test,Predicted_Probability,0)"
      ]
    },
    {
      "cell_type": "code",
      "execution_count": 22,
      "metadata": {
        "id": "GGPfJu2eVbES",
        "colab": {
          "base_uri": "https://localhost:8080/",
          "height": 413
        },
        "outputId": "15e2b304-63eb-43b7-cfbb-601fb6a7f113"
      },
      "outputs": [
        {
          "output_type": "stream",
          "name": "stdout",
          "text": [
            "label: airplane predict: truck\n"
          ]
        },
        {
          "output_type": "display_data",
          "data": {
            "text/plain": [
              "<Figure size 200x200 with 1 Axes>"
            ],
            "image/png": "[encoded data removed]"
          },
          "metadata": {}
        },
        {
          "output_type": "stream",
          "name": "stdout",
          "text": [
            "airplane Probability:0.089483619\n",
            "automobile Probability:0.112744436\n",
            "bird Probability:0.008791485\n",
            "cat Probability:0.018337226\n",
            "deer Probability:0.000971555\n",
            "dog Probability:0.002003751\n",
            "frog Probability:0.000558092\n",
            "horse Probability:0.000155662\n",
            "ship Probability:0.235947296\n",
            "truck Probability:0.531006813\n"
          ]
        }
      ],
      "source": [
        "show_Predicted_Probability(y_label_test,prediction,\n",
        "                           x_img_test,Predicted_Probability,3)"
      ]
    },
    {
      "cell_type": "markdown",
      "metadata": {
        "id": "RR5ArYfKVbET"
      },
      "source": [
        "# confusion matrix"
      ]
    },
    {
      "cell_type": "code",
      "execution_count": 23,
      "metadata": {
        "id": "uhC3C_d-VbET",
        "colab": {
          "base_uri": "https://localhost:8080/"
        },
        "outputId": "5daca656-1bc6-4b60-c9fd-6e36ef229a86"
      },
      "outputs": [
        {
          "output_type": "execute_result",
          "data": {
            "text/plain": [
              "(10000,)"
            ]
          },
          "metadata": {},
          "execution_count": 23
        }
      ],
      "source": [
        "prediction.shape"
      ]
    },
    {
      "cell_type": "markdown",
      "source": [
        "建立混淆矩陣時結果資據必須為1維陣列,如果括號有多於一筆數據,則必須先進行數據處理"
      ],
      "metadata": {
        "id": "zaKceA3wmdVt"
      }
    },
    {
      "cell_type": "code",
      "execution_count": 24,
      "metadata": {
        "id": "Jg5fiWjCVbET",
        "colab": {
          "base_uri": "https://localhost:8080/"
        },
        "outputId": "266aafbe-11bf-4d24-bacc-90c7f11fb09d"
      },
      "outputs": [
        {
          "output_type": "execute_result",
          "data": {
            "text/plain": [
              "(10000, 1)"
            ]
          },
          "metadata": {},
          "execution_count": 24
        }
      ],
      "source": [
        "y_label_test.shape"
      ]
    },
    {
      "cell_type": "markdown",
      "source": [
        "執行結果顯示已轉換為1維陣列"
      ],
      "metadata": {
        "id": "7y6J4bODmxJW"
      }
    },
    {
      "cell_type": "code",
      "execution_count": 25,
      "metadata": {
        "id": "v6co6R1EVbET",
        "colab": {
          "base_uri": "https://localhost:8080/"
        },
        "outputId": "13dd3dca-3e36-4023-c737-2d4a3bc91659"
      },
      "outputs": [
        {
          "output_type": "execute_result",
          "data": {
            "text/plain": [
              "array([[3],\n",
              "       [8],\n",
              "       [8],\n",
              "       ...,\n",
              "       [5],\n",
              "       [1],\n",
              "       [7]], dtype=uint8)"
            ]
          },
          "metadata": {},
          "execution_count": 25
        }
      ],
      "source": [
        "y_label_test"
      ]
    },
    {
      "cell_type": "code",
      "execution_count": 26,
      "metadata": {
        "id": "zUOhJL0ZVbET",
        "colab": {
          "base_uri": "https://localhost:8080/"
        },
        "outputId": "e421a9c9-fead-4be0-c360-b1b7ab24c154"
      },
      "outputs": [
        {
          "output_type": "execute_result",
          "data": {
            "text/plain": [
              "array([3, 8, 8, ..., 5, 1, 7], dtype=uint8)"
            ]
          },
          "metadata": {},
          "execution_count": 26
        }
      ],
      "source": [
        "y_label_test.reshape(-1)"
      ]
    },
    {
      "cell_type": "code",
      "execution_count": 27,
      "metadata": {
        "id": "hyWqjQ5GVbET",
        "colab": {
          "base_uri": "https://localhost:8080/",
          "height": 412
        },
        "outputId": "29e176ae-5bc3-461d-f827-1856a880bead"
      },
      "outputs": [
        {
          "output_type": "stream",
          "name": "stdout",
          "text": [
            "{0: 'airplane', 1: 'automobile', 2: 'bird', 3: 'cat', 4: 'deer', 5: 'dog', 6: 'frog', 7: 'horse', 8: 'ship', 9: 'truck'}\n"
          ]
        },
        {
          "output_type": "execute_result",
          "data": {
            "text/plain": [
              "predict    0    1    2    3    4    5    6    7    8    9\n",
              "label                                                    \n",
              "0        680   37   37   11   19    7    1   18   98   92\n",
              "1         21  661    7   16    8   15   13   10   22  227\n",
              "2         74   26  489   48  134   59   90   31   11   38\n",
              "3         22   48   70  356   77  175   70   33   27  122\n",
              "4         16   18   63   36  603   47   77   60   31   49\n",
              "5         11   19   69  126   68  547   26   55    9   70\n",
              "6          7   27   68   57  106   60  609    2   12   52\n",
              "7         22   16   35   26  101   64   11  624    8   93\n",
              "8         57   69   13   11    8    4    3    6  714  115\n",
              "9         24   79    6   12   10   11    6   14   33  805"
            ],
            "text/html": [
              "\n",
              "  <div id=\"df-24ad87e2-1f90-4aa4-a3e3-f36b3f34d596\">\n",
              "    <div class=\"colab-df-container\">\n",
              "      <div>\n",
              "<style scoped>\n",
              "    .dataframe tbody tr th:only-of-type {\n",
              "        vertical-align: middle;\n",
              "    }\n",
              "\n",
              "    .dataframe tbody tr th {\n",
              "        vertical-align: top;\n",
              "    }\n",
              "\n",
              "    .dataframe thead th {\n",
              "        text-align: right;\n",
              "    }\n",
              "</style>\n",
              "<table border=\"1\" class=\"dataframe\">\n",
              "  <thead>\n",
              "    <tr style=\"text-align: right;\">\n",
              "      <th>predict</th>\n",
              "      <th>0</th>\n",
              "      <th>1</th>\n",
              "      <th>2</th>\n",
              "      <th>3</th>\n",
              "      <th>4</th>\n",
              "      <th>5</th>\n",
              "      <th>6</th>\n",
              "      <th>7</th>\n",
              "      <th>8</th>\n",
              "      <th>9</th>\n",
              "    </tr>\n",
              "    <tr>\n",
              "      <th>label</th>\n",
              "      <th></th>\n",
              "      <th></th>\n",
              "      <th></th>\n",
              "      <th></th>\n",
              "      <th></th>\n",
              "      <th></th>\n",
              "      <th></th>\n",
              "      <th></th>\n",
              "      <th></th>\n",
              "      <th></th>\n",
              "    </tr>\n",
              "  </thead>\n",
              "  <tbody>\n",
              "    <tr>\n",
              "      <th>0</th>\n",
              "      <td>680</td>\n",
              "      <td>37</td>\n",
              "      <td>37</td>\n",
              "      <td>11</td>\n",
              "      <td>19</td>\n",
              "      <td>7</td>\n",
              "      <td>1</td>\n",
              "      <td>18</td>\n",
              "      <td>98</td>\n",
              "      <td>92</td>\n",
              "    </tr>\n",
              "    <tr>\n",
              "      <th>1</th>\n",
              "      <td>21</td>\n",
              "      <td>661</td>\n",
              "      <td>7</td>\n",
              "      <td>16</td>\n",
              "      <td>8</td>\n",
              "      <td>15</td>\n",
              "      <td>13</td>\n",
              "      <td>10</td>\n",
              "      <td>22</td>\n",
              "      <td>227</td>\n",
              "    </tr>\n",
              "    <tr>\n",
              "      <th>2</th>\n",
              "      <td>74</td>\n",
              "      <td>26</td>\n",
              "      <td>489</td>\n",
              "      <td>48</td>\n",
              "      <td>134</td>\n",
              "      <td>59</td>\n",
              "      <td>90</td>\n",
              "      <td>31</td>\n",
              "      <td>11</td>\n",
              "      <td>38</td>\n",
              "    </tr>\n",
              "    <tr>\n",
              "      <th>3</th>\n",
              "      <td>22</td>\n",
              "      <td>48</td>\n",
              "      <td>70</td>\n",
              "      <td>356</td>\n",
              "      <td>77</td>\n",
              "      <td>175</td>\n",
              "      <td>70</td>\n",
              "      <td>33</td>\n",
              "      <td>27</td>\n",
              "      <td>122</td>\n",
              "    </tr>\n",
              "    <tr>\n",
              "      <th>4</th>\n",
              "      <td>16</td>\n",
              "      <td>18</td>\n",
              "      <td>63</td>\n",
              "      <td>36</td>\n",
              "      <td>603</td>\n",
              "      <td>47</td>\n",
              "      <td>77</td>\n",
              "      <td>60</td>\n",
              "      <td>31</td>\n",
              "      <td>49</td>\n",
              "    </tr>\n",
              "    <tr>\n",
              "      <th>5</th>\n",
              "      <td>11</td>\n",
              "      <td>19</td>\n",
              "      <td>69</td>\n",
              "      <td>126</td>\n",
              "      <td>68</td>\n",
              "      <td>547</td>\n",
              "      <td>26</td>\n",
              "      <td>55</td>\n",
              "      <td>9</td>\n",
              "      <td>70</td>\n",
              "    </tr>\n",
              "    <tr>\n",
              "      <th>6</th>\n",
              "      <td>7</td>\n",
              "      <td>27</td>\n",
              "      <td>68</td>\n",
              "      <td>57</td>\n",
              "      <td>106</td>\n",
              "      <td>60</td>\n",
              "      <td>609</td>\n",
              "      <td>2</td>\n",
              "      <td>12</td>\n",
              "      <td>52</td>\n",
              "    </tr>\n",
              "    <tr>\n",
              "      <th>7</th>\n",
              "      <td>22</td>\n",
              "      <td>16</td>\n",
              "      <td>35</td>\n",
              "      <td>26</td>\n",
              "      <td>101</td>\n",
              "      <td>64</td>\n",
              "      <td>11</td>\n",
              "      <td>624</td>\n",
              "      <td>8</td>\n",
              "      <td>93</td>\n",
              "    </tr>\n",
              "    <tr>\n",
              "      <th>8</th>\n",
              "      <td>57</td>\n",
              "      <td>69</td>\n",
              "      <td>13</td>\n",
              "      <td>11</td>\n",
              "      <td>8</td>\n",
              "      <td>4</td>\n",
              "      <td>3</td>\n",
              "      <td>6</td>\n",
              "      <td>714</td>\n",
              "      <td>115</td>\n",
              "    </tr>\n",
              "    <tr>\n",
              "      <th>9</th>\n",
              "      <td>24</td>\n",
              "      <td>79</td>\n",
              "      <td>6</td>\n",
              "      <td>12</td>\n",
              "      <td>10</td>\n",
              "      <td>11</td>\n",
              "      <td>6</td>\n",
              "      <td>14</td>\n",
              "      <td>33</td>\n",
              "      <td>805</td>\n",
              "    </tr>\n",
              "  </tbody>\n",
              "</table>\n",
              "</div>\n",
              "      <button class=\"colab-df-convert\" onclick=\"convertToInteractive('df-24ad87e2-1f90-4aa4-a3e3-f36b3f34d596')\"\n",
              "              title=\"Convert this dataframe to an interactive table.\"\n",
              "              style=\"display:none;\">\n",
              "        \n",
              "  <svg xmlns=\"http://www.w3.org/2000/svg\" height=\"24px\"viewBox=\"0 0 24 24\"\n",
              "       width=\"24px\">\n",
              "    <path d=\"M0 0h24v24H0V0z\" fill=\"none\"/>\n",
              "    <path d=\"M18.56 5.44l.94 2.06.94-2.06 2.06-.94-2.06-.94-.94-2.06-.94 2.06-2.06.94zm-11 1L8.5 8.5l.94-2.06 2.06-.94-2.06-.94L8.5 2.5l-.94 2.06-2.06.94zm10 10l.94 2.06.94-2.06 2.06-.94-2.06-.94-.94-2.06-.94 2.06-2.06.94z\"/><path d=\"M17.41 7.96l-1.37-1.37c-.4-.4-.92-.59-1.43-.59-.52 0-1.04.2-1.43.59L10.3 9.45l-7.72 7.72c-.78.78-.78 2.05 0 2.83L4 21.41c.39.39.9.59 1.41.59.51 0 1.02-.2 1.41-.59l7.78-7.78 2.81-2.81c.8-.78.8-2.07 0-2.86zM5.41 20L4 18.59l7.72-7.72 1.47 1.35L5.41 20z\"/>\n",
              "  </svg>\n",
              "      </button>\n",
              "      \n",
              "  <style>\n",
              "    .colab-df-container {\n",
              "      display:flex;\n",
              "      flex-wrap:wrap;\n",
              "      gap: 12px;\n",
              "    }\n",
              "\n",
              "    .colab-df-convert {\n",
              "      background-color: #E8F0FE;\n",
              "      border: none;\n",
              "      border-radius: 50%;\n",
              "      cursor: pointer;\n",
              "      display: none;\n",
              "      fill: #1967D2;\n",
              "      height: 32px;\n",
              "      padding: 0 0 0 0;\n",
              "      width: 32px;\n",
              "    }\n",
              "\n",
              "    .colab-df-convert:hover {\n",
              "      background-color: #E2EBFA;\n",
              "      box-shadow: 0px 1px 2px rgba(60, 64, 67, 0.3), 0px 1px 3px 1px rgba(60, 64, 67, 0.15);\n",
              "      fill: #174EA6;\n",
              "    }\n",
              "\n",
              "    [theme=dark] .colab-df-convert {\n",
              "      background-color: #3B4455;\n",
              "      fill: #D2E3FC;\n",
              "    }\n",
              "\n",
              "    [theme=dark] .colab-df-convert:hover {\n",
              "      background-color: #434B5C;\n",
              "      box-shadow: 0px 1px 3px 1px rgba(0, 0, 0, 0.15);\n",
              "      filter: drop-shadow(0px 1px 2px rgba(0, 0, 0, 0.3));\n",
              "      fill: #FFFFFF;\n",
              "    }\n",
              "  </style>\n",
              "\n",
              "      <script>\n",
              "        const buttonEl =\n",
              "          document.querySelector('#df-24ad87e2-1f90-4aa4-a3e3-f36b3f34d596 button.colab-df-convert');\n",
              "        buttonEl.style.display =\n",
              "          google.colab.kernel.accessAllowed ? 'block' : 'none';\n",
              "\n",
              "        async function convertToInteractive(key) {\n",
              "          const element = document.querySelector('#df-24ad87e2-1f90-4aa4-a3e3-f36b3f34d596');\n",
              "          const dataTable =\n",
              "            await google.colab.kernel.invokeFunction('convertToInteractive',\n",
              "                                                     [key], {});\n",
              "          if (!dataTable) return;\n",
              "\n",
              "          const docLinkHtml = 'Like what you see? Visit the ' +\n",
              "            '<a target=\"_blank\" href=https://colab.research.google.com/notebooks/data_table.ipynb>data table notebook</a>'\n",
              "            + ' to learn more about interactive tables.';\n",
              "          element.innerHTML = '';\n",
              "          dataTable['output_type'] = 'display_data';\n",
              "          await google.colab.output.renderOutput(dataTable, element);\n",
              "          const docLink = document.createElement('div');\n",
              "          docLink.innerHTML = docLinkHtml;\n",
              "          element.appendChild(docLink);\n",
              "        }\n",
              "      </script>\n",
              "    </div>\n",
              "  </div>\n",
              "  "
            ]
          },
          "metadata": {},
          "execution_count": 27
        }
      ],
      "source": [
        "import pandas as pd\n",
        "print(label_dict)\n",
        "pd.crosstab(y_label_test.reshape(-1),prediction,\n",
        "            rownames=['label'],colnames=['predict'])"
      ]
    },
    {
      "cell_type": "markdown",
      "source": [
        "匯入pandas模組\n",
        "\n",
        "reshape(-1)轉換1維陣列\n",
        "\n",
        "測試資料的預測結果\n",
        "\n",
        "設定行的名稱label\n",
        "\n",
        "設定列的名稱是predict"
      ],
      "metadata": {
        "id": "kQZdeca-m9Ns"
      }
    },
    {
      "cell_type": "code",
      "execution_count": 28,
      "metadata": {
        "id": "mNYccE8kVbET",
        "colab": {
          "base_uri": "https://localhost:8080/"
        },
        "outputId": "fa20a099-81db-4f99-bdf0-789e4b7741ff"
      },
      "outputs": [
        {
          "output_type": "stream",
          "name": "stdout",
          "text": [
            "{0: 'airplane', 1: 'automobile', 2: 'bird', 3: 'cat', 4: 'deer', 5: 'dog', 6: 'frog', 7: 'horse', 8: 'ship', 9: 'truck'}\n"
          ]
        }
      ],
      "source": [
        "print(label_dict)"
      ]
    },
    {
      "cell_type": "markdown",
      "metadata": {
        "id": "xgPEYeP6ncct"
      },
      "source": [
        "# Save model to Google Drive"
      ]
    },
    {
      "cell_type": "code",
      "source": [
        "from google.colab import drive\n",
        "drive.mount('/content/drive')"
      ],
      "metadata": {
        "colab": {
          "base_uri": "https://localhost:8080/"
        },
        "id": "5zDh3X6jJO3S",
        "outputId": "7a9b18ae-75a6-43b7-b1e9-7a628edca908"
      },
      "execution_count": 29,
      "outputs": [
        {
          "output_type": "stream",
          "name": "stdout",
          "text": [
            "Mounted at /content/drive\n"
          ]
        }
      ]
    },
    {
      "cell_type": "markdown",
      "metadata": {
        "id": "XzrMssWNVbEU"
      },
      "source": [
        "# Save model to JSON"
      ]
    },
    {
      "cell_type": "code",
      "source": [
        "import os\n",
        "try:\n",
        "  os.makedirs('/content/Save/')\n",
        "except:\n",
        "  print(\"File existed\")"
      ],
      "metadata": {
        "id": "bujKNVR8nJut"
      },
      "execution_count": 30,
      "outputs": []
    },
    {
      "cell_type": "code",
      "execution_count": 31,
      "metadata": {
        "id": "AvoekqDXVbEU"
      },
      "outputs": [],
      "source": [
        "model_json = model.to_json()\n",
        "with open(\"/content/Save/cifarCnnModelnew.json\", \"w\") as json_file:\n",
        "    json_file.write(model_json)"
      ]
    },
    {
      "cell_type": "markdown",
      "metadata": {
        "id": "kTqXuqg_VbEU"
      },
      "source": [
        "# Save Weight to h5 "
      ]
    },
    {
      "cell_type": "code",
      "execution_count": null,
      "metadata": {
        "id": "lMjKTwBWVbEU"
      },
      "outputs": [],
      "source": [
        "model.save_weights(\"/content/Save/cifarCnnModelnew.h5\")\n",
        "print(\"Saved model to disk\")"
      ]
    }
  ],
  "metadata": {
    "anaconda-cloud": {},
    "kernelspec": {
      "display_name": "Python 3",
      "language": "python",
      "name": "python3"
    },
    "language_info": {
      "codemirror_mode": {
        "name": "ipython",
        "version": 3
      },
      "file_extension": ".py",
      "mimetype": "text/x-python",
      "name": "python",
      "nbconvert_exporter": "python",
      "pygments_lexer": "ipython3",
      "version": "3.5.5"
    },
    "colab": {
      "provenance": []
    },
    "accelerator": "GPU"
  },
  "nbformat": 4,
  "nbformat_minor": 0
}