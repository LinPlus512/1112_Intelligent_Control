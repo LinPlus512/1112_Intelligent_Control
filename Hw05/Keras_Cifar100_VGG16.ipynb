{
  "cells": [
    {
      "cell_type": "markdown",
      "metadata": {
        "id": "5QOa6XS0VbEC"
      },
      "source": [
        "# 1. Import Library"
      ]
    },
    {
      "cell_type": "code",
      "execution_count": 1,
      "metadata": {
        "id": "4Ro-69M1VbEF"
      },
      "outputs": [],
      "source": [
        "from keras.datasets import cifar100\n",
        "import numpy as np\n",
        "from keras.utils import np_utils\n",
        "\n",
        "np.random.seed(10)"
      ]
    },
    {
      "cell_type": "markdown",
      "metadata": {
        "id": "dld3bCU7VbEG"
      },
      "source": [
        "# 資料準備"
      ]
    },
    {
      "cell_type": "code",
      "source": [
        "# 要訓練的類別索引列表\n",
        "selected_classes = [0, 1, 2, 3, 4, 5, 6, 7, 8, 9, 10, 11, 12, 13, 14]"
      ],
      "metadata": {
        "id": "BOIiS8FzkcIP"
      },
      "execution_count": 2,
      "outputs": []
    },
    {
      "cell_type": "code",
      "execution_count": 3,
      "metadata": {
        "id": "DOCiNYJlVbEH",
        "colab": {
          "base_uri": "https://localhost:8080/"
        },
        "outputId": "26d0e837-d2d0-45b5-fbf9-15923975ea4f"
      },
      "outputs": [
        {
          "output_type": "stream",
          "name": "stdout",
          "text": [
            "Downloading data from https://www.cs.toronto.edu/~kriz/cifar-100-python.tar.gz\n",
            "169001437/169001437 [==============================] - 13s 0us/step\n"
          ]
        }
      ],
      "source": [
        "(x_img_train,y_label_train),(x_img_test,y_label_test)=cifar100.load_data()"
      ]
    },
    {
      "cell_type": "markdown",
      "source": [
        "自動下載data set"
      ],
      "metadata": {
        "id": "L6cFGQrweBLG"
      }
    },
    {
      "cell_type": "code",
      "execution_count": 4,
      "metadata": {
        "colab": {
          "base_uri": "https://localhost:8080/"
        },
        "id": "YKHihacaVbEH",
        "outputId": "8cb9f848-f63d-4907-adb6-93483edba1b0"
      },
      "outputs": [
        {
          "output_type": "stream",
          "name": "stdout",
          "text": [
            "train data: images: (50000, 32, 32, 3)  labels: (50000, 1)\n",
            "test  data: images: (10000, 32, 32, 3)  labels: (10000, 1)\n"
          ]
        }
      ],
      "source": [
        "print(\"train data:\",'images:',x_img_train.shape,\n",
        "      \" labels:\",y_label_train.shape) \n",
        "print(\"test  data:\",'images:',x_img_test.shape ,\n",
        "      \" labels:\",y_label_test.shape) "
      ]
    },
    {
      "cell_type": "markdown",
      "source": [
        "順序標記訓練集和測試集的(資料數量,形狀和通道數量)\n",
        "例:(50000筆,像素32*32,RGB圖片通道為3)"
      ],
      "metadata": {
        "id": "73HGjZhXeLvF"
      }
    },
    {
      "cell_type": "code",
      "execution_count": 5,
      "metadata": {
        "id": "TG62WQJrVbEI"
      },
      "outputs": [],
      "source": [
        "x_img_train_normalize = x_img_train.astype('float32') / 255.0\n",
        "x_img_test_normalize = x_img_test.astype('float32') / 255.0"
      ]
    },
    {
      "cell_type": "code",
      "source": [
        "# 根據選取的類別索引篩選出對應的訓練樣本和標籤\n",
        "selected_classes = [i for i in range(15)]\n",
        "selected_train_samples = np.where(np.isin(y_label_train, selected_classes))[0]\n",
        "x_img_train_selected = x_img_train_normalize[selected_train_samples]\n",
        "y_label_train_selected = y_label_train[selected_train_samples]\n",
        "y_label_train_selected_OneHot = np_utils.to_categorical(y_label_train_selected, len(selected_classes))\n",
        "\n",
        "selected_test_samples = np.where(np.isin(y_label_test, selected_classes))[0]\n",
        "x_img_test_selected = x_img_test_normalize[selected_test_samples]\n",
        "y_label_test_selected = y_label_test[selected_test_samples]\n",
        "y_label_test_selected_OneHot = np_utils.to_categorical(y_label_test_selected, len(selected_classes))\n"
      ],
      "metadata": {
        "id": "SYsQxaDGkvaG"
      },
      "execution_count": 6,
      "outputs": []
    },
    {
      "cell_type": "markdown",
      "metadata": {
        "id": "RNQXhk4BVbEN"
      },
      "source": [
        "# 載入之前訓練的模型"
      ]
    },
    {
      "cell_type": "code",
      "execution_count": 15,
      "metadata": {
        "id": "DReDuuZrVbEO"
      },
      "outputs": [],
      "source": [
        "from keras.applications.vgg16 import VGG16\n",
        "from keras.models import Model\n",
        "from keras.layers import Dense, Flatten\n",
        "\n",
        "# Load VGG16，and reshape into 32x32x3\n",
        "base_model = VGG16(weights='imagenet', include_top=False, input_shape=(32, 32, 3))\n",
        "\n",
        "# build the top\n",
        "x = base_model.output\n",
        "x = Flatten()(x)\n",
        "x = Dense(256, activation='relu')(x)\n",
        "predictions = Dense(15, activation='softmax')(x)\n",
        "\n",
        "# setup the model\n",
        "model = Model(inputs=base_model.input, outputs=predictions)\n",
        "\n",
        "# freeze the top of VGG16\n",
        "for layer in base_model.layers:\n",
        "    layer.trainable = False\n",
        "\n",
        "# compile the model\n",
        "model.compile(optimizer='adam', loss='categorical_crossentropy', metrics=['accuracy'])\n"
      ]
    },
    {
      "cell_type": "markdown",
      "metadata": {
        "id": "UjDr04P-VbEO"
      },
      "source": [
        "# 訓練模型"
      ]
    },
    {
      "cell_type": "code",
      "source": [
        "train_history = model.fit(x_img_train_selected, \n",
        "                          y_label_train_selected_OneHot, \n",
        "                          batch_size=64, \n",
        "                          epochs=10, \n",
        "                          validation_data=(x_img_test_selected, y_label_test_selected_OneHot))\n"
      ],
      "metadata": {
        "colab": {
          "base_uri": "https://localhost:8080/"
        },
        "id": "2Y6cPPkn59ud",
        "outputId": "ec8bc3cb-2205-4a89-dcd3-0c893d07a060"
      },
      "execution_count": 16,
      "outputs": [
        {
          "output_type": "stream",
          "name": "stdout",
          "text": [
            "Epoch 1/10\n",
            "118/118 [==============================] - 12s 21ms/step - loss: 1.8287 - accuracy: 0.4175 - val_loss: 1.4554 - val_accuracy: 0.5387\n",
            "Epoch 2/10\n",
            "118/118 [==============================] - 2s 13ms/step - loss: 1.3870 - accuracy: 0.5545 - val_loss: 1.3311 - val_accuracy: 0.5720\n",
            "Epoch 3/10\n",
            "118/118 [==============================] - 2s 14ms/step - loss: 1.2548 - accuracy: 0.5955 - val_loss: 1.3144 - val_accuracy: 0.5687\n",
            "Epoch 4/10\n",
            "118/118 [==============================] - 2s 13ms/step - loss: 1.1689 - accuracy: 0.6224 - val_loss: 1.2632 - val_accuracy: 0.5980\n",
            "Epoch 5/10\n",
            "118/118 [==============================] - 2s 14ms/step - loss: 1.1063 - accuracy: 0.6397 - val_loss: 1.2350 - val_accuracy: 0.5980\n",
            "Epoch 6/10\n",
            "118/118 [==============================] - 2s 15ms/step - loss: 1.0480 - accuracy: 0.6628 - val_loss: 1.1891 - val_accuracy: 0.6153\n",
            "Epoch 7/10\n",
            "118/118 [==============================] - 2s 15ms/step - loss: 1.0029 - accuracy: 0.6741 - val_loss: 1.1818 - val_accuracy: 0.6100\n",
            "Epoch 8/10\n",
            "118/118 [==============================] - 2s 14ms/step - loss: 0.9518 - accuracy: 0.6864 - val_loss: 1.1842 - val_accuracy: 0.6053\n",
            "Epoch 9/10\n",
            "118/118 [==============================] - 2s 13ms/step - loss: 0.9028 - accuracy: 0.7033 - val_loss: 1.1714 - val_accuracy: 0.6133\n",
            "Epoch 10/10\n",
            "118/118 [==============================] - 2s 14ms/step - loss: 0.8664 - accuracy: 0.7163 - val_loss: 1.1721 - val_accuracy: 0.6120\n"
          ]
        }
      ]
    },
    {
      "cell_type": "markdown",
      "source": [
        "輸入圖像標籤文字\n",
        "\n",
        "validatiom split:訓練集和測試集的比例,這次為50000:10000,所以是0.2\n",
        "\n",
        "epochs:訓練週期10次\n",
        "\n",
        "batch size:每批次輸入128張圖片"
      ],
      "metadata": {
        "id": "g04fOH6Vk_W-"
      }
    },
    {
      "cell_type": "code",
      "execution_count": 17,
      "metadata": {
        "id": "i3omcjUjVbEO"
      },
      "outputs": [],
      "source": [
        "import matplotlib.pyplot as plt\n",
        "def show_train_history(train_acc,test_acc):\n",
        "    plt.plot(train_history.history[train_acc])\n",
        "    plt.plot(train_history.history[test_acc])\n",
        "    plt.title('Train History')\n",
        "    plt.ylabel(train_acc)\n",
        "    plt.xlabel('Epoch')\n",
        "    plt.legend(['train', 'test'], loc='upper left')\n",
        "    plt.show()"
      ]
    },
    {
      "cell_type": "markdown",
      "source": [
        "設定圖表欄位和格式"
      ],
      "metadata": {
        "id": "MvA07z-6lngv"
      }
    },
    {
      "cell_type": "code",
      "execution_count": 19,
      "metadata": {
        "colab": {
          "base_uri": "https://localhost:8080/",
          "height": 472
        },
        "id": "LJ-MIu_PVbEO",
        "outputId": "34517ddb-5c73-4f75-babf-465e7b83e325"
      },
      "outputs": [
        {
          "output_type": "display_data",
          "data": {
            "text/plain": [
              "<Figure size 640x480 with 1 Axes>"
            ],
            "image/png": "[encoded data removed]"
          },
          "metadata": {}
        }
      ],
      "source": [
        "show_train_history('accuracy','val_accuracy')"
      ]
    },
    {
      "cell_type": "markdown",
      "source": [
        "accuracy:訓練時的準確率\n",
        "\n",
        "val accuracy:驗證時的準確率"
      ],
      "metadata": {
        "id": "wetwhd6TlvYh"
      }
    },
    {
      "cell_type": "code",
      "execution_count": 20,
      "metadata": {
        "colab": {
          "base_uri": "https://localhost:8080/",
          "height": 472
        },
        "id": "jcoX84ZdVbEP",
        "outputId": "d9d6e851-68b4-477b-dc14-f3322b04ec1d"
      },
      "outputs": [
        {
          "output_type": "display_data",
          "data": {
            "text/plain": [
              "<Figure size 640x480 with 1 Axes>"
            ],
            "image/png": "[encoded data removed]"
          },
          "metadata": {}
        }
      ],
      "source": [
        "show_train_history('loss','val_loss')"
      ]
    },
    {
      "cell_type": "markdown",
      "source": [
        "loss:訓練時的誤差\n",
        "\n",
        "val accuracy:驗證時的誤差"
      ],
      "metadata": {
        "id": "v85e18xxl4wE"
      }
    },
    {
      "cell_type": "markdown",
      "metadata": {
        "id": "EWBlmjtjVbEP"
      },
      "source": [
        "# 評估模型準確率"
      ]
    },
    {
      "cell_type": "code",
      "execution_count": 21,
      "metadata": {
        "colab": {
          "base_uri": "https://localhost:8080/"
        },
        "id": "PQ-rsbe0VbEP",
        "outputId": "de6f23d4-818f-4be7-a244-19cb28f7bb1a"
      },
      "outputs": [
        {
          "output_type": "execute_result",
          "data": {
            "text/plain": [
              "0.7433333396911621"
            ]
          },
          "metadata": {},
          "execution_count": 21
        }
      ],
      "source": [
        "scores = model.evaluate(x_img_train_selected, \n",
        "                        y_label_train_selected_OneHot, verbose=0)\n",
        "scores[1]"
      ]
    },
    {
      "cell_type": "markdown",
      "metadata": {
        "id": "iaJ1TgHLVbEP"
      },
      "source": [
        "# 進行預測"
      ]
    },
    {
      "cell_type": "code",
      "execution_count": 22,
      "metadata": {
        "id": "QbQGAeFbVbEP",
        "colab": {
          "base_uri": "https://localhost:8080/"
        },
        "outputId": "e1f2dbc0-e07b-4114-c598-3572de146e10"
      },
      "outputs": [
        {
          "output_type": "stream",
          "name": "stdout",
          "text": [
            "47/47 [==============================] - 1s 9ms/step\n"
          ]
        }
      ],
      "source": [
        "prediction=np.argmax(model.predict(x_img_test_selected), axis=-1)"
      ]
    },
    {
      "cell_type": "code",
      "execution_count": 23,
      "metadata": {
        "id": "Fysay-SGVbER",
        "colab": {
          "base_uri": "https://localhost:8080/"
        },
        "outputId": "b949eca4-3c90-45e0-cabb-5080e01f3139"
      },
      "outputs": [
        {
          "output_type": "execute_result",
          "data": {
            "text/plain": [
              "array([14,  0,  8,  8,  6,  2,  6,  9,  2,  0, 10,  6,  5, 13,  7])"
            ]
          },
          "metadata": {},
          "execution_count": 23
        }
      ],
      "source": [
        "prediction[:15]"
      ]
    },
    {
      "cell_type": "markdown",
      "metadata": {
        "id": "So-DttJWVbER"
      },
      "source": [
        "# 查看預測結果"
      ]
    },
    {
      "cell_type": "code",
      "execution_count": 24,
      "metadata": {
        "id": "Yta4cD21VbER"
      },
      "outputs": [],
      "source": [
        "label_dict={0: 'apple',\n",
        "            1: 'aquarium_fish',\n",
        "            2: 'baby',\n",
        "            3: 'bear',\n",
        "            4: 'beaver',\n",
        "            5: 'bed',\n",
        "            6: 'bee',\n",
        "            7: 'beetle',\n",
        "            8: 'bicycle',\n",
        "            9: 'bottle',\n",
        "            10: 'bowl',\n",
        "            11: 'boy',\n",
        "            12: 'bridge',\n",
        "            13: 'bus',\n",
        "            14: 'butterfly'\n",
        "            }"
      ]
    },
    {
      "cell_type": "code",
      "execution_count": 25,
      "metadata": {
        "id": "j4cFs2WIVbER"
      },
      "outputs": [],
      "source": [
        "import matplotlib.pyplot as plt\n",
        "def plot_images_labels_prediction(images,labels,prediction,\n",
        "                                  idx,num=10):\n",
        "    fig = plt.gcf()\n",
        "    fig.set_size_inches(12, 14)\n",
        "    if num>25: num=25  # difine the showed-image max\n",
        "    for i in range(0, num):\n",
        "        ax=plt.subplot(5,5, 1+i)\n",
        "        ax.imshow(images[idx],cmap='binary')\n",
        "        try:       \n",
        "          title=str(i)+','+label_dict[labels[i][0]]\n",
        "          if len(prediction)>0:\n",
        "              title+='=>'+label_dict[prediction[i]]\n",
        "              \n",
        "          ax.set_title(title,fontsize=10) \n",
        "        except:\n",
        "          None\n",
        "        ax.set_xticks([]);ax.set_yticks([])        \n",
        "        idx+=1 \n",
        "    plt.show()"
      ]
    },
    {
      "cell_type": "code",
      "execution_count": 26,
      "metadata": {
        "id": "67mJ5vjbVbES",
        "colab": {
          "base_uri": "https://localhost:8080/",
          "height": 662
        },
        "outputId": "ac545b04-b008-444e-adbe-e5a309bc551b"
      },
      "outputs": [
        {
          "output_type": "display_data",
          "data": {
            "text/plain": [
              "<Figure size 1200x1400 with 15 Axes>"
            ],
            "image/png": "[encoded data removed]"
          },
          "metadata": {}
        }
      ],
      "source": [
        "plot_images_labels_prediction(x_img_test_selected,\n",
        "                              y_label_test_selected,\n",
        "                              prediction,\n",
        "                              0,\n",
        "                              15)"
      ]
    },
    {
      "cell_type": "markdown",
      "metadata": {
        "id": "IbvhoccDVbES"
      },
      "source": [
        "# 查看預測機率"
      ]
    },
    {
      "cell_type": "code",
      "execution_count": 27,
      "metadata": {
        "id": "-MPuckT3VbES",
        "colab": {
          "base_uri": "https://localhost:8080/"
        },
        "outputId": "f6f03b76-c727-447d-d3ff-ca3251d53956"
      },
      "outputs": [
        {
          "output_type": "stream",
          "name": "stdout",
          "text": [
            "47/47 [==============================] - 0s 9ms/step\n"
          ]
        }
      ],
      "source": [
        "Predicted_Probability=model.predict(x_img_test_selected)"
      ]
    },
    {
      "cell_type": "code",
      "execution_count": 28,
      "metadata": {
        "id": "PQ3hIP15VbES"
      },
      "outputs": [],
      "source": [
        "def show_Predicted_Probability(y,prediction,\n",
        "                               x_img,Predicted_Probability,i):\n",
        "    print('label:',label_dict[y[i][0]],\n",
        "          'predict:',label_dict[prediction[i]])\n",
        "    plt.figure(figsize=(2,2))\n",
        "    plt.imshow(np.reshape(x_img_test[i],(32, 32,3)))\n",
        "    plt.show()\n",
        "    for j in range(10):\n",
        "        print(label_dict[j]+\n",
        "              ' Probability:%1.9f'%(Predicted_Probability[i][j]))"
      ]
    },
    {
      "cell_type": "code",
      "execution_count": 31,
      "metadata": {
        "id": "clduo7LXVbES",
        "colab": {
          "base_uri": "https://localhost:8080/",
          "height": 413
        },
        "outputId": "6304d0ca-ed26-45d0-c626-8c5ebcae44e1"
      },
      "outputs": [
        {
          "output_type": "stream",
          "name": "stdout",
          "text": [
            "label: butterfly predict: butterfly\n"
          ]
        },
        {
          "output_type": "display_data",
          "data": {
            "text/plain": [
              "<Figure size 200x200 with 1 Axes>"
            ],
            "image/png": "[encoded data removed]"
          },
          "metadata": {}
        },
        {
          "output_type": "stream",
          "name": "stdout",
          "text": [
            "apple Probability:0.000003162\n",
            "aquarium_fish Probability:0.000194499\n",
            "baby Probability:0.004519333\n",
            "bear Probability:0.050091796\n",
            "beaver Probability:0.048829902\n",
            "bed Probability:0.000010429\n",
            "bee Probability:0.003531068\n",
            "beetle Probability:0.119604364\n",
            "bicycle Probability:0.001188429\n",
            "bottle Probability:0.000340842\n"
          ]
        }
      ],
      "source": [
        "show_Predicted_Probability(y_label_test_selected,prediction,\n",
        "                           x_img_test_selected,Predicted_Probability,0)"
      ]
    },
    {
      "cell_type": "code",
      "execution_count": 30,
      "metadata": {
        "id": "GGPfJu2eVbES",
        "colab": {
          "base_uri": "https://localhost:8080/",
          "height": 413
        },
        "outputId": "a264001c-139e-4d83-ad9f-f57dd2138b1b"
      },
      "outputs": [
        {
          "output_type": "stream",
          "name": "stdout",
          "text": [
            "label: bicycle predict: bicycle\n"
          ]
        },
        {
          "output_type": "display_data",
          "data": {
            "text/plain": [
              "<Figure size 200x200 with 1 Axes>"
            ],
            "image/png": "[encoded data removed]"
          },
          "metadata": {}
        },
        {
          "output_type": "stream",
          "name": "stdout",
          "text": [
            "apple Probability:0.000139573\n",
            "aquarium_fish Probability:0.000270834\n",
            "baby Probability:0.010359723\n",
            "bear Probability:0.000855012\n",
            "beaver Probability:0.001999218\n",
            "bed Probability:0.151893586\n",
            "bee Probability:0.033593446\n",
            "beetle Probability:0.017289460\n",
            "bicycle Probability:0.710894227\n",
            "bottle Probability:0.013226565\n"
          ]
        }
      ],
      "source": [
        "show_Predicted_Probability(y_label_test_selected,prediction,\n",
        "                           x_img_test_selected,Predicted_Probability,3)"
      ]
    },
    {
      "cell_type": "markdown",
      "metadata": {
        "id": "RR5ArYfKVbET"
      },
      "source": [
        "# confusion matrix"
      ]
    },
    {
      "cell_type": "code",
      "execution_count": 32,
      "metadata": {
        "id": "uhC3C_d-VbET",
        "colab": {
          "base_uri": "https://localhost:8080/"
        },
        "outputId": "5a64c108-6272-46e6-f55d-1745c5d9133d"
      },
      "outputs": [
        {
          "output_type": "execute_result",
          "data": {
            "text/plain": [
              "(1500,)"
            ]
          },
          "metadata": {},
          "execution_count": 32
        }
      ],
      "source": [
        "prediction.shape"
      ]
    },
    {
      "cell_type": "markdown",
      "source": [
        "建立混淆矩陣時結果資據必須為1維陣列,如果括號有多於一筆數據,則必須先進行數據處理"
      ],
      "metadata": {
        "id": "zaKceA3wmdVt"
      }
    },
    {
      "cell_type": "code",
      "execution_count": 33,
      "metadata": {
        "id": "Jg5fiWjCVbET",
        "colab": {
          "base_uri": "https://localhost:8080/"
        },
        "outputId": "bb769cb2-a601-4dd9-f876-510a2a348b1e"
      },
      "outputs": [
        {
          "output_type": "execute_result",
          "data": {
            "text/plain": [
              "(1500, 1)"
            ]
          },
          "metadata": {},
          "execution_count": 33
        }
      ],
      "source": [
        "y_label_test_selected.shape"
      ]
    },
    {
      "cell_type": "markdown",
      "source": [
        "執行結果顯示已轉換為1維陣列"
      ],
      "metadata": {
        "id": "7y6J4bODmxJW"
      }
    },
    {
      "cell_type": "code",
      "execution_count": 34,
      "metadata": {
        "id": "v6co6R1EVbET",
        "colab": {
          "base_uri": "https://localhost:8080/"
        },
        "outputId": "216222c0-7be3-45e9-b009-ba6673d2aa95"
      },
      "outputs": [
        {
          "output_type": "execute_result",
          "data": {
            "text/plain": [
              "array([[14],\n",
              "       [ 0],\n",
              "       [ 8],\n",
              "       ...,\n",
              "       [14],\n",
              "       [ 7],\n",
              "       [14]])"
            ]
          },
          "metadata": {},
          "execution_count": 34
        }
      ],
      "source": [
        "y_label_test_selected"
      ]
    },
    {
      "cell_type": "code",
      "execution_count": 35,
      "metadata": {
        "id": "zUOhJL0ZVbET",
        "colab": {
          "base_uri": "https://localhost:8080/"
        },
        "outputId": "6ab9b63b-066e-41f4-efac-bfb7bd5b83db"
      },
      "outputs": [
        {
          "output_type": "execute_result",
          "data": {
            "text/plain": [
              "array([14,  0,  8, ..., 14,  7, 14])"
            ]
          },
          "metadata": {},
          "execution_count": 35
        }
      ],
      "source": [
        "y_label_test_selected.reshape(-1)"
      ]
    },
    {
      "cell_type": "code",
      "execution_count": 36,
      "metadata": {
        "id": "hyWqjQ5GVbET"
      },
      "outputs": [],
      "source": [
        "import pandas as pd\n",
        "confusion_matrix = pd.crosstab(y_label_test_selected.reshape(-1),\n",
        "                               prediction,\n",
        "                               rownames=['label'], \n",
        "                               colnames=['predict'])"
      ]
    },
    {
      "cell_type": "code",
      "source": [
        "confusion_matrix"
      ],
      "metadata": {
        "colab": {
          "base_uri": "https://localhost:8080/",
          "height": 551
        },
        "id": "knIJhysV1ass",
        "outputId": "2eb07c0c-6cbd-40f6-d4a8-fd35f8724a2d"
      },
      "execution_count": 37,
      "outputs": [
        {
          "output_type": "execute_result",
          "data": {
            "text/plain": [
              "predict  0   1   2   3   4   5   6   7   8   9   10  11  12  13  14\n",
              "label                                                              \n",
              "0        72   3   2   0   0   1   0   4   1   0  10   3   0   0   4\n",
              "1         0  67   6   1   5   2   3   0   1   1   2   2   2   1   7\n",
              "2         1   5  43   0   3   6   4   1   1   2   4  21   1   2   6\n",
              "3         0   0   5  43  14   1   6   7   5   0   1   3   5   1   9\n",
              "4         0   1   4   9  50   0   1   7  11   1   2   3   6   1   4\n",
              "5         0   2   4   0   2  58   2   0   0   2   4   3  16   6   1\n",
              "6         1   3   3   2   3   0  56   5   3   1   0   3   4   4  12\n",
              "7         2   0   0   2   2   1   4  70   5   1   2   1   1   0   9\n",
              "8         0   0   1   1   2   1   2   5  66   2   1   0  10   9   0\n",
              "9         0   0   2   0   0   2   2   3   2  71   3   3   7   2   3\n",
              "10        6   1   0   2   1   2   3   5   1   1  73   1   0   1   3\n",
              "11        0   6  18   1   1   3   2   1   5   6   4  38   1   7   7\n",
              "12        0   1   1   0   1   1   0   1   5   2   0   0  79   6   3\n",
              "13        1   1   4   1   0   4   1   1   2   0   2   3  16  63   1\n",
              "14        0   4   0   3   2   0   3   6   4   1   2   4   1   1  69"
            ],
            "text/html": [
              "\n",
              "  <div id=\"df-ac81623a-f2e6-4d55-9b79-fa0c2d5f6fb3\">\n",
              "    <div class=\"colab-df-container\">\n",
              "      <div>\n",
              "<style scoped>\n",
              "    .dataframe tbody tr th:only-of-type {\n",
              "        vertical-align: middle;\n",
              "    }\n",
              "\n",
              "    .dataframe tbody tr th {\n",
              "        vertical-align: top;\n",
              "    }\n",
              "\n",
              "    .dataframe thead th {\n",
              "        text-align: right;\n",
              "    }\n",
              "</style>\n",
              "<table border=\"1\" class=\"dataframe\">\n",
              "  <thead>\n",
              "    <tr style=\"text-align: right;\">\n",
              "      <th>predict</th>\n",
              "      <th>0</th>\n",
              "      <th>1</th>\n",
              "      <th>2</th>\n",
              "      <th>3</th>\n",
              "      <th>4</th>\n",
              "      <th>5</th>\n",
              "      <th>6</th>\n",
              "      <th>7</th>\n",
              "      <th>8</th>\n",
              "      <th>9</th>\n",
              "      <th>10</th>\n",
              "      <th>11</th>\n",
              "      <th>12</th>\n",
              "      <th>13</th>\n",
              "      <th>14</th>\n",
              "    </tr>\n",
              "    <tr>\n",
              "      <th>label</th>\n",
              "      <th></th>\n",
              "      <th></th>\n",
              "      <th></th>\n",
              "      <th></th>\n",
              "      <th></th>\n",
              "      <th></th>\n",
              "      <th></th>\n",
              "      <th></th>\n",
              "      <th></th>\n",
              "      <th></th>\n",
              "      <th></th>\n",
              "      <th></th>\n",
              "      <th></th>\n",
              "      <th></th>\n",
              "      <th></th>\n",
              "    </tr>\n",
              "  </thead>\n",
              "  <tbody>\n",
              "    <tr>\n",
              "      <th>0</th>\n",
              "      <td>72</td>\n",
              "      <td>3</td>\n",
              "      <td>2</td>\n",
              "      <td>0</td>\n",
              "      <td>0</td>\n",
              "      <td>1</td>\n",
              "      <td>0</td>\n",
              "      <td>4</td>\n",
              "      <td>1</td>\n",
              "      <td>0</td>\n",
              "      <td>10</td>\n",
              "      <td>3</td>\n",
              "      <td>0</td>\n",
              "      <td>0</td>\n",
              "      <td>4</td>\n",
              "    </tr>\n",
              "    <tr>\n",
              "      <th>1</th>\n",
              "      <td>0</td>\n",
              "      <td>67</td>\n",
              "      <td>6</td>\n",
              "      <td>1</td>\n",
              "      <td>5</td>\n",
              "      <td>2</td>\n",
              "      <td>3</td>\n",
              "      <td>0</td>\n",
              "      <td>1</td>\n",
              "      <td>1</td>\n",
              "      <td>2</td>\n",
              "      <td>2</td>\n",
              "      <td>2</td>\n",
              "      <td>1</td>\n",
              "      <td>7</td>\n",
              "    </tr>\n",
              "    <tr>\n",
              "      <th>2</th>\n",
              "      <td>1</td>\n",
              "      <td>5</td>\n",
              "      <td>43</td>\n",
              "      <td>0</td>\n",
              "      <td>3</td>\n",
              "      <td>6</td>\n",
              "      <td>4</td>\n",
              "      <td>1</td>\n",
              "      <td>1</td>\n",
              "      <td>2</td>\n",
              "      <td>4</td>\n",
              "      <td>21</td>\n",
              "      <td>1</td>\n",
              "      <td>2</td>\n",
              "      <td>6</td>\n",
              "    </tr>\n",
              "    <tr>\n",
              "      <th>3</th>\n",
              "      <td>0</td>\n",
              "      <td>0</td>\n",
              "      <td>5</td>\n",
              "      <td>43</td>\n",
              "      <td>14</td>\n",
              "      <td>1</td>\n",
              "      <td>6</td>\n",
              "      <td>7</td>\n",
              "      <td>5</td>\n",
              "      <td>0</td>\n",
              "      <td>1</td>\n",
              "      <td>3</td>\n",
              "      <td>5</td>\n",
              "      <td>1</td>\n",
              "      <td>9</td>\n",
              "    </tr>\n",
              "    <tr>\n",
              "      <th>4</th>\n",
              "      <td>0</td>\n",
              "      <td>1</td>\n",
              "      <td>4</td>\n",
              "      <td>9</td>\n",
              "      <td>50</td>\n",
              "      <td>0</td>\n",
              "      <td>1</td>\n",
              "      <td>7</td>\n",
              "      <td>11</td>\n",
              "      <td>1</td>\n",
              "      <td>2</td>\n",
              "      <td>3</td>\n",
              "      <td>6</td>\n",
              "      <td>1</td>\n",
              "      <td>4</td>\n",
              "    </tr>\n",
              "    <tr>\n",
              "      <th>5</th>\n",
              "      <td>0</td>\n",
              "      <td>2</td>\n",
              "      <td>4</td>\n",
              "      <td>0</td>\n",
              "      <td>2</td>\n",
              "      <td>58</td>\n",
              "      <td>2</td>\n",
              "      <td>0</td>\n",
              "      <td>0</td>\n",
              "      <td>2</td>\n",
              "      <td>4</td>\n",
              "      <td>3</td>\n",
              "      <td>16</td>\n",
              "      <td>6</td>\n",
              "      <td>1</td>\n",
              "    </tr>\n",
              "    <tr>\n",
              "      <th>6</th>\n",
              "      <td>1</td>\n",
              "      <td>3</td>\n",
              "      <td>3</td>\n",
              "      <td>2</td>\n",
              "      <td>3</td>\n",
              "      <td>0</td>\n",
              "      <td>56</td>\n",
              "      <td>5</td>\n",
              "      <td>3</td>\n",
              "      <td>1</td>\n",
              "      <td>0</td>\n",
              "      <td>3</td>\n",
              "      <td>4</td>\n",
              "      <td>4</td>\n",
              "      <td>12</td>\n",
              "    </tr>\n",
              "    <tr>\n",
              "      <th>7</th>\n",
              "      <td>2</td>\n",
              "      <td>0</td>\n",
              "      <td>0</td>\n",
              "      <td>2</td>\n",
              "      <td>2</td>\n",
              "      <td>1</td>\n",
              "      <td>4</td>\n",
              "      <td>70</td>\n",
              "      <td>5</td>\n",
              "      <td>1</td>\n",
              "      <td>2</td>\n",
              "      <td>1</td>\n",
              "      <td>1</td>\n",
              "      <td>0</td>\n",
              "      <td>9</td>\n",
              "    </tr>\n",
              "    <tr>\n",
              "      <th>8</th>\n",
              "      <td>0</td>\n",
              "      <td>0</td>\n",
              "      <td>1</td>\n",
              "      <td>1</td>\n",
              "      <td>2</td>\n",
              "      <td>1</td>\n",
              "      <td>2</td>\n",
              "      <td>5</td>\n",
              "      <td>66</td>\n",
              "      <td>2</td>\n",
              "      <td>1</td>\n",
              "      <td>0</td>\n",
              "      <td>10</td>\n",
              "      <td>9</td>\n",
              "      <td>0</td>\n",
              "    </tr>\n",
              "    <tr>\n",
              "      <th>9</th>\n",
              "      <td>0</td>\n",
              "      <td>0</td>\n",
              "      <td>2</td>\n",
              "      <td>0</td>\n",
              "      <td>0</td>\n",
              "      <td>2</td>\n",
              "      <td>2</td>\n",
              "      <td>3</td>\n",
              "      <td>2</td>\n",
              "      <td>71</td>\n",
              "      <td>3</td>\n",
              "      <td>3</td>\n",
              "      <td>7</td>\n",
              "      <td>2</td>\n",
              "      <td>3</td>\n",
              "    </tr>\n",
              "    <tr>\n",
              "      <th>10</th>\n",
              "      <td>6</td>\n",
              "      <td>1</td>\n",
              "      <td>0</td>\n",
              "      <td>2</td>\n",
              "      <td>1</td>\n",
              "      <td>2</td>\n",
              "      <td>3</td>\n",
              "      <td>5</td>\n",
              "      <td>1</td>\n",
              "      <td>1</td>\n",
              "      <td>73</td>\n",
              "      <td>1</td>\n",
              "      <td>0</td>\n",
              "      <td>1</td>\n",
              "      <td>3</td>\n",
              "    </tr>\n",
              "    <tr>\n",
              "      <th>11</th>\n",
              "      <td>0</td>\n",
              "      <td>6</td>\n",
              "      <td>18</td>\n",
              "      <td>1</td>\n",
              "      <td>1</td>\n",
              "      <td>3</td>\n",
              "      <td>2</td>\n",
              "      <td>1</td>\n",
              "      <td>5</td>\n",
              "      <td>6</td>\n",
              "      <td>4</td>\n",
              "      <td>38</td>\n",
              "      <td>1</td>\n",
              "      <td>7</td>\n",
              "      <td>7</td>\n",
              "    </tr>\n",
              "    <tr>\n",
              "      <th>12</th>\n",
              "      <td>0</td>\n",
              "      <td>1</td>\n",
              "      <td>1</td>\n",
              "      <td>0</td>\n",
              "      <td>1</td>\n",
              "      <td>1</td>\n",
              "      <td>0</td>\n",
              "      <td>1</td>\n",
              "      <td>5</td>\n",
              "      <td>2</td>\n",
              "      <td>0</td>\n",
              "      <td>0</td>\n",
              "      <td>79</td>\n",
              "      <td>6</td>\n",
              "      <td>3</td>\n",
              "    </tr>\n",
              "    <tr>\n",
              "      <th>13</th>\n",
              "      <td>1</td>\n",
              "      <td>1</td>\n",
              "      <td>4</td>\n",
              "      <td>1</td>\n",
              "      <td>0</td>\n",
              "      <td>4</td>\n",
              "      <td>1</td>\n",
              "      <td>1</td>\n",
              "      <td>2</td>\n",
              "      <td>0</td>\n",
              "      <td>2</td>\n",
              "      <td>3</td>\n",
              "      <td>16</td>\n",
              "      <td>63</td>\n",
              "      <td>1</td>\n",
              "    </tr>\n",
              "    <tr>\n",
              "      <th>14</th>\n",
              "      <td>0</td>\n",
              "      <td>4</td>\n",
              "      <td>0</td>\n",
              "      <td>3</td>\n",
              "      <td>2</td>\n",
              "      <td>0</td>\n",
              "      <td>3</td>\n",
              "      <td>6</td>\n",
              "      <td>4</td>\n",
              "      <td>1</td>\n",
              "      <td>2</td>\n",
              "      <td>4</td>\n",
              "      <td>1</td>\n",
              "      <td>1</td>\n",
              "      <td>69</td>\n",
              "    </tr>\n",
              "  </tbody>\n",
              "</table>\n",
              "</div>\n",
              "      <button class=\"colab-df-convert\" onclick=\"convertToInteractive('df-ac81623a-f2e6-4d55-9b79-fa0c2d5f6fb3')\"\n",
              "              title=\"Convert this dataframe to an interactive table.\"\n",
              "              style=\"display:none;\">\n",
              "        \n",
              "  <svg xmlns=\"http://www.w3.org/2000/svg\" height=\"24px\"viewBox=\"0 0 24 24\"\n",
              "       width=\"24px\">\n",
              "    <path d=\"M0 0h24v24H0V0z\" fill=\"none\"/>\n",
              "    <path d=\"M18.56 5.44l.94 2.06.94-2.06 2.06-.94-2.06-.94-.94-2.06-.94 2.06-2.06.94zm-11 1L8.5 8.5l.94-2.06 2.06-.94-2.06-.94L8.5 2.5l-.94 2.06-2.06.94zm10 10l.94 2.06.94-2.06 2.06-.94-2.06-.94-.94-2.06-.94 2.06-2.06.94z\"/><path d=\"M17.41 7.96l-1.37-1.37c-.4-.4-.92-.59-1.43-.59-.52 0-1.04.2-1.43.59L10.3 9.45l-7.72 7.72c-.78.78-.78 2.05 0 2.83L4 21.41c.39.39.9.59 1.41.59.51 0 1.02-.2 1.41-.59l7.78-7.78 2.81-2.81c.8-.78.8-2.07 0-2.86zM5.41 20L4 18.59l7.72-7.72 1.47 1.35L5.41 20z\"/>\n",
              "  </svg>\n",
              "      </button>\n",
              "      \n",
              "  <style>\n",
              "    .colab-df-container {\n",
              "      display:flex;\n",
              "      flex-wrap:wrap;\n",
              "      gap: 12px;\n",
              "    }\n",
              "\n",
              "    .colab-df-convert {\n",
              "      background-color: #E8F0FE;\n",
              "      border: none;\n",
              "      border-radius: 50%;\n",
              "      cursor: pointer;\n",
              "      display: none;\n",
              "      fill: #1967D2;\n",
              "      height: 32px;\n",
              "      padding: 0 0 0 0;\n",
              "      width: 32px;\n",
              "    }\n",
              "\n",
              "    .colab-df-convert:hover {\n",
              "      background-color: #E2EBFA;\n",
              "      box-shadow: 0px 1px 2px rgba(60, 64, 67, 0.3), 0px 1px 3px 1px rgba(60, 64, 67, 0.15);\n",
              "      fill: #174EA6;\n",
              "    }\n",
              "\n",
              "    [theme=dark] .colab-df-convert {\n",
              "      background-color: #3B4455;\n",
              "      fill: #D2E3FC;\n",
              "    }\n",
              "\n",
              "    [theme=dark] .colab-df-convert:hover {\n",
              "      background-color: #434B5C;\n",
              "      box-shadow: 0px 1px 3px 1px rgba(0, 0, 0, 0.15);\n",
              "      filter: drop-shadow(0px 1px 2px rgba(0, 0, 0, 0.3));\n",
              "      fill: #FFFFFF;\n",
              "    }\n",
              "  </style>\n",
              "\n",
              "      <script>\n",
              "        const buttonEl =\n",
              "          document.querySelector('#df-ac81623a-f2e6-4d55-9b79-fa0c2d5f6fb3 button.colab-df-convert');\n",
              "        buttonEl.style.display =\n",
              "          google.colab.kernel.accessAllowed ? 'block' : 'none';\n",
              "\n",
              "        async function convertToInteractive(key) {\n",
              "          const element = document.querySelector('#df-ac81623a-f2e6-4d55-9b79-fa0c2d5f6fb3');\n",
              "          const dataTable =\n",
              "            await google.colab.kernel.invokeFunction('convertToInteractive',\n",
              "                                                     [key], {});\n",
              "          if (!dataTable) return;\n",
              "\n",
              "          const docLinkHtml = 'Like what you see? Visit the ' +\n",
              "            '<a target=\"_blank\" href=https://colab.research.google.com/notebooks/data_table.ipynb>data table notebook</a>'\n",
              "            + ' to learn more about interactive tables.';\n",
              "          element.innerHTML = '';\n",
              "          dataTable['output_type'] = 'display_data';\n",
              "          await google.colab.output.renderOutput(dataTable, element);\n",
              "          const docLink = document.createElement('div');\n",
              "          docLink.innerHTML = docLinkHtml;\n",
              "          element.appendChild(docLink);\n",
              "        }\n",
              "      </script>\n",
              "    </div>\n",
              "  </div>\n",
              "  "
            ]
          },
          "metadata": {},
          "execution_count": 37
        }
      ]
    },
    {
      "cell_type": "markdown",
      "source": [
        "匯入pandas模組\n",
        "\n",
        "reshape(-1)轉換1維陣列\n",
        "\n",
        "測試資料的預測結果\n",
        "\n",
        "設定行的名稱label\n",
        "\n",
        "設定列的名稱是predict"
      ],
      "metadata": {
        "id": "kQZdeca-m9Ns"
      }
    },
    {
      "cell_type": "code",
      "execution_count": 38,
      "metadata": {
        "id": "mNYccE8kVbET",
        "colab": {
          "base_uri": "https://localhost:8080/"
        },
        "outputId": "18d726ce-826a-4b6e-b48a-d2b4f325af63"
      },
      "outputs": [
        {
          "output_type": "stream",
          "name": "stdout",
          "text": [
            "{0: 'apple', 1: 'aquarium_fish', 2: 'baby', 3: 'bear', 4: 'beaver', 5: 'bed', 6: 'bee', 7: 'beetle', 8: 'bicycle', 9: 'bottle', 10: 'bowl', 11: 'boy', 12: 'bridge', 13: 'bus', 14: 'butterfly'}\n"
          ]
        }
      ],
      "source": [
        "print(label_dict)"
      ]
    },
    {
      "cell_type": "markdown",
      "metadata": {
        "id": "xgPEYeP6ncct"
      },
      "source": [
        "# Save model to Google Drive"
      ]
    },
    {
      "cell_type": "code",
      "source": [
        "from google.colab import drive\n",
        "drive.mount('/content/drive')"
      ],
      "metadata": {
        "colab": {
          "base_uri": "https://localhost:8080/"
        },
        "id": "5zDh3X6jJO3S",
        "outputId": "801387b8-a571-440a-c753-6dff3caad082"
      },
      "execution_count": 39,
      "outputs": [
        {
          "output_type": "stream",
          "name": "stdout",
          "text": [
            "Mounted at /content/drive\n"
          ]
        }
      ]
    },
    {
      "cell_type": "markdown",
      "metadata": {
        "id": "XzrMssWNVbEU"
      },
      "source": [
        "# Save model to JSON"
      ]
    },
    {
      "cell_type": "code",
      "source": [
        "import os\n",
        "try:\n",
        "  os.makedirs('/content/Save/')\n",
        "except:\n",
        "  print(\"File existed\")"
      ],
      "metadata": {
        "id": "GoajPEEz46ed"
      },
      "execution_count": 40,
      "outputs": []
    },
    {
      "cell_type": "code",
      "execution_count": 41,
      "metadata": {
        "id": "AvoekqDXVbEU"
      },
      "outputs": [],
      "source": [
        "model_json = model.to_json()\n",
        "with open(\"/content/Save/cifarCnnModelnew.json\", \"w\") as json_file:\n",
        "    json_file.write(model_json)"
      ]
    },
    {
      "cell_type": "markdown",
      "metadata": {
        "id": "kTqXuqg_VbEU"
      },
      "source": [
        "# Save Weight to h5 "
      ]
    },
    {
      "cell_type": "code",
      "execution_count": 42,
      "metadata": {
        "id": "lMjKTwBWVbEU",
        "colab": {
          "base_uri": "https://localhost:8080/"
        },
        "outputId": "b3ca1d68-111d-4c94-91c0-974aad9c1a10"
      },
      "outputs": [
        {
          "output_type": "stream",
          "name": "stdout",
          "text": [
            "Saved model to disk\n"
          ]
        }
      ],
      "source": [
        "model.save_weights(\"/content/Save/cifarCnnModelnew.h5\")\n",
        "print(\"Saved model to disk\")"
      ]
    }
  ],
  "metadata": {
    "anaconda-cloud": {},
    "kernelspec": {
      "display_name": "Python 3",
      "language": "python",
      "name": "python3"
    },
    "language_info": {
      "codemirror_mode": {
        "name": "ipython",
        "version": 3
      },
      "file_extension": ".py",
      "mimetype": "text/x-python",
      "name": "python",
      "nbconvert_exporter": "python",
      "pygments_lexer": "ipython3",
      "version": "3.5.5"
    },
    "colab": {
      "provenance": []
    },
    "accelerator": "GPU"
  },
  "nbformat": 4,
  "nbformat_minor": 0
}