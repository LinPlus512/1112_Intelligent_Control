{
  "cells": [
    {
      "cell_type": "markdown",
      "metadata": {
        "id": "JmY2upFw2cjz"
      },
      "source": [
        "# 1. Import Library"
      ]
    },
    {
      "cell_type": "code",
      "source": [
        "from google.colab import drive\n",
        "drive.mount('/content/drive')"
      ],
      "metadata": {
        "colab": {
          "base_uri": "https://localhost:8080/"
        },
        "id": "H0HF4jif8lsT",
        "outputId": "2bac0186-9852-4341-f7c9-2c4ebdd2da0d"
      },
      "execution_count": 279,
      "outputs": [
        {
          "output_type": "stream",
          "name": "stdout",
          "text": [
            "Drive already mounted at /content/drive; to attempt to forcibly remount, call drive.mount(\"/content/drive\", force_remount=True).\n"
          ]
        }
      ]
    },
    {
      "cell_type": "code",
      "execution_count": 280,
      "metadata": {
        "id": "dIs7WLxQ2cj3"
      },
      "outputs": [],
      "source": [
        "from keras.datasets import mnist\n",
        "from keras.utils import np_utils\n",
        "import numpy as np\n",
        "np.random.seed(10)"
      ]
    },
    {
      "cell_type": "markdown",
      "metadata": {
        "id": "_uUUF_hQ2cj4"
      },
      "source": [
        "# 資料預處理"
      ]
    },
    {
      "cell_type": "markdown",
      "source": [
        "前一個訓練中confusion matrix中非對角線且非0的元素所對應的照片index"
      ],
      "metadata": {
        "id": "MD2LP_NSKkpo"
      }
    },
    {
      "cell_type": "code",
      "source": [
        "# # sample code 中confusion matrix 有問題的index\n",
        "# remove_idx = [1621, 8325, 6597, 6651, 3073, 900, 2182, 2018, 321, 583, 659, 4176, 9664, 9839, 4740, 5955, 247, 1112, 4265, 2043, 3534, 740, 1242, 2130, 4860, 3558, 340, 1393, 2035, 2597, 2970, 3157, 5937, 4763, 9729, 9749, 9770, 5997, 3422, 2135, 2654, 625, 3520, 1014, 1182, 2454, 2995, 1260, 1039, 1226, 9009, 9015, 3451, 4238, 3808, 1522, 2896, 582, 6625, 1878, 8408, 1530, 947, 2387, 1247, 1709, 4284, 6571, 1232, 1901, 3985, 4761, 2939, 4163, 9642]"
      ],
      "metadata": {
        "id": "1395Fc0jBViN"
      },
      "execution_count": 281,
      "outputs": []
    },
    {
      "cell_type": "markdown",
      "source": [
        "讀取mnist資料"
      ],
      "metadata": {
        "id": "F1e0lOz_by-a"
      }
    },
    {
      "cell_type": "code",
      "execution_count": 282,
      "metadata": {
        "id": "yJV_lffC2cj5"
      },
      "outputs": [],
      "source": [
        "(x_Train, y_Train), (x_Test, y_Test) = mnist.load_data()"
      ]
    },
    {
      "cell_type": "markdown",
      "source": [
        "刪除前一個訓練中confusion matrix中有問題的照片index"
      ],
      "metadata": {
        "id": "jdDeEBT8KWUz"
      }
    },
    {
      "cell_type": "code",
      "source": [
        "# # Remove the specified indices from the arrays\n",
        "# x_Train = np.delete(x_Train, remove_idx, axis=0)\n",
        "# y_Train = np.delete(y_Train, remove_idx, axis=0)\n",
        "\n",
        "# # Verify the shapes of the new arrays\n",
        "# print('x_train shape:', x_Train.shape)\n",
        "# print('y_train shape:', y_Train.shape)"
      ],
      "metadata": {
        "id": "CBW4aAyqCFWQ"
      },
      "execution_count": 283,
      "outputs": []
    },
    {
      "cell_type": "markdown",
      "source": [
        "將features 轉換為4維矩陣"
      ],
      "metadata": {
        "id": "AiAbbyl_b3kI"
      }
    },
    {
      "cell_type": "code",
      "execution_count": 284,
      "metadata": {
        "id": "bVTDLNYP2cj5"
      },
      "outputs": [],
      "source": [
        "x_Train4D=x_Train.reshape(x_Train.shape[0],28,28,1).astype('float32')\n",
        "x_Test4D=x_Test.reshape(x_Test.shape[0],28,28,1).astype('float32')"
      ]
    },
    {
      "cell_type": "markdown",
      "source": [
        "將features 標準化"
      ],
      "metadata": {
        "id": "CDi5t2p5b49I"
      }
    },
    {
      "cell_type": "code",
      "execution_count": 285,
      "metadata": {
        "collapsed": true,
        "id": "noPECbad2cj6"
      },
      "outputs": [],
      "source": [
        "x_Train4D_normalize = x_Train4D / 255\n",
        "x_Test4D_normalize = x_Test4D / 255"
      ]
    },
    {
      "cell_type": "markdown",
      "source": [
        "labal 以onehot encoding轉換"
      ],
      "metadata": {
        "id": "5IPnofkib7PY"
      }
    },
    {
      "cell_type": "code",
      "execution_count": 286,
      "metadata": {
        "collapsed": true,
        "id": "1fnWyNcU2cj6"
      },
      "outputs": [],
      "source": [
        "y_TrainOneHot = np_utils.to_categorical(y_Train)\n",
        "y_TestOneHot = np_utils.to_categorical(y_Test)"
      ]
    },
    {
      "cell_type": "markdown",
      "metadata": {
        "id": "0Q-ONdt72cj7"
      },
      "source": [
        "# 建立模型"
      ]
    },
    {
      "cell_type": "markdown",
      "source": [
        "匯入模組"
      ],
      "metadata": {
        "id": "0LmTz2FVcIcB"
      }
    },
    {
      "cell_type": "code",
      "execution_count": 287,
      "metadata": {
        "collapsed": true,
        "id": "w2HnYspj2cj8"
      },
      "outputs": [],
      "source": [
        "from keras.models import Sequential\n",
        "from keras.layers import Dense,Dropout,Flatten,Conv2D,MaxPooling2D"
      ]
    },
    {
      "cell_type": "markdown",
      "source": [
        "建立keras的sequential"
      ],
      "metadata": {
        "id": "vVa6iMrLcJ9Q"
      }
    },
    {
      "cell_type": "code",
      "execution_count": 288,
      "metadata": {
        "collapsed": true,
        "id": "8tIpddVj2cj8"
      },
      "outputs": [],
      "source": [
        "model = Sequential()"
      ]
    },
    {
      "cell_type": "markdown",
      "source": [
        "建立卷積層1"
      ],
      "metadata": {
        "id": "Uyv_S1GScMI_"
      }
    },
    {
      "cell_type": "code",
      "execution_count": 289,
      "metadata": {
        "id": "uIl3X3z62cj9"
      },
      "outputs": [],
      "source": [
        "model.add(Conv2D(filters=16,\n",
        "                 kernel_size=(5,5),\n",
        "                 padding='same',\n",
        "                 input_shape=(28,28,1), \n",
        "                 activation='relu'))"
      ]
    },
    {
      "cell_type": "markdown",
      "source": [
        "建立池化層1"
      ],
      "metadata": {
        "id": "LOIV6TIxcQFP"
      }
    },
    {
      "cell_type": "code",
      "execution_count": 290,
      "metadata": {
        "collapsed": true,
        "id": "kR_v_2ul2cj9"
      },
      "outputs": [],
      "source": [
        "model.add(MaxPooling2D(pool_size=(2, 2)))"
      ]
    },
    {
      "cell_type": "markdown",
      "source": [
        "建立卷積層2"
      ],
      "metadata": {
        "id": "tpzPtyy_cZ7H"
      }
    },
    {
      "cell_type": "code",
      "execution_count": 291,
      "metadata": {
        "id": "FAvHk8wq2cj9"
      },
      "outputs": [],
      "source": [
        "model.add(Conv2D(filters=36,\n",
        "                 kernel_size=(5,5),\n",
        "                 padding='same',\n",
        "                 activation='relu'))"
      ]
    },
    {
      "cell_type": "markdown",
      "source": [
        "建立池化層2"
      ],
      "metadata": {
        "id": "_-psuafkcb-v"
      }
    },
    {
      "cell_type": "code",
      "execution_count": 292,
      "metadata": {
        "collapsed": true,
        "id": "H8IOTQ1z2cj-"
      },
      "outputs": [],
      "source": [
        "model.add(MaxPooling2D(pool_size=(2, 2)))"
      ]
    },
    {
      "cell_type": "markdown",
      "source": [
        "加入Dropout 避免overfitting"
      ],
      "metadata": {
        "id": "cZv6lGVVceWP"
      }
    },
    {
      "cell_type": "code",
      "execution_count": 293,
      "metadata": {
        "collapsed": true,
        "id": "m7JTN3S92cj-"
      },
      "outputs": [],
      "source": [
        "model.add(Dropout(0.25))"
      ]
    },
    {
      "cell_type": "markdown",
      "source": [
        "建立神經網路(平坦層、隱藏層、輸出層)\n"
      ],
      "metadata": {
        "id": "x-2hx3STch4f"
      }
    },
    {
      "cell_type": "markdown",
      "source": [
        "建立平坦層"
      ],
      "metadata": {
        "id": "oaPu_9SIdJqX"
      }
    },
    {
      "cell_type": "code",
      "execution_count": 294,
      "metadata": {
        "collapsed": true,
        "id": "jL7TYbHi2cj-"
      },
      "outputs": [],
      "source": [
        "model.add(Flatten())"
      ]
    },
    {
      "cell_type": "markdown",
      "source": [
        "建立隱藏層"
      ],
      "metadata": {
        "id": "Yr_eIf3IdQ9g"
      }
    },
    {
      "cell_type": "code",
      "execution_count": 295,
      "metadata": {
        "collapsed": true,
        "id": "KigjwiyE2cj-"
      },
      "outputs": [],
      "source": [
        "model.add(Dense(128, activation='relu'))"
      ]
    },
    {
      "cell_type": "code",
      "execution_count": 296,
      "metadata": {
        "collapsed": true,
        "id": "lWMPzYSh2cj_"
      },
      "outputs": [],
      "source": [
        "model.add(Dropout(0.5))"
      ]
    },
    {
      "cell_type": "markdown",
      "source": [
        "建立輸出層"
      ],
      "metadata": {
        "id": "aBz9bie6dZOJ"
      }
    },
    {
      "cell_type": "code",
      "execution_count": 297,
      "metadata": {
        "collapsed": true,
        "id": "Amc8txE42cj_"
      },
      "outputs": [],
      "source": [
        "model.add(Dense(10,activation='softmax'))"
      ]
    },
    {
      "cell_type": "markdown",
      "source": [
        "查看模型"
      ],
      "metadata": {
        "id": "aiXUHXlIdjZn"
      }
    },
    {
      "cell_type": "code",
      "execution_count": 298,
      "metadata": {
        "colab": {
          "base_uri": "https://localhost:8080/"
        },
        "id": "E3Wytqj02cj_",
        "outputId": "cc97adb9-a866-49f8-9380-8d8ad34fbf0b"
      },
      "outputs": [
        {
          "output_type": "stream",
          "name": "stdout",
          "text": [
            "Model: \"sequential_5\"\n",
            "_________________________________________________________________\n",
            " Layer (type)                Output Shape              Param #   \n",
            "=================================================================\n",
            " conv2d_10 (Conv2D)          (None, 28, 28, 16)        416       \n",
            "                                                                 \n",
            " max_pooling2d_10 (MaxPoolin  (None, 14, 14, 16)       0         \n",
            " g2D)                                                            \n",
            "                                                                 \n",
            " conv2d_11 (Conv2D)          (None, 14, 14, 36)        14436     \n",
            "                                                                 \n",
            " max_pooling2d_11 (MaxPoolin  (None, 7, 7, 36)         0         \n",
            " g2D)                                                            \n",
            "                                                                 \n",
            " dropout_10 (Dropout)        (None, 7, 7, 36)          0         \n",
            "                                                                 \n",
            " flatten_5 (Flatten)         (None, 1764)              0         \n",
            "                                                                 \n",
            " dense_10 (Dense)            (None, 128)               225920    \n",
            "                                                                 \n",
            " dropout_11 (Dropout)        (None, 128)               0         \n",
            "                                                                 \n",
            " dense_11 (Dense)            (None, 10)                1290      \n",
            "                                                                 \n",
            "=================================================================\n",
            "Total params: 242,062\n",
            "Trainable params: 242,062\n",
            "Non-trainable params: 0\n",
            "_________________________________________________________________\n",
            "None\n"
          ]
        }
      ],
      "source": [
        "print(model.summary())"
      ]
    },
    {
      "cell_type": "markdown",
      "metadata": {
        "id": "6LwUGG6F2cj_"
      },
      "source": [
        "# 訓練模型"
      ]
    },
    {
      "cell_type": "markdown",
      "source": [
        "定義訓練"
      ],
      "metadata": {
        "id": "Fjsa3LLWdmBv"
      }
    },
    {
      "cell_type": "code",
      "source": [
        "# define the hyper parameter\n",
        "lr = 0.01\n",
        "epoch_num = 100"
      ],
      "metadata": {
        "id": "KAcx64BMINrX"
      },
      "execution_count": 299,
      "outputs": []
    },
    {
      "cell_type": "code",
      "execution_count": 300,
      "metadata": {
        "id": "y0cbHAsy2ckA"
      },
      "outputs": [],
      "source": [
        "from tensorflow import keras\n",
        "opt = keras.optimizers.Adam(learning_rate=lr)\n",
        "model.compile(loss='categorical_crossentropy',\n",
        "              optimizer=opt ,metrics=['accuracy']) "
      ]
    },
    {
      "cell_type": "markdown",
      "source": [
        "use schedular to modulat the learning rate."
      ],
      "metadata": {
        "id": "inZT4WixK-Af"
      }
    },
    {
      "cell_type": "code",
      "source": [
        "from keras.callbacks import LearningRateScheduler\n",
        "\n",
        "def scheduler(epoch, lr):\n",
        "    print(lr)\n",
        "    if epoch%10 == 0:\n",
        "        return lr * 0.1\n",
        "    else:\n",
        "        return lr \n",
        "\n",
        "lr_scheduler = LearningRateScheduler(scheduler)\n",
        "\n"
      ],
      "metadata": {
        "id": "GwRTffekFnoN"
      },
      "execution_count": 301,
      "outputs": []
    },
    {
      "cell_type": "markdown",
      "source": [
        "開始訓練"
      ],
      "metadata": {
        "id": "tRlEiddqdoZX"
      }
    },
    {
      "cell_type": "code",
      "execution_count": 302,
      "metadata": {
        "colab": {
          "base_uri": "https://localhost:8080/"
        },
        "id": "NvkViH3q2ckA",
        "outputId": "f4db0e9e-c37a-45ad-91ab-ed17c7e96ba5"
      },
      "outputs": [
        {
          "output_type": "stream",
          "name": "stdout",
          "text": [
            "0.009999999776482582\n",
            "Epoch 1/100\n",
            "160/160 - 3s - loss: 0.4975 - accuracy: 0.8446 - val_loss: 0.1066 - val_accuracy: 0.9670 - lr: 1.0000e-03 - 3s/epoch - 21ms/step\n",
            "0.0009999999310821295\n",
            "Epoch 2/100\n",
            "160/160 - 1s - loss: 0.1508 - accuracy: 0.9555 - val_loss: 0.0725 - val_accuracy: 0.9781 - lr: 1.0000e-03 - 1s/epoch - 7ms/step\n",
            "0.0009999999310821295\n",
            "Epoch 3/100\n",
            "160/160 - 1s - loss: 0.1075 - accuracy: 0.9673 - val_loss: 0.0575 - val_accuracy: 0.9828 - lr: 1.0000e-03 - 1s/epoch - 7ms/step\n",
            "0.0009999999310821295\n",
            "Epoch 4/100\n",
            "160/160 - 1s - loss: 0.0871 - accuracy: 0.9740 - val_loss: 0.0490 - val_accuracy: 0.9852 - lr: 1.0000e-03 - 1s/epoch - 7ms/step\n",
            "0.0009999999310821295\n",
            "Epoch 5/100\n",
            "160/160 - 1s - loss: 0.0737 - accuracy: 0.9779 - val_loss: 0.0429 - val_accuracy: 0.9872 - lr: 1.0000e-03 - 1s/epoch - 7ms/step\n",
            "0.0009999999310821295\n",
            "Epoch 6/100\n",
            "160/160 - 1s - loss: 0.0662 - accuracy: 0.9798 - val_loss: 0.0420 - val_accuracy: 0.9878 - lr: 1.0000e-03 - 1s/epoch - 7ms/step\n",
            "0.0009999999310821295\n",
            "Epoch 7/100\n",
            "160/160 - 1s - loss: 0.0582 - accuracy: 0.9821 - val_loss: 0.0383 - val_accuracy: 0.9884 - lr: 1.0000e-03 - 1s/epoch - 7ms/step\n",
            "0.0009999999310821295\n",
            "Epoch 8/100\n",
            "160/160 - 1s - loss: 0.0508 - accuracy: 0.9842 - val_loss: 0.0397 - val_accuracy: 0.9882 - lr: 1.0000e-03 - 1s/epoch - 6ms/step\n",
            "0.0009999999310821295\n",
            "Epoch 9/100\n",
            "160/160 - 1s - loss: 0.0496 - accuracy: 0.9852 - val_loss: 0.0372 - val_accuracy: 0.9893 - lr: 1.0000e-03 - 1s/epoch - 8ms/step\n",
            "0.0009999999310821295\n",
            "Epoch 10/100\n",
            "160/160 - 1s - loss: 0.0431 - accuracy: 0.9870 - val_loss: 0.0341 - val_accuracy: 0.9898 - lr: 1.0000e-03 - 1s/epoch - 8ms/step\n",
            "0.0009999999310821295\n",
            "Epoch 11/100\n",
            "160/160 - 1s - loss: 0.0356 - accuracy: 0.9889 - val_loss: 0.0332 - val_accuracy: 0.9900 - lr: 1.0000e-04 - 1s/epoch - 8ms/step\n",
            "9.99999901978299e-05\n",
            "Epoch 12/100\n",
            "160/160 - 1s - loss: 0.0337 - accuracy: 0.9897 - val_loss: 0.0324 - val_accuracy: 0.9901 - lr: 1.0000e-04 - 1s/epoch - 7ms/step\n",
            "9.99999901978299e-05\n",
            "Epoch 13/100\n",
            "160/160 - 1s - loss: 0.0332 - accuracy: 0.9899 - val_loss: 0.0319 - val_accuracy: 0.9902 - lr: 1.0000e-04 - 1s/epoch - 7ms/step\n",
            "9.99999901978299e-05\n",
            "Epoch 14/100\n",
            "160/160 - 1s - loss: 0.0320 - accuracy: 0.9901 - val_loss: 0.0323 - val_accuracy: 0.9909 - lr: 1.0000e-04 - 1s/epoch - 7ms/step\n",
            "9.99999901978299e-05\n",
            "Epoch 15/100\n",
            "160/160 - 1s - loss: 0.0311 - accuracy: 0.9907 - val_loss: 0.0320 - val_accuracy: 0.9908 - lr: 1.0000e-04 - 1s/epoch - 6ms/step\n",
            "9.99999901978299e-05\n",
            "Epoch 16/100\n",
            "160/160 - 1s - loss: 0.0302 - accuracy: 0.9903 - val_loss: 0.0319 - val_accuracy: 0.9907 - lr: 1.0000e-04 - 1s/epoch - 7ms/step\n",
            "9.99999901978299e-05\n",
            "Epoch 17/100\n",
            "160/160 - 1s - loss: 0.0293 - accuracy: 0.9911 - val_loss: 0.0327 - val_accuracy: 0.9905 - lr: 1.0000e-04 - 1s/epoch - 7ms/step\n",
            "9.99999901978299e-05\n",
            "Epoch 18/100\n",
            "160/160 - 1s - loss: 0.0299 - accuracy: 0.9904 - val_loss: 0.0320 - val_accuracy: 0.9909 - lr: 1.0000e-04 - 1s/epoch - 7ms/step\n",
            "9.99999901978299e-05\n",
            "Epoch 19/100\n",
            "160/160 - 1s - loss: 0.0290 - accuracy: 0.9911 - val_loss: 0.0314 - val_accuracy: 0.9908 - lr: 1.0000e-04 - 1s/epoch - 6ms/step\n",
            "9.99999901978299e-05\n",
            "Epoch 20/100\n",
            "160/160 - 1s - loss: 0.0290 - accuracy: 0.9910 - val_loss: 0.0316 - val_accuracy: 0.9909 - lr: 1.0000e-04 - 1s/epoch - 7ms/step\n",
            "9.99999901978299e-05\n",
            "Epoch 21/100\n",
            "160/160 - 1s - loss: 0.0285 - accuracy: 0.9910 - val_loss: 0.0316 - val_accuracy: 0.9909 - lr: 1.0000e-05 - 1s/epoch - 9ms/step\n",
            "9.99999883788405e-06\n",
            "Epoch 22/100\n",
            "160/160 - 1s - loss: 0.0275 - accuracy: 0.9914 - val_loss: 0.0316 - val_accuracy: 0.9908 - lr: 1.0000e-05 - 1s/epoch - 8ms/step\n",
            "9.99999883788405e-06\n",
            "Epoch 23/100\n",
            "160/160 - 1s - loss: 0.0281 - accuracy: 0.9910 - val_loss: 0.0315 - val_accuracy: 0.9908 - lr: 1.0000e-05 - 1s/epoch - 8ms/step\n",
            "9.99999883788405e-06\n",
            "Epoch 24/100\n",
            "160/160 - 1s - loss: 0.0275 - accuracy: 0.9919 - val_loss: 0.0315 - val_accuracy: 0.9907 - lr: 1.0000e-05 - 1s/epoch - 7ms/step\n",
            "9.99999883788405e-06\n",
            "Epoch 25/100\n",
            "160/160 - 1s - loss: 0.0281 - accuracy: 0.9910 - val_loss: 0.0314 - val_accuracy: 0.9907 - lr: 1.0000e-05 - 1s/epoch - 6ms/step\n",
            "9.99999883788405e-06\n",
            "Epoch 26/100\n",
            "160/160 - 1s - loss: 0.0268 - accuracy: 0.9916 - val_loss: 0.0314 - val_accuracy: 0.9908 - lr: 1.0000e-05 - 1s/epoch - 7ms/step\n",
            "9.99999883788405e-06\n",
            "Epoch 27/100\n",
            "160/160 - 1s - loss: 0.0273 - accuracy: 0.9919 - val_loss: 0.0314 - val_accuracy: 0.9908 - lr: 1.0000e-05 - 1s/epoch - 7ms/step\n",
            "9.99999883788405e-06\n",
            "Epoch 28/100\n",
            "160/160 - 1s - loss: 0.0278 - accuracy: 0.9913 - val_loss: 0.0314 - val_accuracy: 0.9910 - lr: 1.0000e-05 - 1s/epoch - 6ms/step\n",
            "9.99999883788405e-06\n",
            "Epoch 29/100\n",
            "160/160 - 1s - loss: 0.0270 - accuracy: 0.9915 - val_loss: 0.0315 - val_accuracy: 0.9911 - lr: 1.0000e-05 - 1s/epoch - 7ms/step\n",
            "9.99999883788405e-06\n",
            "Epoch 30/100\n",
            "160/160 - 1s - loss: 0.0266 - accuracy: 0.9918 - val_loss: 0.0313 - val_accuracy: 0.9908 - lr: 1.0000e-05 - 1s/epoch - 7ms/step\n",
            "9.99999883788405e-06\n",
            "Epoch 31/100\n",
            "160/160 - 1s - loss: 0.0266 - accuracy: 0.9914 - val_loss: 0.0313 - val_accuracy: 0.9908 - lr: 1.0000e-06 - 1s/epoch - 7ms/step\n",
            "9.99999883788405e-07\n",
            "Epoch 32/100\n",
            "160/160 - 1s - loss: 0.0267 - accuracy: 0.9918 - val_loss: 0.0313 - val_accuracy: 0.9908 - lr: 1.0000e-06 - 1s/epoch - 7ms/step\n",
            "9.99999883788405e-07\n",
            "Epoch 33/100\n",
            "160/160 - 1s - loss: 0.0269 - accuracy: 0.9919 - val_loss: 0.0313 - val_accuracy: 0.9908 - lr: 1.0000e-06 - 1s/epoch - 7ms/step\n",
            "9.99999883788405e-07\n",
            "Epoch 34/100\n",
            "160/160 - 1s - loss: 0.0277 - accuracy: 0.9911 - val_loss: 0.0313 - val_accuracy: 0.9908 - lr: 1.0000e-06 - 1s/epoch - 8ms/step\n",
            "9.99999883788405e-07\n",
            "Epoch 35/100\n",
            "160/160 - 1s - loss: 0.0264 - accuracy: 0.9915 - val_loss: 0.0313 - val_accuracy: 0.9909 - lr: 1.0000e-06 - 1s/epoch - 8ms/step\n",
            "9.99999883788405e-07\n",
            "Epoch 36/100\n",
            "160/160 - 1s - loss: 0.0265 - accuracy: 0.9916 - val_loss: 0.0313 - val_accuracy: 0.9909 - lr: 1.0000e-06 - 1s/epoch - 7ms/step\n",
            "9.99999883788405e-07\n",
            "Epoch 37/100\n",
            "160/160 - 1s - loss: 0.0253 - accuracy: 0.9920 - val_loss: 0.0313 - val_accuracy: 0.9909 - lr: 1.0000e-06 - 1s/epoch - 7ms/step\n",
            "9.99999883788405e-07\n",
            "Epoch 38/100\n",
            "160/160 - 1s - loss: 0.0254 - accuracy: 0.9924 - val_loss: 0.0313 - val_accuracy: 0.9909 - lr: 1.0000e-06 - 1s/epoch - 7ms/step\n",
            "9.99999883788405e-07\n",
            "Epoch 39/100\n",
            "160/160 - 1s - loss: 0.0270 - accuracy: 0.9914 - val_loss: 0.0313 - val_accuracy: 0.9909 - lr: 1.0000e-06 - 1s/epoch - 7ms/step\n",
            "9.99999883788405e-07\n",
            "Epoch 40/100\n",
            "160/160 - 1s - loss: 0.0289 - accuracy: 0.9907 - val_loss: 0.0313 - val_accuracy: 0.9909 - lr: 1.0000e-06 - 1s/epoch - 7ms/step\n",
            "9.99999883788405e-07\n",
            "Epoch 41/100\n",
            "160/160 - 1s - loss: 0.0249 - accuracy: 0.9919 - val_loss: 0.0313 - val_accuracy: 0.9909 - lr: 1.0000e-07 - 1s/epoch - 7ms/step\n",
            "9.999998695775503e-08\n",
            "Epoch 42/100\n",
            "160/160 - 1s - loss: 0.0265 - accuracy: 0.9919 - val_loss: 0.0313 - val_accuracy: 0.9909 - lr: 1.0000e-07 - 1s/epoch - 7ms/step\n",
            "9.999998695775503e-08\n",
            "Epoch 43/100\n",
            "160/160 - 1s - loss: 0.0260 - accuracy: 0.9920 - val_loss: 0.0313 - val_accuracy: 0.9909 - lr: 1.0000e-07 - 1s/epoch - 7ms/step\n",
            "9.999998695775503e-08\n",
            "Epoch 44/100\n",
            "160/160 - 1s - loss: 0.0258 - accuracy: 0.9919 - val_loss: 0.0313 - val_accuracy: 0.9909 - lr: 1.0000e-07 - 1s/epoch - 7ms/step\n",
            "9.999998695775503e-08\n",
            "Epoch 45/100\n",
            "160/160 - 1s - loss: 0.0267 - accuracy: 0.9919 - val_loss: 0.0313 - val_accuracy: 0.9909 - lr: 1.0000e-07 - 1s/epoch - 8ms/step\n",
            "9.999998695775503e-08\n",
            "Epoch 46/100\n",
            "160/160 - 1s - loss: 0.0270 - accuracy: 0.9915 - val_loss: 0.0313 - val_accuracy: 0.9909 - lr: 1.0000e-07 - 1s/epoch - 8ms/step\n",
            "9.999998695775503e-08\n",
            "Epoch 47/100\n",
            "160/160 - 1s - loss: 0.0268 - accuracy: 0.9919 - val_loss: 0.0313 - val_accuracy: 0.9909 - lr: 1.0000e-07 - 1s/epoch - 7ms/step\n",
            "9.999998695775503e-08\n",
            "Epoch 48/100\n",
            "160/160 - 1s - loss: 0.0253 - accuracy: 0.9917 - val_loss: 0.0313 - val_accuracy: 0.9909 - lr: 1.0000e-07 - 1s/epoch - 7ms/step\n",
            "9.999998695775503e-08\n",
            "Epoch 49/100\n",
            "160/160 - 1s - loss: 0.0260 - accuracy: 0.9917 - val_loss: 0.0313 - val_accuracy: 0.9909 - lr: 1.0000e-07 - 1s/epoch - 9ms/step\n",
            "9.999998695775503e-08\n",
            "Epoch 50/100\n",
            "160/160 - 1s - loss: 0.0261 - accuracy: 0.9916 - val_loss: 0.0313 - val_accuracy: 0.9909 - lr: 1.0000e-07 - 1s/epoch - 9ms/step\n",
            "9.999998695775503e-08\n",
            "Epoch 51/100\n",
            "160/160 - 1s - loss: 0.0263 - accuracy: 0.9921 - val_loss: 0.0313 - val_accuracy: 0.9909 - lr: 1.0000e-08 - 1s/epoch - 8ms/step\n",
            "9.99999905104687e-09\n",
            "Epoch 52/100\n",
            "160/160 - 1s - loss: 0.0262 - accuracy: 0.9921 - val_loss: 0.0313 - val_accuracy: 0.9909 - lr: 1.0000e-08 - 1s/epoch - 7ms/step\n",
            "9.99999905104687e-09\n",
            "Epoch 53/100\n",
            "160/160 - 1s - loss: 0.0262 - accuracy: 0.9917 - val_loss: 0.0313 - val_accuracy: 0.9909 - lr: 1.0000e-08 - 1s/epoch - 7ms/step\n",
            "9.99999905104687e-09\n",
            "Epoch 54/100\n",
            "160/160 - 1s - loss: 0.0267 - accuracy: 0.9918 - val_loss: 0.0313 - val_accuracy: 0.9909 - lr: 1.0000e-08 - 1s/epoch - 7ms/step\n",
            "9.99999905104687e-09\n",
            "Epoch 55/100\n",
            "160/160 - 1s - loss: 0.0274 - accuracy: 0.9912 - val_loss: 0.0313 - val_accuracy: 0.9909 - lr: 1.0000e-08 - 1s/epoch - 7ms/step\n",
            "9.99999905104687e-09\n",
            "Epoch 56/100\n",
            "160/160 - 1s - loss: 0.0265 - accuracy: 0.9918 - val_loss: 0.0313 - val_accuracy: 0.9909 - lr: 1.0000e-08 - 1s/epoch - 8ms/step\n",
            "9.99999905104687e-09\n",
            "Epoch 57/100\n",
            "160/160 - 1s - loss: 0.0279 - accuracy: 0.9914 - val_loss: 0.0313 - val_accuracy: 0.9909 - lr: 1.0000e-08 - 1s/epoch - 8ms/step\n",
            "9.99999905104687e-09\n",
            "Epoch 58/100\n",
            "160/160 - 1s - loss: 0.0260 - accuracy: 0.9920 - val_loss: 0.0313 - val_accuracy: 0.9909 - lr: 1.0000e-08 - 1s/epoch - 8ms/step\n",
            "9.99999905104687e-09\n",
            "Epoch 59/100\n",
            "160/160 - 1s - loss: 0.0268 - accuracy: 0.9917 - val_loss: 0.0313 - val_accuracy: 0.9909 - lr: 1.0000e-08 - 1s/epoch - 7ms/step\n",
            "9.99999905104687e-09\n",
            "Epoch 60/100\n",
            "160/160 - 1s - loss: 0.0273 - accuracy: 0.9915 - val_loss: 0.0313 - val_accuracy: 0.9909 - lr: 1.0000e-08 - 1s/epoch - 7ms/step\n",
            "9.99999905104687e-09\n",
            "Epoch 61/100\n",
            "160/160 - 1s - loss: 0.0275 - accuracy: 0.9916 - val_loss: 0.0313 - val_accuracy: 0.9909 - lr: 1.0000e-09 - 1s/epoch - 7ms/step\n",
            "9.99999860695766e-10\n",
            "Epoch 62/100\n",
            "160/160 - 1s - loss: 0.0254 - accuracy: 0.9919 - val_loss: 0.0313 - val_accuracy: 0.9909 - lr: 1.0000e-09 - 1s/epoch - 7ms/step\n",
            "9.99999860695766e-10\n",
            "Epoch 63/100\n",
            "160/160 - 1s - loss: 0.0259 - accuracy: 0.9915 - val_loss: 0.0313 - val_accuracy: 0.9909 - lr: 1.0000e-09 - 1s/epoch - 7ms/step\n",
            "9.99999860695766e-10\n",
            "Epoch 64/100\n",
            "160/160 - 1s - loss: 0.0276 - accuracy: 0.9914 - val_loss: 0.0313 - val_accuracy: 0.9909 - lr: 1.0000e-09 - 1s/epoch - 7ms/step\n",
            "9.99999860695766e-10\n",
            "Epoch 65/100\n",
            "160/160 - 1s - loss: 0.0275 - accuracy: 0.9910 - val_loss: 0.0313 - val_accuracy: 0.9909 - lr: 1.0000e-09 - 1s/epoch - 7ms/step\n",
            "9.99999860695766e-10\n",
            "Epoch 66/100\n",
            "160/160 - 1s - loss: 0.0266 - accuracy: 0.9920 - val_loss: 0.0313 - val_accuracy: 0.9909 - lr: 1.0000e-09 - 1s/epoch - 7ms/step\n",
            "9.99999860695766e-10\n",
            "Epoch 67/100\n",
            "160/160 - 1s - loss: 0.0268 - accuracy: 0.9919 - val_loss: 0.0313 - val_accuracy: 0.9909 - lr: 1.0000e-09 - 1s/epoch - 7ms/step\n",
            "9.99999860695766e-10\n",
            "Epoch 68/100\n",
            "160/160 - 1s - loss: 0.0274 - accuracy: 0.9915 - val_loss: 0.0313 - val_accuracy: 0.9909 - lr: 1.0000e-09 - 1s/epoch - 8ms/step\n",
            "9.99999860695766e-10\n",
            "Epoch 69/100\n",
            "160/160 - 1s - loss: 0.0263 - accuracy: 0.9919 - val_loss: 0.0313 - val_accuracy: 0.9909 - lr: 1.0000e-09 - 1s/epoch - 8ms/step\n",
            "9.99999860695766e-10\n",
            "Epoch 70/100\n",
            "160/160 - 1s - loss: 0.0275 - accuracy: 0.9913 - val_loss: 0.0313 - val_accuracy: 0.9909 - lr: 1.0000e-09 - 1s/epoch - 8ms/step\n",
            "9.99999860695766e-10\n",
            "Epoch 71/100\n",
            "160/160 - 1s - loss: 0.0261 - accuracy: 0.9919 - val_loss: 0.0313 - val_accuracy: 0.9909 - lr: 1.0000e-10 - 1s/epoch - 7ms/step\n",
            "9.999998745735539e-11\n",
            "Epoch 72/100\n",
            "160/160 - 1s - loss: 0.0265 - accuracy: 0.9916 - val_loss: 0.0313 - val_accuracy: 0.9909 - lr: 1.0000e-10 - 1s/epoch - 7ms/step\n",
            "9.999998745735539e-11\n",
            "Epoch 73/100\n",
            "160/160 - 1s - loss: 0.0266 - accuracy: 0.9923 - val_loss: 0.0313 - val_accuracy: 0.9909 - lr: 1.0000e-10 - 1s/epoch - 7ms/step\n",
            "9.999998745735539e-11\n",
            "Epoch 74/100\n",
            "160/160 - 1s - loss: 0.0272 - accuracy: 0.9913 - val_loss: 0.0313 - val_accuracy: 0.9909 - lr: 1.0000e-10 - 1s/epoch - 7ms/step\n",
            "9.999998745735539e-11\n",
            "Epoch 75/100\n",
            "160/160 - 1s - loss: 0.0262 - accuracy: 0.9919 - val_loss: 0.0313 - val_accuracy: 0.9909 - lr: 1.0000e-10 - 1s/epoch - 7ms/step\n",
            "9.999998745735539e-11\n",
            "Epoch 76/100\n",
            "160/160 - 1s - loss: 0.0270 - accuracy: 0.9914 - val_loss: 0.0313 - val_accuracy: 0.9909 - lr: 1.0000e-10 - 1s/epoch - 7ms/step\n",
            "9.999998745735539e-11\n",
            "Epoch 77/100\n",
            "160/160 - 1s - loss: 0.0247 - accuracy: 0.9925 - val_loss: 0.0313 - val_accuracy: 0.9909 - lr: 1.0000e-10 - 1s/epoch - 7ms/step\n",
            "9.999998745735539e-11\n",
            "Epoch 78/100\n",
            "160/160 - 1s - loss: 0.0262 - accuracy: 0.9916 - val_loss: 0.0313 - val_accuracy: 0.9909 - lr: 1.0000e-10 - 1s/epoch - 7ms/step\n",
            "9.999998745735539e-11\n",
            "Epoch 79/100\n",
            "160/160 - 1s - loss: 0.0257 - accuracy: 0.9921 - val_loss: 0.0313 - val_accuracy: 0.9909 - lr: 1.0000e-10 - 1s/epoch - 7ms/step\n",
            "9.999998745735539e-11\n",
            "Epoch 80/100\n",
            "160/160 - 1s - loss: 0.0253 - accuracy: 0.9925 - val_loss: 0.0313 - val_accuracy: 0.9909 - lr: 1.0000e-10 - 1s/epoch - 8ms/step\n",
            "9.999998745735539e-11\n",
            "Epoch 81/100\n",
            "160/160 - 1s - loss: 0.0272 - accuracy: 0.9917 - val_loss: 0.0313 - val_accuracy: 0.9909 - lr: 1.0000e-11 - 1s/epoch - 8ms/step\n",
            "9.999999092680234e-12\n",
            "Epoch 82/100\n",
            "160/160 - 1s - loss: 0.0266 - accuracy: 0.9915 - val_loss: 0.0313 - val_accuracy: 0.9909 - lr: 1.0000e-11 - 1s/epoch - 7ms/step\n",
            "9.999999092680234e-12\n",
            "Epoch 83/100\n",
            "160/160 - 1s - loss: 0.0262 - accuracy: 0.9918 - val_loss: 0.0313 - val_accuracy: 0.9909 - lr: 1.0000e-11 - 1s/epoch - 7ms/step\n",
            "9.999999092680234e-12\n",
            "Epoch 84/100\n",
            "160/160 - 1s - loss: 0.0261 - accuracy: 0.9917 - val_loss: 0.0313 - val_accuracy: 0.9909 - lr: 1.0000e-11 - 1s/epoch - 7ms/step\n",
            "9.999999092680234e-12\n",
            "Epoch 85/100\n",
            "160/160 - 1s - loss: 0.0260 - accuracy: 0.9917 - val_loss: 0.0313 - val_accuracy: 0.9909 - lr: 1.0000e-11 - 1s/epoch - 7ms/step\n",
            "9.999999092680234e-12\n",
            "Epoch 86/100\n",
            "160/160 - 1s - loss: 0.0269 - accuracy: 0.9917 - val_loss: 0.0313 - val_accuracy: 0.9909 - lr: 1.0000e-11 - 1s/epoch - 7ms/step\n",
            "9.999999092680234e-12\n",
            "Epoch 87/100\n",
            "160/160 - 1s - loss: 0.0269 - accuracy: 0.9915 - val_loss: 0.0313 - val_accuracy: 0.9909 - lr: 1.0000e-11 - 1s/epoch - 7ms/step\n",
            "9.999999092680234e-12\n",
            "Epoch 88/100\n",
            "160/160 - 1s - loss: 0.0263 - accuracy: 0.9918 - val_loss: 0.0313 - val_accuracy: 0.9909 - lr: 1.0000e-11 - 1s/epoch - 7ms/step\n",
            "9.999999092680234e-12\n",
            "Epoch 89/100\n",
            "160/160 - 1s - loss: 0.0267 - accuracy: 0.9916 - val_loss: 0.0313 - val_accuracy: 0.9909 - lr: 1.0000e-11 - 1s/epoch - 7ms/step\n",
            "9.999999092680234e-12\n",
            "Epoch 90/100\n",
            "160/160 - 1s - loss: 0.0267 - accuracy: 0.9919 - val_loss: 0.0313 - val_accuracy: 0.9909 - lr: 1.0000e-11 - 1s/epoch - 7ms/step\n",
            "9.999999092680234e-12\n",
            "Epoch 91/100\n",
            "160/160 - 1s - loss: 0.0268 - accuracy: 0.9918 - val_loss: 0.0313 - val_accuracy: 0.9909 - lr: 1.0000e-12 - 1s/epoch - 7ms/step\n",
            "9.9999988758398e-13\n",
            "Epoch 92/100\n",
            "160/160 - 1s - loss: 0.0269 - accuracy: 0.9913 - val_loss: 0.0313 - val_accuracy: 0.9909 - lr: 1.0000e-12 - 1s/epoch - 9ms/step\n",
            "9.9999988758398e-13\n",
            "Epoch 93/100\n",
            "160/160 - 1s - loss: 0.0259 - accuracy: 0.9917 - val_loss: 0.0313 - val_accuracy: 0.9909 - lr: 1.0000e-12 - 1s/epoch - 8ms/step\n",
            "9.9999988758398e-13\n",
            "Epoch 94/100\n",
            "160/160 - 1s - loss: 0.0270 - accuracy: 0.9915 - val_loss: 0.0313 - val_accuracy: 0.9909 - lr: 1.0000e-12 - 1s/epoch - 7ms/step\n",
            "9.9999988758398e-13\n",
            "Epoch 95/100\n",
            "160/160 - 1s - loss: 0.0269 - accuracy: 0.9915 - val_loss: 0.0313 - val_accuracy: 0.9909 - lr: 1.0000e-12 - 1s/epoch - 7ms/step\n",
            "9.9999988758398e-13\n",
            "Epoch 96/100\n",
            "160/160 - 1s - loss: 0.0252 - accuracy: 0.9925 - val_loss: 0.0313 - val_accuracy: 0.9909 - lr: 1.0000e-12 - 1s/epoch - 7ms/step\n",
            "9.9999988758398e-13\n",
            "Epoch 97/100\n",
            "160/160 - 1s - loss: 0.0272 - accuracy: 0.9914 - val_loss: 0.0313 - val_accuracy: 0.9909 - lr: 1.0000e-12 - 1s/epoch - 7ms/step\n",
            "9.9999988758398e-13\n",
            "Epoch 98/100\n",
            "160/160 - 1s - loss: 0.0254 - accuracy: 0.9922 - val_loss: 0.0313 - val_accuracy: 0.9909 - lr: 1.0000e-12 - 1s/epoch - 7ms/step\n",
            "9.9999988758398e-13\n",
            "Epoch 99/100\n",
            "160/160 - 1s - loss: 0.0260 - accuracy: 0.9917 - val_loss: 0.0313 - val_accuracy: 0.9909 - lr: 1.0000e-12 - 1s/epoch - 7ms/step\n",
            "9.9999988758398e-13\n",
            "Epoch 100/100\n",
            "160/160 - 1s - loss: 0.0272 - accuracy: 0.9915 - val_loss: 0.0313 - val_accuracy: 0.9909 - lr: 1.0000e-12 - 1s/epoch - 7ms/step\n"
          ]
        }
      ],
      "source": [
        "train_history=model.fit(x=x_Train4D_normalize, \n",
        "                        y=y_TrainOneHot,\n",
        "                        validation_split=0.2, \n",
        "                        epochs=epoch_num, \n",
        "                        batch_size=300,\n",
        "                        verbose=2,\n",
        "                        callbacks=[lr_scheduler])"
      ]
    },
    {
      "cell_type": "code",
      "execution_count": 303,
      "metadata": {
        "collapsed": true,
        "id": "_MADsoRx2ckA"
      },
      "outputs": [],
      "source": [
        "import matplotlib.pyplot as plt\n",
        "def show_train_history(train_acc,test_acc):\n",
        "    plt.plot(train_history.history[train_acc])\n",
        "    plt.plot(train_history.history[test_acc])\n",
        "    plt.title('Train History')\n",
        "    plt.ylabel(train_acc)\n",
        "    plt.xlabel('Epoch')\n",
        "    plt.legend(['train', 'test'], loc='upper left')\n",
        "    plt.show()"
      ]
    },
    {
      "cell_type": "markdown",
      "source": [
        "畫出訓練結果"
      ],
      "metadata": {
        "id": "ju2ABgP_dq0P"
      }
    },
    {
      "cell_type": "code",
      "execution_count": 304,
      "metadata": {
        "colab": {
          "base_uri": "https://localhost:8080/",
          "height": 472
        },
        "id": "mARb1E3e2ckA",
        "outputId": "168eba99-a4e7-436c-89a6-820eec01af16"
      },
      "outputs": [
        {
          "output_type": "display_data",
          "data": {
            "text/plain": [
              "<Figure size 640x480 with 1 Axes>"
            ],
            "image/png": "[encoded data removed]"
          },
          "metadata": {}
        }
      ],
      "source": [
        "show_train_history('accuracy','val_accuracy')"
      ]
    },
    {
      "cell_type": "markdown",
      "source": [
        "畫出loss誤差執行結果"
      ],
      "metadata": {
        "id": "AR1lbqgfdsr4"
      }
    },
    {
      "cell_type": "code",
      "execution_count": 305,
      "metadata": {
        "colab": {
          "base_uri": "https://localhost:8080/",
          "height": 472
        },
        "id": "LvgdhFQU2ckB",
        "outputId": "8f47d998-39ee-4468-ba73-63147422dd24"
      },
      "outputs": [
        {
          "output_type": "display_data",
          "data": {
            "text/plain": [
              "<Figure size 640x480 with 1 Axes>"
            ],
            "image/png": "[encoded data removed]"
          },
          "metadata": {}
        }
      ],
      "source": [
        "show_train_history('loss','val_loss')"
      ]
    },
    {
      "cell_type": "markdown",
      "metadata": {
        "id": "Di6cD1S22ckB"
      },
      "source": [
        "# 評估模型準確率"
      ]
    },
    {
      "cell_type": "code",
      "execution_count": 306,
      "metadata": {
        "colab": {
          "base_uri": "https://localhost:8080/"
        },
        "id": "9aKDx2lI2ckB",
        "outputId": "b63cd40d-d761-4c72-d8ff-71a491893418"
      },
      "outputs": [
        {
          "output_type": "stream",
          "name": "stdout",
          "text": [
            "313/313 [==============================] - 1s 4ms/step - loss: 0.0228 - accuracy: 0.9929\n"
          ]
        },
        {
          "output_type": "execute_result",
          "data": {
            "text/plain": [
              "0.992900013923645"
            ]
          },
          "metadata": {},
          "execution_count": 306
        }
      ],
      "source": [
        "scores = model.evaluate(x_Test4D_normalize , y_TestOneHot)\n",
        "scores[1]"
      ]
    },
    {
      "cell_type": "markdown",
      "metadata": {
        "id": "LbleJlp52ckB"
      },
      "source": [
        "# 預測結果"
      ]
    },
    {
      "cell_type": "code",
      "execution_count": 307,
      "metadata": {
        "id": "fawKcl6w2ckB",
        "colab": {
          "base_uri": "https://localhost:8080/"
        },
        "outputId": "bf862cb6-7140-48f9-ebd1-c5abb507e8bc"
      },
      "outputs": [
        {
          "output_type": "stream",
          "name": "stdout",
          "text": [
            "313/313 [==============================] - 1s 3ms/step\n"
          ]
        }
      ],
      "source": [
        "prediction= np.argmax(model.predict(x_Test),axis=1)"
      ]
    },
    {
      "cell_type": "code",
      "execution_count": 308,
      "metadata": {
        "colab": {
          "base_uri": "https://localhost:8080/"
        },
        "id": "WkAN6iLz2ckC",
        "outputId": "42ba5412-ce76-4083-e927-e298aaabf994"
      },
      "outputs": [
        {
          "output_type": "execute_result",
          "data": {
            "text/plain": [
              "array([7, 2, 1, 0, 4, 1, 4, 9, 5, 9])"
            ]
          },
          "metadata": {},
          "execution_count": 308
        }
      ],
      "source": [
        "prediction[:10]"
      ]
    },
    {
      "cell_type": "markdown",
      "metadata": {
        "id": "WC6d2hZ42ckC"
      },
      "source": [
        "# 查看預測結果"
      ]
    },
    {
      "cell_type": "code",
      "execution_count": 309,
      "metadata": {
        "collapsed": true,
        "id": "eQkIeCot2ckC"
      },
      "outputs": [],
      "source": [
        "import matplotlib.pyplot as plt\n",
        "def plot_images_labels_prediction(images,labels,prediction,idx,num=10):\n",
        "    fig = plt.gcf()\n",
        "    fig.set_size_inches(12, 14)\n",
        "    if num>25: num=25 \n",
        "    for i in range(0, num):\n",
        "        ax=plt.subplot(5,5, 1+i)\n",
        "        ax.imshow(images[idx], cmap='binary')\n",
        "\n",
        "        ax.set_title(\"label=\" +str(labels[idx])+\n",
        "                     \",predict=\"+str(prediction[idx])\n",
        "                     ,fontsize=10) \n",
        "        \n",
        "        ax.set_xticks([]);ax.set_yticks([])        \n",
        "        idx+=1 \n",
        "    plt.show()"
      ]
    },
    {
      "cell_type": "code",
      "execution_count": 310,
      "metadata": {
        "colab": {
          "base_uri": "https://localhost:8080/",
          "height": 439
        },
        "id": "2GdpYolE2ckC",
        "outputId": "f9732b67-a714-4ced-a1e9-589cfeef7255"
      },
      "outputs": [
        {
          "output_type": "display_data",
          "data": {
            "text/plain": [
              "<Figure size 1200x1400 with 10 Axes>"
            ],
            "image/png": "[encoded data removed]"
          },
          "metadata": {}
        }
      ],
      "source": [
        "plot_images_labels_prediction(x_Test,y_Test,prediction,idx=0)"
      ]
    },
    {
      "cell_type": "markdown",
      "metadata": {
        "id": "m_a2s2RV2ckC"
      },
      "source": [
        "# confusion matrix"
      ]
    },
    {
      "cell_type": "code",
      "execution_count": 311,
      "metadata": {
        "colab": {
          "base_uri": "https://localhost:8080/",
          "height": 394
        },
        "id": "Xql0xTWK2ckD",
        "outputId": "7887949d-a99a-4a41-f4a6-a115f1c05a5e"
      },
      "outputs": [
        {
          "output_type": "execute_result",
          "data": {
            "text/plain": [
              "predict    0     1     2     3    4    5    6     7    8    9\n",
              "label                                                        \n",
              "0        977     0     0     0    0    0    1     1    1    0\n",
              "1          0  1133     1     1    0    0    0     0    0    0\n",
              "2          1     0  1029     0    0    0    0     2    0    0\n",
              "3          0     0     1  1004    0    1    0     1    3    0\n",
              "4          0     0     0     0  979    0    0     0    0    3\n",
              "5          1     0     0     4    0  885    1     0    0    1\n",
              "6          4     2     0     0    1    2  948     0    1    0\n",
              "7          0     2     3     1    0    0    0  1020    1    1\n",
              "8          2     1     2     2    0    1    1     3  961    1\n",
              "9          2     0     0     0    7    2    0     4    1  993"
            ],
            "text/html": [
              "\n",
              "  <div id=\"df-85685db1-9441-41cb-bd84-bed33f53ae78\">\n",
              "    <div class=\"colab-df-container\">\n",
              "      <div>\n",
              "<style scoped>\n",
              "    .dataframe tbody tr th:only-of-type {\n",
              "        vertical-align: middle;\n",
              "    }\n",
              "\n",
              "    .dataframe tbody tr th {\n",
              "        vertical-align: top;\n",
              "    }\n",
              "\n",
              "    .dataframe thead th {\n",
              "        text-align: right;\n",
              "    }\n",
              "</style>\n",
              "<table border=\"1\" class=\"dataframe\">\n",
              "  <thead>\n",
              "    <tr style=\"text-align: right;\">\n",
              "      <th>predict</th>\n",
              "      <th>0</th>\n",
              "      <th>1</th>\n",
              "      <th>2</th>\n",
              "      <th>3</th>\n",
              "      <th>4</th>\n",
              "      <th>5</th>\n",
              "      <th>6</th>\n",
              "      <th>7</th>\n",
              "      <th>8</th>\n",
              "      <th>9</th>\n",
              "    </tr>\n",
              "    <tr>\n",
              "      <th>label</th>\n",
              "      <th></th>\n",
              "      <th></th>\n",
              "      <th></th>\n",
              "      <th></th>\n",
              "      <th></th>\n",
              "      <th></th>\n",
              "      <th></th>\n",
              "      <th></th>\n",
              "      <th></th>\n",
              "      <th></th>\n",
              "    </tr>\n",
              "  </thead>\n",
              "  <tbody>\n",
              "    <tr>\n",
              "      <th>0</th>\n",
              "      <td>977</td>\n",
              "      <td>0</td>\n",
              "      <td>0</td>\n",
              "      <td>0</td>\n",
              "      <td>0</td>\n",
              "      <td>0</td>\n",
              "      <td>1</td>\n",
              "      <td>1</td>\n",
              "      <td>1</td>\n",
              "      <td>0</td>\n",
              "    </tr>\n",
              "    <tr>\n",
              "      <th>1</th>\n",
              "      <td>0</td>\n",
              "      <td>1133</td>\n",
              "      <td>1</td>\n",
              "      <td>1</td>\n",
              "      <td>0</td>\n",
              "      <td>0</td>\n",
              "      <td>0</td>\n",
              "      <td>0</td>\n",
              "      <td>0</td>\n",
              "      <td>0</td>\n",
              "    </tr>\n",
              "    <tr>\n",
              "      <th>2</th>\n",
              "      <td>1</td>\n",
              "      <td>0</td>\n",
              "      <td>1029</td>\n",
              "      <td>0</td>\n",
              "      <td>0</td>\n",
              "      <td>0</td>\n",
              "      <td>0</td>\n",
              "      <td>2</td>\n",
              "      <td>0</td>\n",
              "      <td>0</td>\n",
              "    </tr>\n",
              "    <tr>\n",
              "      <th>3</th>\n",
              "      <td>0</td>\n",
              "      <td>0</td>\n",
              "      <td>1</td>\n",
              "      <td>1004</td>\n",
              "      <td>0</td>\n",
              "      <td>1</td>\n",
              "      <td>0</td>\n",
              "      <td>1</td>\n",
              "      <td>3</td>\n",
              "      <td>0</td>\n",
              "    </tr>\n",
              "    <tr>\n",
              "      <th>4</th>\n",
              "      <td>0</td>\n",
              "      <td>0</td>\n",
              "      <td>0</td>\n",
              "      <td>0</td>\n",
              "      <td>979</td>\n",
              "      <td>0</td>\n",
              "      <td>0</td>\n",
              "      <td>0</td>\n",
              "      <td>0</td>\n",
              "      <td>3</td>\n",
              "    </tr>\n",
              "    <tr>\n",
              "      <th>5</th>\n",
              "      <td>1</td>\n",
              "      <td>0</td>\n",
              "      <td>0</td>\n",
              "      <td>4</td>\n",
              "      <td>0</td>\n",
              "      <td>885</td>\n",
              "      <td>1</td>\n",
              "      <td>0</td>\n",
              "      <td>0</td>\n",
              "      <td>1</td>\n",
              "    </tr>\n",
              "    <tr>\n",
              "      <th>6</th>\n",
              "      <td>4</td>\n",
              "      <td>2</td>\n",
              "      <td>0</td>\n",
              "      <td>0</td>\n",
              "      <td>1</td>\n",
              "      <td>2</td>\n",
              "      <td>948</td>\n",
              "      <td>0</td>\n",
              "      <td>1</td>\n",
              "      <td>0</td>\n",
              "    </tr>\n",
              "    <tr>\n",
              "      <th>7</th>\n",
              "      <td>0</td>\n",
              "      <td>2</td>\n",
              "      <td>3</td>\n",
              "      <td>1</td>\n",
              "      <td>0</td>\n",
              "      <td>0</td>\n",
              "      <td>0</td>\n",
              "      <td>1020</td>\n",
              "      <td>1</td>\n",
              "      <td>1</td>\n",
              "    </tr>\n",
              "    <tr>\n",
              "      <th>8</th>\n",
              "      <td>2</td>\n",
              "      <td>1</td>\n",
              "      <td>2</td>\n",
              "      <td>2</td>\n",
              "      <td>0</td>\n",
              "      <td>1</td>\n",
              "      <td>1</td>\n",
              "      <td>3</td>\n",
              "      <td>961</td>\n",
              "      <td>1</td>\n",
              "    </tr>\n",
              "    <tr>\n",
              "      <th>9</th>\n",
              "      <td>2</td>\n",
              "      <td>0</td>\n",
              "      <td>0</td>\n",
              "      <td>0</td>\n",
              "      <td>7</td>\n",
              "      <td>2</td>\n",
              "      <td>0</td>\n",
              "      <td>4</td>\n",
              "      <td>1</td>\n",
              "      <td>993</td>\n",
              "    </tr>\n",
              "  </tbody>\n",
              "</table>\n",
              "</div>\n",
              "      <button class=\"colab-df-convert\" onclick=\"convertToInteractive('df-85685db1-9441-41cb-bd84-bed33f53ae78')\"\n",
              "              title=\"Convert this dataframe to an interactive table.\"\n",
              "              style=\"display:none;\">\n",
              "        \n",
              "  <svg xmlns=\"http://www.w3.org/2000/svg\" height=\"24px\"viewBox=\"0 0 24 24\"\n",
              "       width=\"24px\">\n",
              "    <path d=\"M0 0h24v24H0V0z\" fill=\"none\"/>\n",
              "    <path d=\"M18.56 5.44l.94 2.06.94-2.06 2.06-.94-2.06-.94-.94-2.06-.94 2.06-2.06.94zm-11 1L8.5 8.5l.94-2.06 2.06-.94-2.06-.94L8.5 2.5l-.94 2.06-2.06.94zm10 10l.94 2.06.94-2.06 2.06-.94-2.06-.94-.94-2.06-.94 2.06-2.06.94z\"/><path d=\"M17.41 7.96l-1.37-1.37c-.4-.4-.92-.59-1.43-.59-.52 0-1.04.2-1.43.59L10.3 9.45l-7.72 7.72c-.78.78-.78 2.05 0 2.83L4 21.41c.39.39.9.59 1.41.59.51 0 1.02-.2 1.41-.59l7.78-7.78 2.81-2.81c.8-.78.8-2.07 0-2.86zM5.41 20L4 18.59l7.72-7.72 1.47 1.35L5.41 20z\"/>\n",
              "  </svg>\n",
              "      </button>\n",
              "      \n",
              "  <style>\n",
              "    .colab-df-container {\n",
              "      display:flex;\n",
              "      flex-wrap:wrap;\n",
              "      gap: 12px;\n",
              "    }\n",
              "\n",
              "    .colab-df-convert {\n",
              "      background-color: #E8F0FE;\n",
              "      border: none;\n",
              "      border-radius: 50%;\n",
              "      cursor: pointer;\n",
              "      display: none;\n",
              "      fill: #1967D2;\n",
              "      height: 32px;\n",
              "      padding: 0 0 0 0;\n",
              "      width: 32px;\n",
              "    }\n",
              "\n",
              "    .colab-df-convert:hover {\n",
              "      background-color: #E2EBFA;\n",
              "      box-shadow: 0px 1px 2px rgba(60, 64, 67, 0.3), 0px 1px 3px 1px rgba(60, 64, 67, 0.15);\n",
              "      fill: #174EA6;\n",
              "    }\n",
              "\n",
              "    [theme=dark] .colab-df-convert {\n",
              "      background-color: #3B4455;\n",
              "      fill: #D2E3FC;\n",
              "    }\n",
              "\n",
              "    [theme=dark] .colab-df-convert:hover {\n",
              "      background-color: #434B5C;\n",
              "      box-shadow: 0px 1px 3px 1px rgba(0, 0, 0, 0.15);\n",
              "      filter: drop-shadow(0px 1px 2px rgba(0, 0, 0, 0.3));\n",
              "      fill: #FFFFFF;\n",
              "    }\n",
              "  </style>\n",
              "\n",
              "      <script>\n",
              "        const buttonEl =\n",
              "          document.querySelector('#df-85685db1-9441-41cb-bd84-bed33f53ae78 button.colab-df-convert');\n",
              "        buttonEl.style.display =\n",
              "          google.colab.kernel.accessAllowed ? 'block' : 'none';\n",
              "\n",
              "        async function convertToInteractive(key) {\n",
              "          const element = document.querySelector('#df-85685db1-9441-41cb-bd84-bed33f53ae78');\n",
              "          const dataTable =\n",
              "            await google.colab.kernel.invokeFunction('convertToInteractive',\n",
              "                                                     [key], {});\n",
              "          if (!dataTable) return;\n",
              "\n",
              "          const docLinkHtml = 'Like what you see? Visit the ' +\n",
              "            '<a target=\"_blank\" href=https://colab.research.google.com/notebooks/data_table.ipynb>data table notebook</a>'\n",
              "            + ' to learn more about interactive tables.';\n",
              "          element.innerHTML = '';\n",
              "          dataTable['output_type'] = 'display_data';\n",
              "          await google.colab.output.renderOutput(dataTable, element);\n",
              "          const docLink = document.createElement('div');\n",
              "          docLink.innerHTML = docLinkHtml;\n",
              "          element.appendChild(docLink);\n",
              "        }\n",
              "      </script>\n",
              "    </div>\n",
              "  </div>\n",
              "  "
            ]
          },
          "metadata": {},
          "execution_count": 311
        }
      ],
      "source": [
        "import pandas as pd\n",
        "pd.crosstab(y_Test,prediction,\n",
        "            rownames=['label'],colnames=['predict'])"
      ]
    },
    {
      "cell_type": "markdown",
      "source": [
        "找出confusion matrix中非對角線且非0的元素"
      ],
      "metadata": {
        "id": "UW13pm4VLVs2"
      }
    },
    {
      "cell_type": "code",
      "source": [
        "confusion_matrix = pd.crosstab(y_Test, prediction, rownames=['label'], colnames=['predict'])\n",
        "err_predict = [] # 記錄混淆矩陣中非對角線且非0的元素label, predict value\n",
        "# list裡面為tuple\n",
        "\n",
        "for row_name, row_data in confusion_matrix.iterrows():\n",
        "    for col_name, col_value in row_data.iteritems():\n",
        "        if row_name != col_name and col_value != 0:\n",
        "            err_predict.append((row_name, col_name))\n",
        "            # print(row_name, col_name)\n",
        "\n"
      ],
      "metadata": {
        "colab": {
          "base_uri": "https://localhost:8080/"
        },
        "id": "u8aceQMg8Hp5",
        "outputId": "fd6c8880-ad65-4d2a-a050-de8e949f3085"
      },
      "execution_count": 312,
      "outputs": [
        {
          "output_type": "stream",
          "name": "stderr",
          "text": [
            "<ipython-input-312-9dff25835661>:6: FutureWarning: iteritems is deprecated and will be removed in a future version. Use .items instead.\n",
            "  for col_name, col_value in row_data.iteritems():\n"
          ]
        }
      ]
    },
    {
      "cell_type": "markdown",
      "source": [
        "找出confusion matrix中非對角線且非0元素所對應到image index"
      ],
      "metadata": {
        "id": "G-CZr2nDLbNf"
      }
    },
    {
      "cell_type": "code",
      "source": [
        "err_idx = [] # 記錄預測錯誤照片的index\n",
        "df = pd.DataFrame({'label':y_Test, 'predict':prediction})\n",
        "for i in err_predict:\n",
        "  # print(i)\n",
        "  error_data = df[(df.label==i[0])&(df.predict==i[1])]\n",
        "  err_num = error_data.shape[0] # 取的預測錯誤的數量\n",
        "  for i in range(err_num):\n",
        "    err_idx.append(error_data.iloc[i].name)\n",
        "print(err_idx)"
      ],
      "metadata": {
        "colab": {
          "base_uri": "https://localhost:8080/"
        },
        "id": "_T7JTYwI_Vi-",
        "outputId": "7cfcc02f-65ff-4970-95ec-ed99f45caa3a"
      },
      "execution_count": 313,
      "outputs": [
        {
          "output_type": "stream",
          "name": "stdout",
          "text": [
            "[8325, 6597, 6651, 3073, 1527, 2462, 4176, 9664, 4256, 4740, 2109, 2921, 5955, 5973, 740, 2130, 9792, 3558, 1393, 2035, 2597, 5937, 9729, 5997, 445, 2118, 3422, 3853, 2135, 2654, 3520, 1014, 1182, 3762, 1260, 6576, 1226, 3767, 9009, 684, 3808, 1522, 2896, 4807, 1033, 582, 6625, 1319, 1878, 8408, 495, 1530, 4497, 4731, 947, 2293, 6505, 1232, 1901, 2720, 3869, 3985, 4823, 9587, 1709, 2939, 4163, 4224, 6571, 9692, 4761]\n"
          ]
        }
      ]
    },
    {
      "cell_type": "code",
      "execution_count": 314,
      "metadata": {
        "id": "fYmrZ-752ckD"
      },
      "outputs": [],
      "source": [
        "df = pd.DataFrame({'label':y_Test, 'predict':prediction})"
      ]
    },
    {
      "cell_type": "code",
      "execution_count": 315,
      "metadata": {
        "colab": {
          "base_uri": "https://localhost:8080/",
          "height": 175
        },
        "id": "aCWaCOpa2ckD",
        "outputId": "a047b58e-9d4b-4239-ce31-636d154b1c78"
      },
      "outputs": [
        {
          "output_type": "execute_result",
          "data": {
            "text/plain": [
              "      label  predict\n",
              "1393      5        3\n",
              "2035      5        3\n",
              "2597      5        3\n",
              "5937      5        3"
            ],
            "text/html": [
              "\n",
              "  <div id=\"df-b7262aff-99d9-4f84-bfc0-0b8685b01043\">\n",
              "    <div class=\"colab-df-container\">\n",
              "      <div>\n",
              "<style scoped>\n",
              "    .dataframe tbody tr th:only-of-type {\n",
              "        vertical-align: middle;\n",
              "    }\n",
              "\n",
              "    .dataframe tbody tr th {\n",
              "        vertical-align: top;\n",
              "    }\n",
              "\n",
              "    .dataframe thead th {\n",
              "        text-align: right;\n",
              "    }\n",
              "</style>\n",
              "<table border=\"1\" class=\"dataframe\">\n",
              "  <thead>\n",
              "    <tr style=\"text-align: right;\">\n",
              "      <th></th>\n",
              "      <th>label</th>\n",
              "      <th>predict</th>\n",
              "    </tr>\n",
              "  </thead>\n",
              "  <tbody>\n",
              "    <tr>\n",
              "      <th>1393</th>\n",
              "      <td>5</td>\n",
              "      <td>3</td>\n",
              "    </tr>\n",
              "    <tr>\n",
              "      <th>2035</th>\n",
              "      <td>5</td>\n",
              "      <td>3</td>\n",
              "    </tr>\n",
              "    <tr>\n",
              "      <th>2597</th>\n",
              "      <td>5</td>\n",
              "      <td>3</td>\n",
              "    </tr>\n",
              "    <tr>\n",
              "      <th>5937</th>\n",
              "      <td>5</td>\n",
              "      <td>3</td>\n",
              "    </tr>\n",
              "  </tbody>\n",
              "</table>\n",
              "</div>\n",
              "      <button class=\"colab-df-convert\" onclick=\"convertToInteractive('df-b7262aff-99d9-4f84-bfc0-0b8685b01043')\"\n",
              "              title=\"Convert this dataframe to an interactive table.\"\n",
              "              style=\"display:none;\">\n",
              "        \n",
              "  <svg xmlns=\"http://www.w3.org/2000/svg\" height=\"24px\"viewBox=\"0 0 24 24\"\n",
              "       width=\"24px\">\n",
              "    <path d=\"M0 0h24v24H0V0z\" fill=\"none\"/>\n",
              "    <path d=\"M18.56 5.44l.94 2.06.94-2.06 2.06-.94-2.06-.94-.94-2.06-.94 2.06-2.06.94zm-11 1L8.5 8.5l.94-2.06 2.06-.94-2.06-.94L8.5 2.5l-.94 2.06-2.06.94zm10 10l.94 2.06.94-2.06 2.06-.94-2.06-.94-.94-2.06-.94 2.06-2.06.94z\"/><path d=\"M17.41 7.96l-1.37-1.37c-.4-.4-.92-.59-1.43-.59-.52 0-1.04.2-1.43.59L10.3 9.45l-7.72 7.72c-.78.78-.78 2.05 0 2.83L4 21.41c.39.39.9.59 1.41.59.51 0 1.02-.2 1.41-.59l7.78-7.78 2.81-2.81c.8-.78.8-2.07 0-2.86zM5.41 20L4 18.59l7.72-7.72 1.47 1.35L5.41 20z\"/>\n",
              "  </svg>\n",
              "      </button>\n",
              "      \n",
              "  <style>\n",
              "    .colab-df-container {\n",
              "      display:flex;\n",
              "      flex-wrap:wrap;\n",
              "      gap: 12px;\n",
              "    }\n",
              "\n",
              "    .colab-df-convert {\n",
              "      background-color: #E8F0FE;\n",
              "      border: none;\n",
              "      border-radius: 50%;\n",
              "      cursor: pointer;\n",
              "      display: none;\n",
              "      fill: #1967D2;\n",
              "      height: 32px;\n",
              "      padding: 0 0 0 0;\n",
              "      width: 32px;\n",
              "    }\n",
              "\n",
              "    .colab-df-convert:hover {\n",
              "      background-color: #E2EBFA;\n",
              "      box-shadow: 0px 1px 2px rgba(60, 64, 67, 0.3), 0px 1px 3px 1px rgba(60, 64, 67, 0.15);\n",
              "      fill: #174EA6;\n",
              "    }\n",
              "\n",
              "    [theme=dark] .colab-df-convert {\n",
              "      background-color: #3B4455;\n",
              "      fill: #D2E3FC;\n",
              "    }\n",
              "\n",
              "    [theme=dark] .colab-df-convert:hover {\n",
              "      background-color: #434B5C;\n",
              "      box-shadow: 0px 1px 3px 1px rgba(0, 0, 0, 0.15);\n",
              "      filter: drop-shadow(0px 1px 2px rgba(0, 0, 0, 0.3));\n",
              "      fill: #FFFFFF;\n",
              "    }\n",
              "  </style>\n",
              "\n",
              "      <script>\n",
              "        const buttonEl =\n",
              "          document.querySelector('#df-b7262aff-99d9-4f84-bfc0-0b8685b01043 button.colab-df-convert');\n",
              "        buttonEl.style.display =\n",
              "          google.colab.kernel.accessAllowed ? 'block' : 'none';\n",
              "\n",
              "        async function convertToInteractive(key) {\n",
              "          const element = document.querySelector('#df-b7262aff-99d9-4f84-bfc0-0b8685b01043');\n",
              "          const dataTable =\n",
              "            await google.colab.kernel.invokeFunction('convertToInteractive',\n",
              "                                                     [key], {});\n",
              "          if (!dataTable) return;\n",
              "\n",
              "          const docLinkHtml = 'Like what you see? Visit the ' +\n",
              "            '<a target=\"_blank\" href=https://colab.research.google.com/notebooks/data_table.ipynb>data table notebook</a>'\n",
              "            + ' to learn more about interactive tables.';\n",
              "          element.innerHTML = '';\n",
              "          dataTable['output_type'] = 'display_data';\n",
              "          await google.colab.output.renderOutput(dataTable, element);\n",
              "          const docLink = document.createElement('div');\n",
              "          docLink.innerHTML = docLinkHtml;\n",
              "          element.appendChild(docLink);\n",
              "        }\n",
              "      </script>\n",
              "    </div>\n",
              "  </div>\n",
              "  "
            ]
          },
          "metadata": {},
          "execution_count": 315
        }
      ],
      "source": [
        "df[(df.label==5)&(df.predict==3)]\n"
      ]
    },
    {
      "cell_type": "markdown",
      "source": [
        "plot the images which is predicted error."
      ],
      "metadata": {
        "id": "S5d-Huq9LJ6C"
      }
    },
    {
      "cell_type": "code",
      "source": [
        "def show_error_image(label_val, predict_val):\n",
        "  error_data = df[(df.label==label_val)&(df.predict==predict_val)]\n",
        "  err_num = error_data.shape[0] # 取的預測錯誤的數量\n",
        "  err_idx = [] # 記錄預測錯誤照片的index\n",
        "  for i in range(err_num):\n",
        "    err_idx.append(error_data.iloc[i].name)\n",
        "  # print(err_idx)\n",
        "\n",
        "  fig, axes = plt.subplots(nrows=1, ncols=len(err_idx), figsize=(len(err_idx), 1), sharex=True, sharey=True)\n",
        "  fig.suptitle(\"None normalize\")\n",
        "  for i, ax in enumerate(axes):\n",
        "      ax.imshow(x_Train[err_idx[i]], cmap='binary')\n",
        "      ax.set_xticks([])\n",
        "      ax.set_yticks([])  \n",
        "  plt.show()\n",
        "\n",
        "  fig, axes = plt.subplots(nrows=1, ncols=len(err_idx), figsize=(len(err_idx), 1), sharex=True, sharey=True)\n",
        "  fig.suptitle(\"Normalized\")\n",
        "  for i, ax in enumerate(axes):\n",
        "      ax.imshow(x_Train4D_normalize[err_idx[i]], cmap='binary')\n",
        "      ax.set_xticks([])\n",
        "      ax.set_yticks([])  \n",
        "  plt.show()\n"
      ],
      "metadata": {
        "id": "4a1LKZHNrrJ4"
      },
      "execution_count": 316,
      "outputs": []
    },
    {
      "cell_type": "code",
      "source": [
        "show_error_image(5, 3)"
      ],
      "metadata": {
        "colab": {
          "base_uri": "https://localhost:8080/",
          "height": 221
        },
        "id": "7_0jv-yqzTcD",
        "outputId": "1c0125c8-27d7-4e4f-d769-c6ae145b7042"
      },
      "execution_count": 317,
      "outputs": [
        {
          "output_type": "display_data",
          "data": {
            "text/plain": [
              "<Figure size 400x100 with 4 Axes>"
            ],
            "image/png": "[encoded data removed]"
          },
          "metadata": {}
        },
        {
          "output_type": "display_data",
          "data": {
            "text/plain": [
              "<Figure size 400x100 with 4 Axes>"
            ],
            "image/png": "[encoded data removed]"
          },
          "metadata": {}
        }
      ]
    }
  ],
  "metadata": {
    "anaconda-cloud": {},
    "kernelspec": {
      "display_name": "Python 3",
      "language": "python",
      "name": "python3"
    },
    "language_info": {
      "codemirror_mode": {
        "name": "ipython",
        "version": 3
      },
      "file_extension": ".py",
      "mimetype": "text/x-python",
      "name": "python",
      "nbconvert_exporter": "python",
      "pygments_lexer": "ipython3",
      "version": "3.5.3"
    },
    "colab": {
      "provenance": []
    },
    "accelerator": "GPU"
  },
  "nbformat": 4,
  "nbformat_minor": 0
}