{
  "cells": [
    {
      "cell_type": "markdown",
      "metadata": {
        "id": "5QOa6XS0VbEC"
      },
      "source": [
        "# 1. Import Library"
      ]
    },
    {
      "cell_type": "code",
      "execution_count": 1,
      "metadata": {
        "id": "4Ro-69M1VbEF"
      },
      "outputs": [],
      "source": [
        "from keras.datasets import cifar10\n",
        "import numpy as np\n",
        "np.random.seed(10)"
      ]
    },
    {
      "cell_type": "markdown",
      "metadata": {
        "id": "dld3bCU7VbEG"
      },
      "source": [
        "# 資料準備"
      ]
    },
    {
      "cell_type": "code",
      "execution_count": 2,
      "metadata": {
        "colab": {
          "base_uri": "https://localhost:8080/"
        },
        "id": "DOCiNYJlVbEH",
        "outputId": "6a0876ee-c62e-424e-f7b3-1da62a3f85e6"
      },
      "outputs": [
        {
          "output_type": "stream",
          "name": "stdout",
          "text": [
            "Downloading data from https://www.cs.toronto.edu/~kriz/cifar-10-python.tar.gz\n",
            "170498071/170498071 [==============================] - 6s 0us/step\n"
          ]
        }
      ],
      "source": [
        "(x_img_train,y_label_train),(x_img_test,y_label_test)=cifar10.load_data()"
      ]
    },
    {
      "cell_type": "markdown",
      "source": [
        "自動下載data set"
      ],
      "metadata": {
        "id": "L6cFGQrweBLG"
      }
    },
    {
      "cell_type": "code",
      "execution_count": 3,
      "metadata": {
        "colab": {
          "base_uri": "https://localhost:8080/"
        },
        "id": "YKHihacaVbEH",
        "outputId": "e74476ff-52ab-4210-e498-75417f56661f"
      },
      "outputs": [
        {
          "output_type": "stream",
          "name": "stdout",
          "text": [
            "train data: images: (50000, 32, 32, 3)  labels: (50000, 1)\n",
            "test  data: images: (10000, 32, 32, 3)  labels: (10000, 1)\n"
          ]
        }
      ],
      "source": [
        "print(\"train data:\",'images:',x_img_train.shape,\n",
        "      \" labels:\",y_label_train.shape) \n",
        "print(\"test  data:\",'images:',x_img_test.shape ,\n",
        "      \" labels:\",y_label_test.shape) "
      ]
    },
    {
      "cell_type": "markdown",
      "source": [
        "順序標記訓練集和測試集的(資料數量,形狀和通道數量)\n",
        "例:(50000筆,像素32*32,RGB圖片通道為3)"
      ],
      "metadata": {
        "id": "73HGjZhXeLvF"
      }
    },
    {
      "cell_type": "code",
      "execution_count": 4,
      "metadata": {
        "id": "TG62WQJrVbEI"
      },
      "outputs": [],
      "source": [
        "x_img_train_normalize = x_img_train.astype('float32') / 255.0\n",
        "x_img_test_normalize = x_img_test.astype('float32') / 255.0"
      ]
    },
    {
      "cell_type": "markdown",
      "source": [
        "因為圖片像素數據以0到255表達，因此將數據(圖片)除以255,進行標準化,提高準確率"
      ],
      "metadata": {
        "id": "9FEp1tzLeWq7"
      }
    },
    {
      "cell_type": "code",
      "execution_count": 5,
      "metadata": {
        "id": "YEnPfn1yVbEI"
      },
      "outputs": [],
      "source": [
        "from keras.utils import np_utils\n",
        "y_label_train_OneHot = np_utils.to_categorical(y_label_train)\n",
        "y_label_test_OneHot = np_utils.to_categorical(y_label_test)"
      ]
    },
    {
      "cell_type": "markdown",
      "source": [
        "將圖片預先做好的標籤欄位轉換為Onehot encoding,方便後續繪制圖表時直接代入標籤文字"
      ],
      "metadata": {
        "id": "mdlSCouSf-h1"
      }
    },
    {
      "cell_type": "code",
      "execution_count": 6,
      "metadata": {
        "colab": {
          "base_uri": "https://localhost:8080/"
        },
        "id": "OWWaedrVVbEJ",
        "outputId": "983e99cd-4cbf-4b28-8c86-f306edfdff3f"
      },
      "outputs": [
        {
          "output_type": "execute_result",
          "data": {
            "text/plain": [
              "(10000, 10)"
            ]
          },
          "metadata": {},
          "execution_count": 6
        }
      ],
      "source": [
        "y_label_test_OneHot.shape"
      ]
    },
    {
      "cell_type": "markdown",
      "source": [
        "執行結果,數量為被處理的圖片數量"
      ],
      "metadata": {
        "id": "L2iTfAS9gfxt"
      }
    },
    {
      "cell_type": "markdown",
      "metadata": {
        "id": "OcSc3MdsVbEJ"
      },
      "source": [
        "# 建立模型"
      ]
    },
    {
      "cell_type": "code",
      "execution_count": 7,
      "metadata": {
        "id": "HpROJCRyVbEK"
      },
      "outputs": [],
      "source": [
        "from keras.models import Sequential\n",
        "from keras.layers import Dense, Dropout, Activation, Flatten\n",
        "from keras.layers import Conv2D, MaxPooling2D, ZeroPadding2D"
      ]
    },
    {
      "cell_type": "code",
      "execution_count": 8,
      "metadata": {
        "id": "qRyQ9pdLVbEK"
      },
      "outputs": [],
      "source": [
        "model = Sequential()"
      ]
    },
    {
      "cell_type": "markdown",
      "source": [
        "建立一個Sequential線性堆疊模型,往下便可以直接順序加入模型"
      ],
      "metadata": {
        "id": "xOmYvtZFg5Pc"
      }
    },
    {
      "cell_type": "code",
      "execution_count": 9,
      "metadata": {
        "id": "pRPyTbKRVbEK"
      },
      "outputs": [],
      "source": [
        "#卷積層1"
      ]
    },
    {
      "cell_type": "code",
      "execution_count": 10,
      "metadata": {
        "id": "uRd84oBQVbEL"
      },
      "outputs": [],
      "source": [
        "model.add(Conv2D(filters=32,kernel_size=(3,3),\n",
        "                 input_shape=(32, 32,3), \n",
        "                 activation='relu', \n",
        "                 padding='same'))"
      ]
    },
    {
      "cell_type": "markdown",
      "source": [
        "filters:隨機產生32個濾鏡filters weight\n",
        "\n",
        "kernel size(3,3):每一個濾鏡3*3大小\n",
        "\n",
        "input shape:輸入圖像格式,Cifar資料集像素為32*32,RGB的三原色通道為3\n",
        "\n",
        "activation:使用relu激活函數\n",
        "\n",
        "padding:設定讓卷積運算後的影像大小不變"
      ],
      "metadata": {
        "id": "2doHgt-ahNw1"
      }
    },
    {
      "cell_type": "code",
      "execution_count": 11,
      "metadata": {
        "id": "z_n1jaUVVbEL"
      },
      "outputs": [],
      "source": [
        "model.add(Dropout(rate=0.25))"
      ]
    },
    {
      "cell_type": "markdown",
      "source": [
        "每次訓練迭代會隨機放棄神經網路中的25%神經元,避免overfitting"
      ],
      "metadata": {
        "id": "EfHXcrg_icWb"
      }
    },
    {
      "cell_type": "code",
      "execution_count": 12,
      "metadata": {
        "id": "YIqFx6sFVbEL"
      },
      "outputs": [],
      "source": [
        "model.add(MaxPooling2D(pool_size=(2, 2)))"
      ]
    },
    {
      "cell_type": "markdown",
      "source": [
        "建立池化層,(2,2)的意思為將(32,32)除以(2,2),把影像縮小為(16,16),但是數量仍保持32個"
      ],
      "metadata": {
        "id": "vVKzSlG9iz5t"
      }
    },
    {
      "cell_type": "code",
      "execution_count": 13,
      "metadata": {
        "id": "MeKTCIRQVbEL"
      },
      "outputs": [],
      "source": [
        "#卷積層2與池化層2"
      ]
    },
    {
      "cell_type": "code",
      "execution_count": 14,
      "metadata": {
        "id": "Drtyrqt3VbEM"
      },
      "outputs": [],
      "source": [
        "model.add(Conv2D(filters=64, kernel_size=(3, 3), \n",
        "                 activation='relu', padding='same'))"
      ]
    },
    {
      "cell_type": "code",
      "execution_count": 15,
      "metadata": {
        "id": "cxol0iOQVbEM"
      },
      "outputs": [],
      "source": [
        "model.add(Dropout(0.25))"
      ]
    },
    {
      "cell_type": "code",
      "execution_count": 16,
      "metadata": {
        "id": "t2NMW_y-VbEM"
      },
      "outputs": [],
      "source": [
        "model.add(MaxPooling2D(pool_size=(2, 2)))"
      ]
    },
    {
      "cell_type": "code",
      "execution_count": 17,
      "metadata": {
        "id": "OuoN-w_yVbEM"
      },
      "outputs": [],
      "source": [
        "#Step3\t建立神經網路(平坦層、隱藏層、輸出層)"
      ]
    },
    {
      "cell_type": "code",
      "execution_count": 18,
      "metadata": {
        "id": "VgM3Dx5HVbEN"
      },
      "outputs": [],
      "source": [
        "model.add(Flatten())\n",
        "model.add(Dropout(rate=0.25))"
      ]
    },
    {
      "cell_type": "markdown",
      "source": [
        "建立平坦層,8x8x64=4096,剛好等於上一個池化層的神經元數量,\n",
        "\n",
        "並在每次訓練迭代放棄25%的神經元"
      ],
      "metadata": {
        "id": "pxgCLqEyjQIf"
      }
    },
    {
      "cell_type": "code",
      "execution_count": 19,
      "metadata": {
        "id": "Q3Lro5noVbEN"
      },
      "outputs": [],
      "source": [
        "model.add(Dense(1024, activation='relu'))\n",
        "model.add(Dropout(rate=0.25))"
      ]
    },
    {
      "cell_type": "markdown",
      "source": [
        "建立隱藏層,共1024個神經元"
      ],
      "metadata": {
        "id": "s1JI57zZkAFr"
      }
    },
    {
      "cell_type": "code",
      "execution_count": 20,
      "metadata": {
        "id": "mH6bF2BgVbEN"
      },
      "outputs": [],
      "source": [
        "model.add(Dense(10, activation='softmax'))"
      ]
    },
    {
      "cell_type": "markdown",
      "source": [
        "建立輸出層,共10個神經元,對應10個影像分類,使用softmax激活函數進行轉換,\n",
        "\n",
        "讓結果轉換成預測每一個影像的機率"
      ],
      "metadata": {
        "id": "GHhy3bvekS80"
      }
    },
    {
      "cell_type": "code",
      "execution_count": 21,
      "metadata": {
        "colab": {
          "base_uri": "https://localhost:8080/"
        },
        "id": "wR6LrwacVbEN",
        "outputId": "5d73e1a9-7b29-411b-a421-cf1a3a91b0f1"
      },
      "outputs": [
        {
          "output_type": "stream",
          "name": "stdout",
          "text": [
            "Model: \"sequential\"\n",
            "_________________________________________________________________\n",
            " Layer (type)                Output Shape              Param #   \n",
            "=================================================================\n",
            " conv2d (Conv2D)             (None, 32, 32, 32)        896       \n",
            "                                                                 \n",
            " dropout (Dropout)           (None, 32, 32, 32)        0         \n",
            "                                                                 \n",
            " max_pooling2d (MaxPooling2D  (None, 16, 16, 32)       0         \n",
            " )                                                               \n",
            "                                                                 \n",
            " conv2d_1 (Conv2D)           (None, 16, 16, 64)        18496     \n",
            "                                                                 \n",
            " dropout_1 (Dropout)         (None, 16, 16, 64)        0         \n",
            "                                                                 \n",
            " max_pooling2d_1 (MaxPooling  (None, 8, 8, 64)         0         \n",
            " 2D)                                                             \n",
            "                                                                 \n",
            " flatten (Flatten)           (None, 4096)              0         \n",
            "                                                                 \n",
            " dropout_2 (Dropout)         (None, 4096)              0         \n",
            "                                                                 \n",
            " dense (Dense)               (None, 1024)              4195328   \n",
            "                                                                 \n",
            " dropout_3 (Dropout)         (None, 1024)              0         \n",
            "                                                                 \n",
            " dense_1 (Dense)             (None, 10)                10250     \n",
            "                                                                 \n",
            "=================================================================\n",
            "Total params: 4,224,970\n",
            "Trainable params: 4,224,970\n",
            "Non-trainable params: 0\n",
            "_________________________________________________________________\n",
            "None\n"
          ]
        }
      ],
      "source": [
        "print(model.summary())"
      ]
    },
    {
      "cell_type": "markdown",
      "metadata": {
        "id": "RNQXhk4BVbEN"
      },
      "source": [
        "# 載入之前訓練的模型"
      ]
    },
    {
      "cell_type": "code",
      "execution_count": 54,
      "metadata": {
        "colab": {
          "base_uri": "https://localhost:8080/"
        },
        "id": "DReDuuZrVbEO",
        "outputId": "e4e15916-07ac-4643-aefa-4960c436d15c"
      },
      "outputs": [
        {
          "output_type": "stream",
          "name": "stdout",
          "text": [
            "載入模型成功!繼續訓練模型\n"
          ]
        }
      ],
      "source": [
        "try:\n",
        "    model.load_weights(\"/content/Save/cifarCnnModelnew.h5\")\n",
        "    print(\"載入模型成功!繼續訓練模型\")\n",
        "except :    \n",
        "    print(\"載入模型失敗!開始訓練一個新模型\")"
      ]
    },
    {
      "cell_type": "markdown",
      "metadata": {
        "id": "UjDr04P-VbEO"
      },
      "source": [
        "# 訓練模型"
      ]
    },
    {
      "cell_type": "code",
      "source": [
        "lr = 0.01\n",
        "epoch_num = 20\n",
        "batch_size = 32\n"
      ],
      "metadata": {
        "id": "mjszHYMwpIvm"
      },
      "execution_count": 55,
      "outputs": []
    },
    {
      "cell_type": "code",
      "source": [
        "from keras.callbacks import LearningRateScheduler\n",
        "from tensorflow import keras"
      ],
      "metadata": {
        "id": "u73kT2GWpvd5"
      },
      "execution_count": 56,
      "outputs": []
    },
    {
      "cell_type": "code",
      "execution_count": 57,
      "metadata": {
        "id": "I3DYiBxTVbEO"
      },
      "outputs": [],
      "source": [
        "opt = keras.optimizers.AdamW(learning_rate=lr)\n",
        "model.compile(loss='categorical_crossentropy',\n",
        "              optimizer=opt, metrics=['accuracy'])"
      ]
    },
    {
      "cell_type": "code",
      "source": [
        "# define the schedular \n",
        "def lr_scheduler(epoch, lr):\n",
        "    return lr / 2"
      ],
      "metadata": {
        "id": "zgB7GF74p4yy"
      },
      "execution_count": 58,
      "outputs": []
    },
    {
      "cell_type": "markdown",
      "source": [
        "設定損失函數,在深度學習中通常會使用cross entropy交叉熵,訓練效果較好"
      ],
      "metadata": {
        "id": "XN2VMzLkkouK"
      }
    },
    {
      "cell_type": "code",
      "execution_count": null,
      "metadata": {
        "id": "ORIJVM2-VbEO"
      },
      "outputs": [],
      "source": [
        "train_history=model.fit(x_img_train_normalize, \n",
        "                        y_label_train_OneHot,\n",
        "                        validation_split=0.2,\n",
        "                        epochs=epoch_num, \n",
        "                        batch_size=batch_size, \n",
        "                        verbose=1,\n",
        "                        callbacks=[LearningRateScheduler(lr_scheduler)])          "
      ]
    },
    {
      "cell_type": "markdown",
      "source": [
        "輸入圖像標籤文字\n",
        "\n",
        "validatiom split:訓練集和測試集的比例,這次為50000:10000,所以是0.2\n",
        "\n",
        "epochs:訓練週期10次\n",
        "\n",
        "batch size:每批次輸入128張圖片"
      ],
      "metadata": {
        "id": "g04fOH6Vk_W-"
      }
    },
    {
      "cell_type": "code",
      "execution_count": 60,
      "metadata": {
        "id": "i3omcjUjVbEO"
      },
      "outputs": [],
      "source": [
        "import matplotlib.pyplot as plt\n",
        "def show_train_history(train_acc,test_acc):\n",
        "    plt.plot(train_history.history[train_acc])\n",
        "    plt.plot(train_history.history[test_acc])\n",
        "    plt.title('Train History')\n",
        "    plt.ylabel(train_acc)\n",
        "    plt.xlabel('Epoch')\n",
        "    plt.legend(['train', 'test'], loc='upper left')\n",
        "    plt.show()"
      ]
    },
    {
      "cell_type": "markdown",
      "source": [
        "設定圖表欄位和格式"
      ],
      "metadata": {
        "id": "MvA07z-6lngv"
      }
    },
    {
      "cell_type": "code",
      "execution_count": 61,
      "metadata": {
        "colab": {
          "base_uri": "https://localhost:8080/",
          "height": 472
        },
        "id": "LJ-MIu_PVbEO",
        "outputId": "da6790cc-cfab-47f9-869d-c5db18fa4020"
      },
      "outputs": [
        {
          "output_type": "display_data",
          "data": {
            "text/plain": [
              "<Figure size 640x480 with 1 Axes>"
            ],
            "image/png": "[encoded data removed]"
          },
          "metadata": {}
        }
      ],
      "source": [
        "show_train_history('accuracy','val_accuracy')"
      ]
    },
    {
      "cell_type": "markdown",
      "source": [
        "accuracy:訓練時的準確率\n",
        "\n",
        "val accuracy:驗證時的準確率"
      ],
      "metadata": {
        "id": "wetwhd6TlvYh"
      }
    },
    {
      "cell_type": "code",
      "execution_count": 62,
      "metadata": {
        "colab": {
          "base_uri": "https://localhost:8080/",
          "height": 472
        },
        "id": "jcoX84ZdVbEP",
        "outputId": "f5ea2e07-9061-4775-d859-2cbbfccca950"
      },
      "outputs": [
        {
          "output_type": "display_data",
          "data": {
            "text/plain": [
              "<Figure size 640x480 with 1 Axes>"
            ],
            "image/png": "[encoded data removed]"
          },
          "metadata": {}
        }
      ],
      "source": [
        "show_train_history('loss','val_loss')"
      ]
    },
    {
      "cell_type": "markdown",
      "source": [
        "loss:訓練時的誤差\n",
        "\n",
        "val accuracy:驗證時的誤差"
      ],
      "metadata": {
        "id": "v85e18xxl4wE"
      }
    },
    {
      "cell_type": "markdown",
      "metadata": {
        "id": "EWBlmjtjVbEP"
      },
      "source": [
        "# 評估模型準確率"
      ]
    },
    {
      "cell_type": "code",
      "execution_count": 63,
      "metadata": {
        "colab": {
          "base_uri": "https://localhost:8080/"
        },
        "id": "PQ-rsbe0VbEP",
        "outputId": "b4a30ebf-c9cf-458e-d2d7-14186943727f"
      },
      "outputs": [
        {
          "output_type": "execute_result",
          "data": {
            "text/plain": [
              "0.7391999959945679"
            ]
          },
          "metadata": {},
          "execution_count": 63
        }
      ],
      "source": [
        "scores = model.evaluate(x_img_test_normalize, \n",
        "                        y_label_test_OneHot, verbose=0)\n",
        "scores[1]"
      ]
    },
    {
      "cell_type": "markdown",
      "metadata": {
        "id": "iaJ1TgHLVbEP"
      },
      "source": [
        "# 進行預測"
      ]
    },
    {
      "cell_type": "code",
      "execution_count": 64,
      "metadata": {
        "id": "QbQGAeFbVbEP",
        "colab": {
          "base_uri": "https://localhost:8080/"
        },
        "outputId": "6d34de9e-3d3b-452d-b059-bbf1ff54adf1"
      },
      "outputs": [
        {
          "output_type": "stream",
          "name": "stdout",
          "text": [
            "313/313 [==============================] - 1s 2ms/step\n"
          ]
        }
      ],
      "source": [
        "prediction=np.argmax(model.predict(x_img_test_normalize), axis=-1)"
      ]
    },
    {
      "cell_type": "code",
      "execution_count": 65,
      "metadata": {
        "id": "Fysay-SGVbER",
        "colab": {
          "base_uri": "https://localhost:8080/"
        },
        "outputId": "fce44fe8-005b-43fd-80d0-59ada87eb036"
      },
      "outputs": [
        {
          "output_type": "execute_result",
          "data": {
            "text/plain": [
              "array([3, 1, 8, 0, 6, 6, 1, 2, 3, 1])"
            ]
          },
          "metadata": {},
          "execution_count": 65
        }
      ],
      "source": [
        "prediction[:10]"
      ]
    },
    {
      "cell_type": "markdown",
      "metadata": {
        "id": "So-DttJWVbER"
      },
      "source": [
        "# 查看預測結果"
      ]
    },
    {
      "cell_type": "code",
      "execution_count": 66,
      "metadata": {
        "id": "Yta4cD21VbER"
      },
      "outputs": [],
      "source": [
        "label_dict={0:\"airplane\",1:\"automobile\",2:\"bird\",3:\"cat\",4:\"deer\",\n",
        "            5:\"dog\",6:\"frog\",7:\"horse\",8:\"ship\",9:\"truck\"}"
      ]
    },
    {
      "cell_type": "code",
      "execution_count": 67,
      "metadata": {
        "id": "j4cFs2WIVbER"
      },
      "outputs": [],
      "source": [
        "import matplotlib.pyplot as plt\n",
        "def plot_images_labels_prediction(images,labels,prediction,\n",
        "                                  idx,num=10):\n",
        "    fig = plt.gcf()\n",
        "    fig.set_size_inches(12, 14)\n",
        "    if num>25: num=25 \n",
        "    for i in range(0, num):\n",
        "        ax=plt.subplot(5,5, 1+i)\n",
        "        ax.imshow(images[idx],cmap='binary')\n",
        "                \n",
        "        title=str(i)+','+label_dict[labels[i][0]]\n",
        "        if len(prediction)>0:\n",
        "            title+='=>'+label_dict[prediction[i]]\n",
        "            \n",
        "        ax.set_title(title,fontsize=10) \n",
        "        ax.set_xticks([]);ax.set_yticks([])        \n",
        "        idx+=1 \n",
        "    plt.show()"
      ]
    },
    {
      "cell_type": "code",
      "execution_count": 33,
      "metadata": {
        "id": "67mJ5vjbVbES",
        "colab": {
          "base_uri": "https://localhost:8080/",
          "height": 415
        },
        "outputId": "e47580af-55e0-434f-9c0a-c6896590b853"
      },
      "outputs": [
        {
          "output_type": "display_data",
          "data": {
            "text/plain": [
              "<Figure size 1200x1400 with 10 Axes>"
            ],
            "image/png": "[encoded data removed]"
          },
          "metadata": {}
        }
      ],
      "source": [
        "plot_images_labels_prediction(x_img_test,y_label_test,\n",
        "                              prediction,0,10)"
      ]
    },
    {
      "cell_type": "markdown",
      "metadata": {
        "id": "IbvhoccDVbES"
      },
      "source": [
        "# 查看預測機率"
      ]
    },
    {
      "cell_type": "code",
      "execution_count": 68,
      "metadata": {
        "id": "-MPuckT3VbES",
        "colab": {
          "base_uri": "https://localhost:8080/"
        },
        "outputId": "b1b69156-d268-4850-cefc-8220ed45328d"
      },
      "outputs": [
        {
          "output_type": "stream",
          "name": "stdout",
          "text": [
            "313/313 [==============================] - 1s 2ms/step\n"
          ]
        }
      ],
      "source": [
        "Predicted_Probability=model.predict(x_img_test_normalize)"
      ]
    },
    {
      "cell_type": "code",
      "execution_count": 69,
      "metadata": {
        "id": "PQ3hIP15VbES"
      },
      "outputs": [],
      "source": [
        "def show_Predicted_Probability(y,prediction,\n",
        "                               x_img,Predicted_Probability,i):\n",
        "    print('label:',label_dict[y[i][0]],\n",
        "          'predict:',label_dict[prediction[i]])\n",
        "    plt.figure(figsize=(2,2))\n",
        "    plt.imshow(np.reshape(x_img_test[i],(32, 32,3)))\n",
        "    plt.show()\n",
        "    for j in range(10):\n",
        "        print(label_dict[j]+\n",
        "              ' Probability:%1.9f'%(Predicted_Probability[i][j]))"
      ]
    },
    {
      "cell_type": "code",
      "execution_count": 70,
      "metadata": {
        "id": "clduo7LXVbES",
        "colab": {
          "base_uri": "https://localhost:8080/",
          "height": 413
        },
        "outputId": "ef875071-1da9-4496-8232-b0a1c0cd6b1c"
      },
      "outputs": [
        {
          "output_type": "stream",
          "name": "stdout",
          "text": [
            "label: cat predict: cat\n"
          ]
        },
        {
          "output_type": "display_data",
          "data": {
            "text/plain": [
              "<Figure size 200x200 with 1 Axes>"
            ],
            "image/png": "[encoded data removed]"
          },
          "metadata": {}
        },
        {
          "output_type": "stream",
          "name": "stdout",
          "text": [
            "airplane Probability:0.000936198\n",
            "automobile Probability:0.003246472\n",
            "bird Probability:0.001741737\n",
            "cat Probability:0.842525423\n",
            "deer Probability:0.000933323\n",
            "dog Probability:0.096813388\n",
            "frog Probability:0.030181173\n",
            "horse Probability:0.000319686\n",
            "ship Probability:0.023037763\n",
            "truck Probability:0.000264809\n"
          ]
        }
      ],
      "source": [
        "show_Predicted_Probability(y_label_test,prediction,\n",
        "                           x_img_test,Predicted_Probability,0)"
      ]
    },
    {
      "cell_type": "code",
      "execution_count": 71,
      "metadata": {
        "id": "GGPfJu2eVbES",
        "colab": {
          "base_uri": "https://localhost:8080/",
          "height": 413
        },
        "outputId": "8c789733-cee0-480f-d9ee-8aa1852ed630"
      },
      "outputs": [
        {
          "output_type": "stream",
          "name": "stdout",
          "text": [
            "label: airplane predict: airplane\n"
          ]
        },
        {
          "output_type": "display_data",
          "data": {
            "text/plain": [
              "<Figure size 200x200 with 1 Axes>"
            ],
            "image/png": "[encoded data removed]"
          },
          "metadata": {}
        },
        {
          "output_type": "stream",
          "name": "stdout",
          "text": [
            "airplane Probability:0.911464810\n",
            "automobile Probability:0.002020469\n",
            "bird Probability:0.013968797\n",
            "cat Probability:0.000292157\n",
            "deer Probability:0.000743133\n",
            "dog Probability:0.000013628\n",
            "frog Probability:0.000336660\n",
            "horse Probability:0.000014513\n",
            "ship Probability:0.069657996\n",
            "truck Probability:0.001487834\n"
          ]
        }
      ],
      "source": [
        "show_Predicted_Probability(y_label_test,prediction,\n",
        "                           x_img_test,Predicted_Probability,3)"
      ]
    },
    {
      "cell_type": "markdown",
      "metadata": {
        "id": "RR5ArYfKVbET"
      },
      "source": [
        "# confusion matrix"
      ]
    },
    {
      "cell_type": "code",
      "execution_count": 72,
      "metadata": {
        "id": "uhC3C_d-VbET",
        "colab": {
          "base_uri": "https://localhost:8080/"
        },
        "outputId": "330e5301-7950-4649-f021-c334c73e3fcc"
      },
      "outputs": [
        {
          "output_type": "execute_result",
          "data": {
            "text/plain": [
              "(10000,)"
            ]
          },
          "metadata": {},
          "execution_count": 72
        }
      ],
      "source": [
        "prediction.shape"
      ]
    },
    {
      "cell_type": "markdown",
      "source": [
        "建立混淆矩陣時結果資據必須為1維陣列,如果括號有多於一筆數據,則必須先進行數據處理"
      ],
      "metadata": {
        "id": "zaKceA3wmdVt"
      }
    },
    {
      "cell_type": "code",
      "execution_count": 73,
      "metadata": {
        "id": "Jg5fiWjCVbET",
        "colab": {
          "base_uri": "https://localhost:8080/"
        },
        "outputId": "ca336bab-6e53-472d-852c-1c16ac21a247"
      },
      "outputs": [
        {
          "output_type": "execute_result",
          "data": {
            "text/plain": [
              "(10000, 1)"
            ]
          },
          "metadata": {},
          "execution_count": 73
        }
      ],
      "source": [
        "y_label_test.shape"
      ]
    },
    {
      "cell_type": "markdown",
      "source": [
        "執行結果顯示已轉換為1維陣列"
      ],
      "metadata": {
        "id": "7y6J4bODmxJW"
      }
    },
    {
      "cell_type": "code",
      "execution_count": 74,
      "metadata": {
        "id": "v6co6R1EVbET",
        "colab": {
          "base_uri": "https://localhost:8080/"
        },
        "outputId": "fd39ae8b-07d1-4d0f-feae-c080bd0ba31d"
      },
      "outputs": [
        {
          "output_type": "execute_result",
          "data": {
            "text/plain": [
              "array([[3],\n",
              "       [8],\n",
              "       [8],\n",
              "       ...,\n",
              "       [5],\n",
              "       [1],\n",
              "       [7]], dtype=uint8)"
            ]
          },
          "metadata": {},
          "execution_count": 74
        }
      ],
      "source": [
        "y_label_test"
      ]
    },
    {
      "cell_type": "code",
      "execution_count": 75,
      "metadata": {
        "id": "zUOhJL0ZVbET",
        "colab": {
          "base_uri": "https://localhost:8080/"
        },
        "outputId": "7f63c21f-31e2-4636-8f13-dc02b26f1d1b"
      },
      "outputs": [
        {
          "output_type": "execute_result",
          "data": {
            "text/plain": [
              "array([3, 8, 8, ..., 5, 1, 7], dtype=uint8)"
            ]
          },
          "metadata": {},
          "execution_count": 75
        }
      ],
      "source": [
        "y_label_test.reshape(-1)"
      ]
    },
    {
      "cell_type": "code",
      "execution_count": 42,
      "metadata": {
        "id": "hyWqjQ5GVbET",
        "colab": {
          "base_uri": "https://localhost:8080/",
          "height": 432
        },
        "outputId": "c8f93a88-3474-4bef-c99c-4fced0579013"
      },
      "outputs": [
        {
          "output_type": "stream",
          "name": "stdout",
          "text": [
            "{0: 'airplane', 1: 'automobile', 2: 'bird', 3: 'cat', 4: 'deer', 5: 'dog', 6: 'frog', 7: 'horse', 8: 'ship', 9: 'truck'}\n"
          ]
        },
        {
          "output_type": "execute_result",
          "data": {
            "text/plain": [
              "predict    0    1    2    3    4    5    6    7    8    9\n",
              "label                                                    \n",
              "0        768    9   48   12   30    6    8   11   77   31\n",
              "1         15  772    8   14   12    5    9    3   27  135\n",
              "2         51    1  615   44  138   62   48   21   12    8\n",
              "3         25    2   61  520  109  187   37   34   13   12\n",
              "4         10    1   47   36  823   22   23   29    8    1\n",
              "5         13    3   40  151   65  665   11   37   10    5\n",
              "6          5    1   41   46   72   27  790    6    9    3\n",
              "7         10    2   43   23   90   60    4  759    1    8\n",
              "8         44   23   18    9   13    9    6    4  856   18\n",
              "9         40   40   12   19    7   15    6   21   31  809"
            ],
            "text/html": [
              "\n",
              "  <div id=\"df-e9b56b57-f704-4efe-a642-0378ce386def\">\n",
              "    <div class=\"colab-df-container\">\n",
              "      <div>\n",
              "<style scoped>\n",
              "    .dataframe tbody tr th:only-of-type {\n",
              "        vertical-align: middle;\n",
              "    }\n",
              "\n",
              "    .dataframe tbody tr th {\n",
              "        vertical-align: top;\n",
              "    }\n",
              "\n",
              "    .dataframe thead th {\n",
              "        text-align: right;\n",
              "    }\n",
              "</style>\n",
              "<table border=\"1\" class=\"dataframe\">\n",
              "  <thead>\n",
              "    <tr style=\"text-align: right;\">\n",
              "      <th>predict</th>\n",
              "      <th>0</th>\n",
              "      <th>1</th>\n",
              "      <th>2</th>\n",
              "      <th>3</th>\n",
              "      <th>4</th>\n",
              "      <th>5</th>\n",
              "      <th>6</th>\n",
              "      <th>7</th>\n",
              "      <th>8</th>\n",
              "      <th>9</th>\n",
              "    </tr>\n",
              "    <tr>\n",
              "      <th>label</th>\n",
              "      <th></th>\n",
              "      <th></th>\n",
              "      <th></th>\n",
              "      <th></th>\n",
              "      <th></th>\n",
              "      <th></th>\n",
              "      <th></th>\n",
              "      <th></th>\n",
              "      <th></th>\n",
              "      <th></th>\n",
              "    </tr>\n",
              "  </thead>\n",
              "  <tbody>\n",
              "    <tr>\n",
              "      <th>0</th>\n",
              "      <td>768</td>\n",
              "      <td>9</td>\n",
              "      <td>48</td>\n",
              "      <td>12</td>\n",
              "      <td>30</td>\n",
              "      <td>6</td>\n",
              "      <td>8</td>\n",
              "      <td>11</td>\n",
              "      <td>77</td>\n",
              "      <td>31</td>\n",
              "    </tr>\n",
              "    <tr>\n",
              "      <th>1</th>\n",
              "      <td>15</td>\n",
              "      <td>772</td>\n",
              "      <td>8</td>\n",
              "      <td>14</td>\n",
              "      <td>12</td>\n",
              "      <td>5</td>\n",
              "      <td>9</td>\n",
              "      <td>3</td>\n",
              "      <td>27</td>\n",
              "      <td>135</td>\n",
              "    </tr>\n",
              "    <tr>\n",
              "      <th>2</th>\n",
              "      <td>51</td>\n",
              "      <td>1</td>\n",
              "      <td>615</td>\n",
              "      <td>44</td>\n",
              "      <td>138</td>\n",
              "      <td>62</td>\n",
              "      <td>48</td>\n",
              "      <td>21</td>\n",
              "      <td>12</td>\n",
              "      <td>8</td>\n",
              "    </tr>\n",
              "    <tr>\n",
              "      <th>3</th>\n",
              "      <td>25</td>\n",
              "      <td>2</td>\n",
              "      <td>61</td>\n",
              "      <td>520</td>\n",
              "      <td>109</td>\n",
              "      <td>187</td>\n",
              "      <td>37</td>\n",
              "      <td>34</td>\n",
              "      <td>13</td>\n",
              "      <td>12</td>\n",
              "    </tr>\n",
              "    <tr>\n",
              "      <th>4</th>\n",
              "      <td>10</td>\n",
              "      <td>1</td>\n",
              "      <td>47</td>\n",
              "      <td>36</td>\n",
              "      <td>823</td>\n",
              "      <td>22</td>\n",
              "      <td>23</td>\n",
              "      <td>29</td>\n",
              "      <td>8</td>\n",
              "      <td>1</td>\n",
              "    </tr>\n",
              "    <tr>\n",
              "      <th>5</th>\n",
              "      <td>13</td>\n",
              "      <td>3</td>\n",
              "      <td>40</td>\n",
              "      <td>151</td>\n",
              "      <td>65</td>\n",
              "      <td>665</td>\n",
              "      <td>11</td>\n",
              "      <td>37</td>\n",
              "      <td>10</td>\n",
              "      <td>5</td>\n",
              "    </tr>\n",
              "    <tr>\n",
              "      <th>6</th>\n",
              "      <td>5</td>\n",
              "      <td>1</td>\n",
              "      <td>41</td>\n",
              "      <td>46</td>\n",
              "      <td>72</td>\n",
              "      <td>27</td>\n",
              "      <td>790</td>\n",
              "      <td>6</td>\n",
              "      <td>9</td>\n",
              "      <td>3</td>\n",
              "    </tr>\n",
              "    <tr>\n",
              "      <th>7</th>\n",
              "      <td>10</td>\n",
              "      <td>2</td>\n",
              "      <td>43</td>\n",
              "      <td>23</td>\n",
              "      <td>90</td>\n",
              "      <td>60</td>\n",
              "      <td>4</td>\n",
              "      <td>759</td>\n",
              "      <td>1</td>\n",
              "      <td>8</td>\n",
              "    </tr>\n",
              "    <tr>\n",
              "      <th>8</th>\n",
              "      <td>44</td>\n",
              "      <td>23</td>\n",
              "      <td>18</td>\n",
              "      <td>9</td>\n",
              "      <td>13</td>\n",
              "      <td>9</td>\n",
              "      <td>6</td>\n",
              "      <td>4</td>\n",
              "      <td>856</td>\n",
              "      <td>18</td>\n",
              "    </tr>\n",
              "    <tr>\n",
              "      <th>9</th>\n",
              "      <td>40</td>\n",
              "      <td>40</td>\n",
              "      <td>12</td>\n",
              "      <td>19</td>\n",
              "      <td>7</td>\n",
              "      <td>15</td>\n",
              "      <td>6</td>\n",
              "      <td>21</td>\n",
              "      <td>31</td>\n",
              "      <td>809</td>\n",
              "    </tr>\n",
              "  </tbody>\n",
              "</table>\n",
              "</div>\n",
              "      <button class=\"colab-df-convert\" onclick=\"convertToInteractive('df-e9b56b57-f704-4efe-a642-0378ce386def')\"\n",
              "              title=\"Convert this dataframe to an interactive table.\"\n",
              "              style=\"display:none;\">\n",
              "        \n",
              "  <svg xmlns=\"http://www.w3.org/2000/svg\" height=\"24px\"viewBox=\"0 0 24 24\"\n",
              "       width=\"24px\">\n",
              "    <path d=\"M0 0h24v24H0V0z\" fill=\"none\"/>\n",
              "    <path d=\"M18.56 5.44l.94 2.06.94-2.06 2.06-.94-2.06-.94-.94-2.06-.94 2.06-2.06.94zm-11 1L8.5 8.5l.94-2.06 2.06-.94-2.06-.94L8.5 2.5l-.94 2.06-2.06.94zm10 10l.94 2.06.94-2.06 2.06-.94-2.06-.94-.94-2.06-.94 2.06-2.06.94z\"/><path d=\"M17.41 7.96l-1.37-1.37c-.4-.4-.92-.59-1.43-.59-.52 0-1.04.2-1.43.59L10.3 9.45l-7.72 7.72c-.78.78-.78 2.05 0 2.83L4 21.41c.39.39.9.59 1.41.59.51 0 1.02-.2 1.41-.59l7.78-7.78 2.81-2.81c.8-.78.8-2.07 0-2.86zM5.41 20L4 18.59l7.72-7.72 1.47 1.35L5.41 20z\"/>\n",
              "  </svg>\n",
              "      </button>\n",
              "      \n",
              "  <style>\n",
              "    .colab-df-container {\n",
              "      display:flex;\n",
              "      flex-wrap:wrap;\n",
              "      gap: 12px;\n",
              "    }\n",
              "\n",
              "    .colab-df-convert {\n",
              "      background-color: #E8F0FE;\n",
              "      border: none;\n",
              "      border-radius: 50%;\n",
              "      cursor: pointer;\n",
              "      display: none;\n",
              "      fill: #1967D2;\n",
              "      height: 32px;\n",
              "      padding: 0 0 0 0;\n",
              "      width: 32px;\n",
              "    }\n",
              "\n",
              "    .colab-df-convert:hover {\n",
              "      background-color: #E2EBFA;\n",
              "      box-shadow: 0px 1px 2px rgba(60, 64, 67, 0.3), 0px 1px 3px 1px rgba(60, 64, 67, 0.15);\n",
              "      fill: #174EA6;\n",
              "    }\n",
              "\n",
              "    [theme=dark] .colab-df-convert {\n",
              "      background-color: #3B4455;\n",
              "      fill: #D2E3FC;\n",
              "    }\n",
              "\n",
              "    [theme=dark] .colab-df-convert:hover {\n",
              "      background-color: #434B5C;\n",
              "      box-shadow: 0px 1px 3px 1px rgba(0, 0, 0, 0.15);\n",
              "      filter: drop-shadow(0px 1px 2px rgba(0, 0, 0, 0.3));\n",
              "      fill: #FFFFFF;\n",
              "    }\n",
              "  </style>\n",
              "\n",
              "      <script>\n",
              "        const buttonEl =\n",
              "          document.querySelector('#df-e9b56b57-f704-4efe-a642-0378ce386def button.colab-df-convert');\n",
              "        buttonEl.style.display =\n",
              "          google.colab.kernel.accessAllowed ? 'block' : 'none';\n",
              "\n",
              "        async function convertToInteractive(key) {\n",
              "          const element = document.querySelector('#df-e9b56b57-f704-4efe-a642-0378ce386def');\n",
              "          const dataTable =\n",
              "            await google.colab.kernel.invokeFunction('convertToInteractive',\n",
              "                                                     [key], {});\n",
              "          if (!dataTable) return;\n",
              "\n",
              "          const docLinkHtml = 'Like what you see? Visit the ' +\n",
              "            '<a target=\"_blank\" href=https://colab.research.google.com/notebooks/data_table.ipynb>data table notebook</a>'\n",
              "            + ' to learn more about interactive tables.';\n",
              "          element.innerHTML = '';\n",
              "          dataTable['output_type'] = 'display_data';\n",
              "          await google.colab.output.renderOutput(dataTable, element);\n",
              "          const docLink = document.createElement('div');\n",
              "          docLink.innerHTML = docLinkHtml;\n",
              "          element.appendChild(docLink);\n",
              "        }\n",
              "      </script>\n",
              "    </div>\n",
              "  </div>\n",
              "  "
            ]
          },
          "metadata": {},
          "execution_count": 42
        }
      ],
      "source": [
        "import pandas as pd\n",
        "print(label_dict)\n",
        "pd.crosstab(y_label_test.reshape(-1),prediction,\n",
        "            rownames=['label'],colnames=['predict'])"
      ]
    },
    {
      "cell_type": "markdown",
      "source": [
        "匯入pandas模組\n",
        "\n",
        "reshape(-1)轉換1維陣列\n",
        "\n",
        "測試資料的預測結果\n",
        "\n",
        "設定行的名稱label\n",
        "\n",
        "設定列的名稱是predict"
      ],
      "metadata": {
        "id": "kQZdeca-m9Ns"
      }
    },
    {
      "cell_type": "code",
      "execution_count": 43,
      "metadata": {
        "id": "mNYccE8kVbET",
        "colab": {
          "base_uri": "https://localhost:8080/"
        },
        "outputId": "94413626-0e0a-46d1-f4da-977f76e3448d"
      },
      "outputs": [
        {
          "output_type": "stream",
          "name": "stdout",
          "text": [
            "{0: 'airplane', 1: 'automobile', 2: 'bird', 3: 'cat', 4: 'deer', 5: 'dog', 6: 'frog', 7: 'horse', 8: 'ship', 9: 'truck'}\n"
          ]
        }
      ],
      "source": [
        "print(label_dict)"
      ]
    },
    {
      "cell_type": "markdown",
      "metadata": {
        "id": "xgPEYeP6ncct"
      },
      "source": [
        "# Save model to Google Drive"
      ]
    },
    {
      "cell_type": "code",
      "source": [
        "from google.colab import drive\n",
        "drive.mount('/content/drive')"
      ],
      "metadata": {
        "colab": {
          "base_uri": "https://localhost:8080/"
        },
        "id": "5zDh3X6jJO3S",
        "outputId": "ab1dee98-52ab-4a7b-f720-b9791a0d250b"
      },
      "execution_count": 76,
      "outputs": [
        {
          "output_type": "stream",
          "name": "stdout",
          "text": [
            "Drive already mounted at /content/drive; to attempt to forcibly remount, call drive.mount(\"/content/drive\", force_remount=True).\n"
          ]
        }
      ]
    },
    {
      "cell_type": "markdown",
      "metadata": {
        "id": "XzrMssWNVbEU"
      },
      "source": [
        "# Save model to JSON"
      ]
    },
    {
      "cell_type": "code",
      "source": [
        "import os\n",
        "try:\n",
        "  os.makedirs('/content/Save/')\n",
        "except:\n",
        "  print(\"File existed\")"
      ],
      "metadata": {
        "colab": {
          "base_uri": "https://localhost:8080/"
        },
        "id": "bujKNVR8nJut",
        "outputId": "932d20ef-11b5-4ddc-911b-84f757e50828"
      },
      "execution_count": 80,
      "outputs": [
        {
          "output_type": "stream",
          "name": "stdout",
          "text": [
            "File existed\n"
          ]
        }
      ]
    },
    {
      "cell_type": "code",
      "execution_count": 81,
      "metadata": {
        "id": "AvoekqDXVbEU"
      },
      "outputs": [],
      "source": [
        "model_json = model.to_json()\n",
        "with open(\"/content/Save/cifarCnnModelnew.json\", \"w\") as json_file:\n",
        "    json_file.write(model_json)"
      ]
    },
    {
      "cell_type": "markdown",
      "metadata": {
        "id": "kTqXuqg_VbEU"
      },
      "source": [
        "# Save Weight to h5 "
      ]
    },
    {
      "cell_type": "code",
      "execution_count": 82,
      "metadata": {
        "id": "lMjKTwBWVbEU",
        "colab": {
          "base_uri": "https://localhost:8080/"
        },
        "outputId": "b841a659-414b-4da4-f401-fc61e03179bb"
      },
      "outputs": [
        {
          "output_type": "stream",
          "name": "stdout",
          "text": [
            "Saved model to disk\n"
          ]
        }
      ],
      "source": [
        "model.save_weights(\"/content/Save/cifarCnnModelnew.h5\")\n",
        "print(\"Saved model to disk\")"
      ]
    }
  ],
  "metadata": {
    "anaconda-cloud": {},
    "kernelspec": {
      "display_name": "Python 3",
      "language": "python",
      "name": "python3"
    },
    "language_info": {
      "codemirror_mode": {
        "name": "ipython",
        "version": 3
      },
      "file_extension": ".py",
      "mimetype": "text/x-python",
      "name": "python",
      "nbconvert_exporter": "python",
      "pygments_lexer": "ipython3",
      "version": "3.5.5"
    },
    "colab": {
      "provenance": []
    },
    "accelerator": "GPU"
  },
  "nbformat": 4,
  "nbformat_minor": 0
}