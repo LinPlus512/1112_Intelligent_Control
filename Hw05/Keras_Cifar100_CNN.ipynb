{
  "cells": [
    {
      "cell_type": "markdown",
      "metadata": {
        "id": "5QOa6XS0VbEC"
      },
      "source": [
        "# 1. Import Library"
      ]
    },
    {
      "cell_type": "code",
      "execution_count": 167,
      "metadata": {
        "id": "4Ro-69M1VbEF"
      },
      "outputs": [],
      "source": [
        "from keras.datasets import cifar100\n",
        "import numpy as np\n",
        "from keras.utils import np_utils\n",
        "\n",
        "np.random.seed(10)"
      ]
    },
    {
      "cell_type": "markdown",
      "metadata": {
        "id": "dld3bCU7VbEG"
      },
      "source": [
        "# 資料準備"
      ]
    },
    {
      "cell_type": "code",
      "source": [
        "# 要訓練的類別索引列表\n",
        "selected_classes = [0, 1, 2, 3, 4, 5, 6, 7, 8, 9, 10, 11, 12, 13, 14]"
      ],
      "metadata": {
        "id": "BOIiS8FzkcIP"
      },
      "execution_count": 168,
      "outputs": []
    },
    {
      "cell_type": "code",
      "execution_count": 169,
      "metadata": {
        "id": "DOCiNYJlVbEH"
      },
      "outputs": [],
      "source": [
        "(x_img_train,y_label_train),(x_img_test,y_label_test)=cifar100.load_data()"
      ]
    },
    {
      "cell_type": "markdown",
      "source": [
        "自動下載data set"
      ],
      "metadata": {
        "id": "L6cFGQrweBLG"
      }
    },
    {
      "cell_type": "code",
      "execution_count": 170,
      "metadata": {
        "colab": {
          "base_uri": "https://localhost:8080/"
        },
        "id": "YKHihacaVbEH",
        "outputId": "5fc10c89-27c0-4184-f4a2-ccf8e91954b4"
      },
      "outputs": [
        {
          "output_type": "stream",
          "name": "stdout",
          "text": [
            "train data: images: (50000, 32, 32, 3)  labels: (50000, 1)\n",
            "test  data: images: (10000, 32, 32, 3)  labels: (10000, 1)\n"
          ]
        }
      ],
      "source": [
        "print(\"train data:\",'images:',x_img_train.shape,\n",
        "      \" labels:\",y_label_train.shape) \n",
        "print(\"test  data:\",'images:',x_img_test.shape ,\n",
        "      \" labels:\",y_label_test.shape) "
      ]
    },
    {
      "cell_type": "markdown",
      "source": [
        "順序標記訓練集和測試集的(資料數量,形狀和通道數量)\n",
        "例:(50000筆,像素32*32,RGB圖片通道為3)"
      ],
      "metadata": {
        "id": "73HGjZhXeLvF"
      }
    },
    {
      "cell_type": "code",
      "execution_count": 171,
      "metadata": {
        "id": "TG62WQJrVbEI"
      },
      "outputs": [],
      "source": [
        "x_img_train_normalize = x_img_train.astype('float32') / 255.0\n",
        "x_img_test_normalize = x_img_test.astype('float32') / 255.0"
      ]
    },
    {
      "cell_type": "code",
      "source": [
        "# 根據選取的類別索引篩選出對應的訓練樣本和標籤\n",
        "selected_classes = [i for i in range(15)]\n",
        "selected_train_samples = np.where(np.isin(y_label_train, selected_classes))[0]\n",
        "x_img_train_selected = x_img_train_normalize[selected_train_samples]\n",
        "y_label_train_selected = y_label_train[selected_train_samples]\n",
        "y_label_train_selected_OneHot = np_utils.to_categorical(y_label_train_selected, len(selected_classes))\n",
        "\n",
        "selected_test_samples = np.where(np.isin(y_label_test, selected_classes))[0]\n",
        "x_img_test_selected = x_img_test_normalize[selected_test_samples]\n",
        "y_label_test_selected = y_label_test[selected_test_samples]\n",
        "y_label_test_selected_OneHot = np_utils.to_categorical(y_label_test_selected, len(selected_classes))\n"
      ],
      "metadata": {
        "id": "SYsQxaDGkvaG"
      },
      "execution_count": 172,
      "outputs": []
    },
    {
      "cell_type": "markdown",
      "source": [
        "因為圖片像素數據以0到255表達，因此將數據(圖片)除以255,進行標準化,提高準確率"
      ],
      "metadata": {
        "id": "9FEp1tzLeWq7"
      }
    },
    {
      "cell_type": "code",
      "execution_count": 173,
      "metadata": {
        "id": "YEnPfn1yVbEI"
      },
      "outputs": [],
      "source": [
        "# from keras.utils import np_utils\n",
        "# # 將標籤轉換為 One-Hot Encoding 格式\n",
        "# y_label_train_OneHot = np_utils.to_categorical(y_label_train_selected)\n",
        "# y_label_test_OneHot = np_utils.to_categorical(y_label_test_selected)\n"
      ]
    },
    {
      "cell_type": "markdown",
      "source": [
        "將圖片預先做好的標籤欄位轉換為Onehot encoding,方便後續繪制圖表時直接代入標籤文字"
      ],
      "metadata": {
        "id": "mdlSCouSf-h1"
      }
    },
    {
      "cell_type": "code",
      "execution_count": 174,
      "metadata": {
        "id": "OWWaedrVVbEJ"
      },
      "outputs": [],
      "source": [
        "# y_label_test_OneHot.shape"
      ]
    },
    {
      "cell_type": "markdown",
      "source": [
        "執行結果,數量為被處理的圖片數量"
      ],
      "metadata": {
        "id": "L2iTfAS9gfxt"
      }
    },
    {
      "cell_type": "markdown",
      "metadata": {
        "id": "OcSc3MdsVbEJ"
      },
      "source": [
        "# 建立模型"
      ]
    },
    {
      "cell_type": "code",
      "execution_count": 175,
      "metadata": {
        "id": "HpROJCRyVbEK"
      },
      "outputs": [],
      "source": [
        "from keras.models import Sequential\n",
        "from keras.layers import Dense, Dropout, Activation, Flatten\n",
        "from keras.layers import Conv2D, MaxPooling2D, ZeroPadding2D"
      ]
    },
    {
      "cell_type": "code",
      "execution_count": 176,
      "metadata": {
        "id": "qRyQ9pdLVbEK"
      },
      "outputs": [],
      "source": [
        "model = Sequential()"
      ]
    },
    {
      "cell_type": "markdown",
      "source": [
        "建立一個Sequential線性堆疊模型,往下便可以直接順序加入模型"
      ],
      "metadata": {
        "id": "xOmYvtZFg5Pc"
      }
    },
    {
      "cell_type": "code",
      "execution_count": 177,
      "metadata": {
        "id": "pRPyTbKRVbEK"
      },
      "outputs": [],
      "source": [
        "#卷積層1"
      ]
    },
    {
      "cell_type": "code",
      "execution_count": 178,
      "metadata": {
        "id": "uRd84oBQVbEL"
      },
      "outputs": [],
      "source": [
        "model.add(Conv2D(filters=32,kernel_size=(3,3),\n",
        "                 input_shape=(32, 32,3), \n",
        "                 activation='relu', \n",
        "                 padding='same'))"
      ]
    },
    {
      "cell_type": "markdown",
      "source": [
        "filters:隨機產生32個濾鏡filters weight\n",
        "\n",
        "kernel size(3,3):每一個濾鏡3*3大小\n",
        "\n",
        "input shape:輸入圖像格式,Cifar資料集像素為32*32,RGB的三原色通道為3\n",
        "\n",
        "activation:使用relu激活函數\n",
        "\n",
        "padding:設定讓卷積運算後的影像大小不變"
      ],
      "metadata": {
        "id": "2doHgt-ahNw1"
      }
    },
    {
      "cell_type": "code",
      "execution_count": 179,
      "metadata": {
        "id": "z_n1jaUVVbEL"
      },
      "outputs": [],
      "source": [
        "model.add(Dropout(rate=0.25))"
      ]
    },
    {
      "cell_type": "markdown",
      "source": [
        "每次訓練迭代會隨機放棄神經網路中的25%神經元,避免overfitting"
      ],
      "metadata": {
        "id": "EfHXcrg_icWb"
      }
    },
    {
      "cell_type": "code",
      "execution_count": 180,
      "metadata": {
        "id": "YIqFx6sFVbEL"
      },
      "outputs": [],
      "source": [
        "model.add(MaxPooling2D(pool_size=(2, 2)))"
      ]
    },
    {
      "cell_type": "markdown",
      "source": [
        "建立池化層,(2,2)的意思為將(32,32)除以(2,2),把影像縮小為(16,16),但是數量仍保持32個"
      ],
      "metadata": {
        "id": "vVKzSlG9iz5t"
      }
    },
    {
      "cell_type": "code",
      "execution_count": 181,
      "metadata": {
        "id": "MeKTCIRQVbEL"
      },
      "outputs": [],
      "source": [
        "#卷積層2與池化層2"
      ]
    },
    {
      "cell_type": "code",
      "execution_count": 182,
      "metadata": {
        "id": "Drtyrqt3VbEM"
      },
      "outputs": [],
      "source": [
        "model.add(Conv2D(filters=64, kernel_size=(3, 3), \n",
        "                 activation='relu', padding='same'))"
      ]
    },
    {
      "cell_type": "code",
      "execution_count": 183,
      "metadata": {
        "id": "cxol0iOQVbEM"
      },
      "outputs": [],
      "source": [
        "model.add(Dropout(0.25))"
      ]
    },
    {
      "cell_type": "code",
      "execution_count": 184,
      "metadata": {
        "id": "t2NMW_y-VbEM"
      },
      "outputs": [],
      "source": [
        "model.add(MaxPooling2D(pool_size=(2, 2)))"
      ]
    },
    {
      "cell_type": "code",
      "execution_count": 185,
      "metadata": {
        "id": "OuoN-w_yVbEM"
      },
      "outputs": [],
      "source": [
        "#Step3\t建立神經網路(平坦層、隱藏層、輸出層)"
      ]
    },
    {
      "cell_type": "code",
      "execution_count": 186,
      "metadata": {
        "id": "VgM3Dx5HVbEN"
      },
      "outputs": [],
      "source": [
        "model.add(Flatten())\n",
        "model.add(Dropout(rate=0.25))"
      ]
    },
    {
      "cell_type": "markdown",
      "source": [
        "建立平坦層,8x8x64=4096,剛好等於上一個池化層的神經元數量,\n",
        "\n",
        "並在每次訓練迭代放棄25%的神經元"
      ],
      "metadata": {
        "id": "pxgCLqEyjQIf"
      }
    },
    {
      "cell_type": "code",
      "execution_count": 187,
      "metadata": {
        "id": "Q3Lro5noVbEN"
      },
      "outputs": [],
      "source": [
        "model.add(Dense(1024, activation='relu'))\n",
        "model.add(Dropout(rate=0.25))"
      ]
    },
    {
      "cell_type": "markdown",
      "source": [
        "建立隱藏層,共1024個神經元"
      ],
      "metadata": {
        "id": "s1JI57zZkAFr"
      }
    },
    {
      "cell_type": "code",
      "execution_count": 188,
      "metadata": {
        "id": "mH6bF2BgVbEN"
      },
      "outputs": [],
      "source": [
        "model.add(Dense(15, activation='softmax'))"
      ]
    },
    {
      "cell_type": "markdown",
      "source": [
        "建立輸出層,共10個神經元,對應10個影像分類,使用softmax激活函數進行轉換,\n",
        "\n",
        "讓結果轉換成預測每一個影像的機率"
      ],
      "metadata": {
        "id": "GHhy3bvekS80"
      }
    },
    {
      "cell_type": "code",
      "execution_count": 189,
      "metadata": {
        "colab": {
          "base_uri": "https://localhost:8080/"
        },
        "id": "wR6LrwacVbEN",
        "outputId": "38e36d77-fb15-435f-ac81-abf6739cc966"
      },
      "outputs": [
        {
          "output_type": "stream",
          "name": "stdout",
          "text": [
            "Model: \"sequential_6\"\n",
            "_________________________________________________________________\n",
            " Layer (type)                Output Shape              Param #   \n",
            "=================================================================\n",
            " conv2d_12 (Conv2D)          (None, 32, 32, 32)        896       \n",
            "                                                                 \n",
            " dropout_24 (Dropout)        (None, 32, 32, 32)        0         \n",
            "                                                                 \n",
            " max_pooling2d_12 (MaxPoolin  (None, 16, 16, 32)       0         \n",
            " g2D)                                                            \n",
            "                                                                 \n",
            " conv2d_13 (Conv2D)          (None, 16, 16, 64)        18496     \n",
            "                                                                 \n",
            " dropout_25 (Dropout)        (None, 16, 16, 64)        0         \n",
            "                                                                 \n",
            " max_pooling2d_13 (MaxPoolin  (None, 8, 8, 64)         0         \n",
            " g2D)                                                            \n",
            "                                                                 \n",
            " flatten_6 (Flatten)         (None, 4096)              0         \n",
            "                                                                 \n",
            " dropout_26 (Dropout)        (None, 4096)              0         \n",
            "                                                                 \n",
            " dense_11 (Dense)            (None, 1024)              4195328   \n",
            "                                                                 \n",
            " dropout_27 (Dropout)        (None, 1024)              0         \n",
            "                                                                 \n",
            " dense_12 (Dense)            (None, 15)                15375     \n",
            "                                                                 \n",
            "=================================================================\n",
            "Total params: 4,230,095\n",
            "Trainable params: 4,230,095\n",
            "Non-trainable params: 0\n",
            "_________________________________________________________________\n",
            "None\n"
          ]
        }
      ],
      "source": [
        "print(model.summary())"
      ]
    },
    {
      "cell_type": "markdown",
      "metadata": {
        "id": "RNQXhk4BVbEN"
      },
      "source": [
        "# 載入之前訓練的模型"
      ]
    },
    {
      "cell_type": "code",
      "execution_count": 190,
      "metadata": {
        "colab": {
          "base_uri": "https://localhost:8080/"
        },
        "id": "DReDuuZrVbEO",
        "outputId": "6685db70-ed37-4b24-be15-37ad5929052c"
      },
      "outputs": [
        {
          "output_type": "stream",
          "name": "stdout",
          "text": [
            "載入模型失敗!開始訓練一個新模型\n"
          ]
        }
      ],
      "source": [
        "try:\n",
        "    model.load_weights(\"SaveModel/cifarCnnModelnew1.h5\")\n",
        "    print(\"載入模型成功!繼續訓練模型\")\n",
        "except :    \n",
        "    print(\"載入模型失敗!開始訓練一個新模型\")"
      ]
    },
    {
      "cell_type": "markdown",
      "metadata": {
        "id": "UjDr04P-VbEO"
      },
      "source": [
        "# 訓練模型"
      ]
    },
    {
      "cell_type": "code",
      "execution_count": 191,
      "metadata": {
        "id": "I3DYiBxTVbEO"
      },
      "outputs": [],
      "source": [
        "model.compile(loss='categorical_crossentropy',\n",
        "              optimizer='adam', metrics=['accuracy'])"
      ]
    },
    {
      "cell_type": "markdown",
      "source": [
        "設定損失函數,在深度學習中通常會使用cross entropy交叉熵,訓練效果較好"
      ],
      "metadata": {
        "id": "XN2VMzLkkouK"
      }
    },
    {
      "cell_type": "code",
      "execution_count": 192,
      "metadata": {
        "colab": {
          "base_uri": "https://localhost:8080/"
        },
        "id": "ORIJVM2-VbEO",
        "outputId": "5ec45e99-14a8-4f55-a9f6-b1451bfd8c61"
      },
      "outputs": [
        {
          "output_type": "stream",
          "name": "stdout",
          "text": [
            "Epoch 1/10\n",
            "47/47 [==============================] - 3s 19ms/step - loss: 2.5881 - accuracy: 0.1655 - val_loss: 2.2537 - val_accuracy: 0.3433\n",
            "Epoch 2/10\n",
            "47/47 [==============================] - 1s 13ms/step - loss: 2.0259 - accuracy: 0.3550 - val_loss: 1.9651 - val_accuracy: 0.3940\n",
            "Epoch 3/10\n",
            "47/47 [==============================] - 1s 16ms/step - loss: 1.7116 - accuracy: 0.4552 - val_loss: 1.7588 - val_accuracy: 0.4853\n",
            "Epoch 4/10\n",
            "47/47 [==============================] - 1s 12ms/step - loss: 1.4869 - accuracy: 0.5272 - val_loss: 1.6566 - val_accuracy: 0.5153\n",
            "Epoch 5/10\n",
            "47/47 [==============================] - 1s 11ms/step - loss: 1.3603 - accuracy: 0.5690 - val_loss: 1.5475 - val_accuracy: 0.5407\n",
            "Epoch 6/10\n",
            "47/47 [==============================] - 0s 10ms/step - loss: 1.2516 - accuracy: 0.5988 - val_loss: 1.4571 - val_accuracy: 0.5780\n",
            "Epoch 7/10\n",
            "47/47 [==============================] - 1s 11ms/step - loss: 1.1237 - accuracy: 0.6433 - val_loss: 1.4064 - val_accuracy: 0.5700\n",
            "Epoch 8/10\n",
            "47/47 [==============================] - 0s 10ms/step - loss: 1.0052 - accuracy: 0.6768 - val_loss: 1.3789 - val_accuracy: 0.5853\n",
            "Epoch 9/10\n",
            "47/47 [==============================] - 0s 10ms/step - loss: 0.9131 - accuracy: 0.7025 - val_loss: 1.3373 - val_accuracy: 0.5813\n",
            "Epoch 10/10\n",
            "47/47 [==============================] - 0s 10ms/step - loss: 0.8015 - accuracy: 0.7363 - val_loss: 1.3028 - val_accuracy: 0.5933\n"
          ]
        }
      ],
      "source": [
        "train_history=model.fit(x_img_train_selected, y_label_train_selected_OneHot,\n",
        "                        validation_split=0.2,\n",
        "                        epochs=10, batch_size=128, verbose=1)          "
      ]
    },
    {
      "cell_type": "markdown",
      "source": [
        "輸入圖像標籤文字\n",
        "\n",
        "validatiom split:訓練集和測試集的比例,這次為50000:10000,所以是0.2\n",
        "\n",
        "epochs:訓練週期10次\n",
        "\n",
        "batch size:每批次輸入128張圖片"
      ],
      "metadata": {
        "id": "g04fOH6Vk_W-"
      }
    },
    {
      "cell_type": "code",
      "execution_count": 193,
      "metadata": {
        "id": "i3omcjUjVbEO"
      },
      "outputs": [],
      "source": [
        "import matplotlib.pyplot as plt\n",
        "def show_train_history(train_acc,test_acc):\n",
        "    plt.plot(train_history.history[train_acc])\n",
        "    plt.plot(train_history.history[test_acc])\n",
        "    plt.title('Train History')\n",
        "    plt.ylabel(train_acc)\n",
        "    plt.xlabel('Epoch')\n",
        "    plt.legend(['train', 'test'], loc='upper left')\n",
        "    plt.show()"
      ]
    },
    {
      "cell_type": "markdown",
      "source": [
        "設定圖表欄位和格式"
      ],
      "metadata": {
        "id": "MvA07z-6lngv"
      }
    },
    {
      "cell_type": "code",
      "execution_count": 194,
      "metadata": {
        "colab": {
          "base_uri": "https://localhost:8080/",
          "height": 472
        },
        "id": "LJ-MIu_PVbEO",
        "outputId": "35d98119-3ecf-41dd-8782-0f54531f373c"
      },
      "outputs": [
        {
          "output_type": "display_data",
          "data": {
            "text/plain": [
              "<Figure size 640x480 with 1 Axes>"
            ],
            "image/png": "[encoded data removed]"
          },
          "metadata": {}
        }
      ],
      "source": [
        "show_train_history('accuracy','val_accuracy')"
      ]
    },
    {
      "cell_type": "markdown",
      "source": [
        "accuracy:訓練時的準確率\n",
        "\n",
        "val accuracy:驗證時的準確率"
      ],
      "metadata": {
        "id": "wetwhd6TlvYh"
      }
    },
    {
      "cell_type": "code",
      "execution_count": 195,
      "metadata": {
        "colab": {
          "base_uri": "https://localhost:8080/",
          "height": 472
        },
        "id": "jcoX84ZdVbEP",
        "outputId": "5d6015bb-6dcb-4b7f-eeca-b86c48663b90"
      },
      "outputs": [
        {
          "output_type": "display_data",
          "data": {
            "text/plain": [
              "<Figure size 640x480 with 1 Axes>"
            ],
            "image/png": "[encoded data removed]"
          },
          "metadata": {}
        }
      ],
      "source": [
        "show_train_history('loss','val_loss')"
      ]
    },
    {
      "cell_type": "markdown",
      "source": [
        "loss:訓練時的誤差\n",
        "\n",
        "val accuracy:驗證時的誤差"
      ],
      "metadata": {
        "id": "v85e18xxl4wE"
      }
    },
    {
      "cell_type": "markdown",
      "metadata": {
        "id": "EWBlmjtjVbEP"
      },
      "source": [
        "# 評估模型準確率"
      ]
    },
    {
      "cell_type": "code",
      "execution_count": 196,
      "metadata": {
        "colab": {
          "base_uri": "https://localhost:8080/"
        },
        "id": "PQ-rsbe0VbEP",
        "outputId": "a2107d54-91be-48b9-87f0-79e04dd06b25"
      },
      "outputs": [
        {
          "output_type": "execute_result",
          "data": {
            "text/plain": [
              "0.795199990272522"
            ]
          },
          "metadata": {},
          "execution_count": 196
        }
      ],
      "source": [
        "scores = model.evaluate(x_img_train_selected, \n",
        "                        y_label_train_selected_OneHot, verbose=0)\n",
        "scores[1]"
      ]
    },
    {
      "cell_type": "markdown",
      "metadata": {
        "id": "iaJ1TgHLVbEP"
      },
      "source": [
        "# 進行預測"
      ]
    },
    {
      "cell_type": "code",
      "execution_count": 234,
      "metadata": {
        "id": "QbQGAeFbVbEP",
        "colab": {
          "base_uri": "https://localhost:8080/"
        },
        "outputId": "08678edc-069a-4cf3-8034-9bb19a9b72d0"
      },
      "outputs": [
        {
          "output_type": "stream",
          "name": "stdout",
          "text": [
            "47/47 [==============================] - 0s 3ms/step\n"
          ]
        }
      ],
      "source": [
        "prediction=np.argmax(model.predict(x_img_test_selected), axis=-1)"
      ]
    },
    {
      "cell_type": "code",
      "execution_count": 235,
      "metadata": {
        "id": "Fysay-SGVbER",
        "colab": {
          "base_uri": "https://localhost:8080/"
        },
        "outputId": "f9515b21-6f50-40ac-8f6a-1c203cc28413"
      },
      "outputs": [
        {
          "output_type": "execute_result",
          "data": {
            "text/plain": [
              "array([14, 10,  8, 11, 14,  4,  6,  9,  2,  1, 10,  6,  6, 13,  7])"
            ]
          },
          "metadata": {},
          "execution_count": 235
        }
      ],
      "source": [
        "prediction[:15]"
      ]
    },
    {
      "cell_type": "markdown",
      "metadata": {
        "id": "So-DttJWVbER"
      },
      "source": [
        "# 查看預測結果"
      ]
    },
    {
      "cell_type": "code",
      "execution_count": 236,
      "metadata": {
        "id": "Yta4cD21VbER"
      },
      "outputs": [],
      "source": [
        "label_dict={0: 'apple',\n",
        "            1: 'aquarium_fish',\n",
        "            2: 'baby',\n",
        "            3: 'bear',\n",
        "            4: 'beaver',\n",
        "            5: 'bed',\n",
        "            6: 'bee',\n",
        "            7: 'beetle',\n",
        "            8: 'bicycle',\n",
        "            9: 'bottle',\n",
        "            10: 'bowl',\n",
        "            11: 'boy',\n",
        "            12: 'bridge',\n",
        "            13: 'bus',\n",
        "            14: 'butterfly'\n",
        "            }"
      ]
    },
    {
      "cell_type": "code",
      "execution_count": 237,
      "metadata": {
        "id": "j4cFs2WIVbER"
      },
      "outputs": [],
      "source": [
        "import matplotlib.pyplot as plt\n",
        "def plot_images_labels_prediction(images,labels,prediction,\n",
        "                                  idx,num=10):\n",
        "    fig = plt.gcf()\n",
        "    fig.set_size_inches(12, 14)\n",
        "    if num>25: num=25  # difine the showed-image max\n",
        "    for i in range(0, num):\n",
        "        ax=plt.subplot(5,5, 1+i)\n",
        "        ax.imshow(images[idx],cmap='binary')\n",
        "        try:       \n",
        "          title=str(i)+','+label_dict[labels[i][0]]\n",
        "          if len(prediction)>0:\n",
        "              title+='=>'+label_dict[prediction[i]]\n",
        "              \n",
        "          ax.set_title(title,fontsize=10) \n",
        "        except:\n",
        "          None\n",
        "        ax.set_xticks([]);ax.set_yticks([])        \n",
        "        idx+=1 \n",
        "    plt.show()"
      ]
    },
    {
      "cell_type": "code",
      "execution_count": 238,
      "metadata": {
        "id": "67mJ5vjbVbES",
        "colab": {
          "base_uri": "https://localhost:8080/",
          "height": 662
        },
        "outputId": "f809775b-0cf2-490e-9f9d-87442d8b9ccf"
      },
      "outputs": [
        {
          "output_type": "display_data",
          "data": {
            "text/plain": [
              "<Figure size 1200x1400 with 15 Axes>"
            ],
            "image/png": "[encoded data removed]"
          },
          "metadata": {}
        }
      ],
      "source": [
        "plot_images_labels_prediction(x_img_test_selected,\n",
        "                              y_label_test_selected,\n",
        "                              prediction,\n",
        "                              0,\n",
        "                              15)"
      ]
    },
    {
      "cell_type": "markdown",
      "metadata": {
        "id": "IbvhoccDVbES"
      },
      "source": [
        "# 查看預測機率"
      ]
    },
    {
      "cell_type": "code",
      "execution_count": 239,
      "metadata": {
        "id": "-MPuckT3VbES",
        "colab": {
          "base_uri": "https://localhost:8080/"
        },
        "outputId": "bcd3f0f9-3f21-4c93-97fd-8c3756a0e215"
      },
      "outputs": [
        {
          "output_type": "stream",
          "name": "stdout",
          "text": [
            "47/47 [==============================] - 0s 3ms/step\n"
          ]
        }
      ],
      "source": [
        "Predicted_Probability=model.predict(x_img_test_selected)"
      ]
    },
    {
      "cell_type": "code",
      "execution_count": 240,
      "metadata": {
        "id": "PQ3hIP15VbES"
      },
      "outputs": [],
      "source": [
        "def show_Predicted_Probability(y,prediction,\n",
        "                               x_img,Predicted_Probability,i):\n",
        "    print('label:',label_dict[y[i][0]],\n",
        "          'predict:',label_dict[prediction[i]])\n",
        "    plt.figure(figsize=(2,2))\n",
        "    plt.imshow(np.reshape(x_img_test[i],(32, 32,3)))\n",
        "    plt.show()\n",
        "    for j in range(10):\n",
        "        print(label_dict[j]+\n",
        "              ' Probability:%1.9f'%(Predicted_Probability[i][j]))"
      ]
    },
    {
      "cell_type": "code",
      "execution_count": 241,
      "metadata": {
        "id": "clduo7LXVbES",
        "colab": {
          "base_uri": "https://localhost:8080/",
          "height": 413
        },
        "outputId": "c398e506-ca2f-4de7-d7c9-1900ea83b53b"
      },
      "outputs": [
        {
          "output_type": "stream",
          "name": "stdout",
          "text": [
            "label: butterfly predict: butterfly\n"
          ]
        },
        {
          "output_type": "display_data",
          "data": {
            "text/plain": [
              "<Figure size 200x200 with 1 Axes>"
            ],
            "image/png": "[encoded data removed]"
          },
          "metadata": {}
        },
        {
          "output_type": "stream",
          "name": "stdout",
          "text": [
            "apple Probability:0.000137472\n",
            "aquarium_fish Probability:0.000083222\n",
            "baby Probability:0.002630940\n",
            "bear Probability:0.260554612\n",
            "beaver Probability:0.138400465\n",
            "bed Probability:0.004930145\n",
            "bee Probability:0.020625936\n",
            "beetle Probability:0.146397486\n",
            "bicycle Probability:0.012852089\n",
            "bottle Probability:0.002910978\n"
          ]
        }
      ],
      "source": [
        "show_Predicted_Probability(y_label_test_selected,prediction,\n",
        "                           x_img_test_selected,Predicted_Probability,0)"
      ]
    },
    {
      "cell_type": "code",
      "execution_count": 242,
      "metadata": {
        "id": "GGPfJu2eVbES",
        "colab": {
          "base_uri": "https://localhost:8080/",
          "height": 413
        },
        "outputId": "72003631-caf2-4a0e-c498-48e1ecf4c351"
      },
      "outputs": [
        {
          "output_type": "stream",
          "name": "stdout",
          "text": [
            "label: bicycle predict: boy\n"
          ]
        },
        {
          "output_type": "display_data",
          "data": {
            "text/plain": [
              "<Figure size 200x200 with 1 Axes>"
            ],
            "image/png": "[encoded data removed]"
          },
          "metadata": {}
        },
        {
          "output_type": "stream",
          "name": "stdout",
          "text": [
            "apple Probability:0.023631113\n",
            "aquarium_fish Probability:0.002862953\n",
            "baby Probability:0.124004707\n",
            "bear Probability:0.056975026\n",
            "beaver Probability:0.092907123\n",
            "bed Probability:0.011866055\n",
            "bee Probability:0.135450378\n",
            "beetle Probability:0.031459473\n",
            "bicycle Probability:0.090483509\n",
            "bottle Probability:0.123536430\n"
          ]
        }
      ],
      "source": [
        "show_Predicted_Probability(y_label_test_selected,prediction,\n",
        "                           x_img_test_selected,Predicted_Probability,3)"
      ]
    },
    {
      "cell_type": "markdown",
      "metadata": {
        "id": "RR5ArYfKVbET"
      },
      "source": [
        "# confusion matrix"
      ]
    },
    {
      "cell_type": "code",
      "execution_count": 251,
      "metadata": {
        "id": "uhC3C_d-VbET",
        "colab": {
          "base_uri": "https://localhost:8080/"
        },
        "outputId": "4812e170-de0c-4ee5-c4c5-ba97fdc232a7"
      },
      "outputs": [
        {
          "output_type": "execute_result",
          "data": {
            "text/plain": [
              "(1500,)"
            ]
          },
          "metadata": {},
          "execution_count": 251
        }
      ],
      "source": [
        "prediction.shape"
      ]
    },
    {
      "cell_type": "markdown",
      "source": [
        "建立混淆矩陣時結果資據必須為1維陣列,如果括號有多於一筆數據,則必須先進行數據處理"
      ],
      "metadata": {
        "id": "zaKceA3wmdVt"
      }
    },
    {
      "cell_type": "code",
      "execution_count": 250,
      "metadata": {
        "id": "Jg5fiWjCVbET",
        "colab": {
          "base_uri": "https://localhost:8080/"
        },
        "outputId": "31301a08-ef25-4311-a658-db59c4df61f6"
      },
      "outputs": [
        {
          "output_type": "execute_result",
          "data": {
            "text/plain": [
              "(1500, 1)"
            ]
          },
          "metadata": {},
          "execution_count": 250
        }
      ],
      "source": [
        "y_label_test_selected.shape"
      ]
    },
    {
      "cell_type": "markdown",
      "source": [
        "執行結果顯示已轉換為1維陣列"
      ],
      "metadata": {
        "id": "7y6J4bODmxJW"
      }
    },
    {
      "cell_type": "code",
      "execution_count": 252,
      "metadata": {
        "id": "v6co6R1EVbET",
        "colab": {
          "base_uri": "https://localhost:8080/"
        },
        "outputId": "3cf0902e-379b-421b-8947-feb6b2778a51"
      },
      "outputs": [
        {
          "output_type": "execute_result",
          "data": {
            "text/plain": [
              "array([[14],\n",
              "       [ 0],\n",
              "       [ 8],\n",
              "       ...,\n",
              "       [14],\n",
              "       [ 7],\n",
              "       [14]])"
            ]
          },
          "metadata": {},
          "execution_count": 252
        }
      ],
      "source": [
        "y_label_test_selected"
      ]
    },
    {
      "cell_type": "code",
      "execution_count": 248,
      "metadata": {
        "id": "zUOhJL0ZVbET",
        "colab": {
          "base_uri": "https://localhost:8080/"
        },
        "outputId": "a4d5b5c5-2408-4c3c-b7a7-9bbcf630e155"
      },
      "outputs": [
        {
          "output_type": "execute_result",
          "data": {
            "text/plain": [
              "array([14,  0,  8, ..., 14,  7, 14])"
            ]
          },
          "metadata": {},
          "execution_count": 248
        }
      ],
      "source": [
        "y_label_test_selected.reshape(-1)"
      ]
    },
    {
      "cell_type": "code",
      "execution_count": 256,
      "metadata": {
        "id": "hyWqjQ5GVbET"
      },
      "outputs": [],
      "source": [
        "import pandas as pd\n",
        "confusion_matrix = pd.crosstab(y_label_test_selected.reshape(-1),\n",
        "                               prediction,\n",
        "                               rownames=['label'], \n",
        "                               colnames=['predict'])"
      ]
    },
    {
      "cell_type": "code",
      "source": [
        "confusion_matrix"
      ],
      "metadata": {
        "colab": {
          "base_uri": "https://localhost:8080/",
          "height": 551
        },
        "id": "knIJhysV1ass",
        "outputId": "110dccf4-66d6-4605-cd63-2a5f50986666"
      },
      "execution_count": 255,
      "outputs": [
        {
          "output_type": "execute_result",
          "data": {
            "text/plain": [
              "predict  0   1   2   3   4   5   6   7   8   9   10  11  12  13  14\n",
              "label                                                              \n",
              "0        83   2   2   0   1   0   0   3   1   2   1   0   1   0   4\n",
              "1         5  66   3   2   2   1   2   1   3   0   3   2   0   2   8\n",
              "2         6   3  52   2   1  12   4   0   3   4   4   6   0   1   2\n",
              "3         0   0   2  56  18   1   3   6   2   3   1   0   2   2   4\n",
              "4         0   0   2  16  61   2   5   7   2   0   0   3   0   0   2\n",
              "5         3   4   2   0   4  68   2   2   4   2   2   0   2   3   2\n",
              "6         0   1   2   3   6   1  59   4   3   2   0   2   0   4  13\n",
              "7         0   1   2   4   4   0   9  62   5   0   0   0   0   0  13\n",
              "8         1   2   1   5   2   0   1   2  75   1   0   1   8   0   1\n",
              "9         1   0   1   2   1   1   0   4   4  70   1   3   3   4   5\n",
              "10        8   7   8   3   5   7   1  11   0   3  42   1   1   1   2\n",
              "11        0   2  26   5   9   8   2   4   3   3   1  30   0   1   6\n",
              "12        1   1   1   6   1   2   2   0   9   4   0   0  68   4   1\n",
              "13        0   1   0   3   5   1   1   0   9   3   3   0  10  63   1\n",
              "14        0   5   2   2   4   1   6   8   5   2   2   1   0   2  60"
            ],
            "text/html": [
              "\n",
              "  <div id=\"df-ebf987f1-e5d0-4f72-815a-db54c685a4d2\">\n",
              "    <div class=\"colab-df-container\">\n",
              "      <div>\n",
              "<style scoped>\n",
              "    .dataframe tbody tr th:only-of-type {\n",
              "        vertical-align: middle;\n",
              "    }\n",
              "\n",
              "    .dataframe tbody tr th {\n",
              "        vertical-align: top;\n",
              "    }\n",
              "\n",
              "    .dataframe thead th {\n",
              "        text-align: right;\n",
              "    }\n",
              "</style>\n",
              "<table border=\"1\" class=\"dataframe\">\n",
              "  <thead>\n",
              "    <tr style=\"text-align: right;\">\n",
              "      <th>predict</th>\n",
              "      <th>0</th>\n",
              "      <th>1</th>\n",
              "      <th>2</th>\n",
              "      <th>3</th>\n",
              "      <th>4</th>\n",
              "      <th>5</th>\n",
              "      <th>6</th>\n",
              "      <th>7</th>\n",
              "      <th>8</th>\n",
              "      <th>9</th>\n",
              "      <th>10</th>\n",
              "      <th>11</th>\n",
              "      <th>12</th>\n",
              "      <th>13</th>\n",
              "      <th>14</th>\n",
              "    </tr>\n",
              "    <tr>\n",
              "      <th>label</th>\n",
              "      <th></th>\n",
              "      <th></th>\n",
              "      <th></th>\n",
              "      <th></th>\n",
              "      <th></th>\n",
              "      <th></th>\n",
              "      <th></th>\n",
              "      <th></th>\n",
              "      <th></th>\n",
              "      <th></th>\n",
              "      <th></th>\n",
              "      <th></th>\n",
              "      <th></th>\n",
              "      <th></th>\n",
              "      <th></th>\n",
              "    </tr>\n",
              "  </thead>\n",
              "  <tbody>\n",
              "    <tr>\n",
              "      <th>0</th>\n",
              "      <td>83</td>\n",
              "      <td>2</td>\n",
              "      <td>2</td>\n",
              "      <td>0</td>\n",
              "      <td>1</td>\n",
              "      <td>0</td>\n",
              "      <td>0</td>\n",
              "      <td>3</td>\n",
              "      <td>1</td>\n",
              "      <td>2</td>\n",
              "      <td>1</td>\n",
              "      <td>0</td>\n",
              "      <td>1</td>\n",
              "      <td>0</td>\n",
              "      <td>4</td>\n",
              "    </tr>\n",
              "    <tr>\n",
              "      <th>1</th>\n",
              "      <td>5</td>\n",
              "      <td>66</td>\n",
              "      <td>3</td>\n",
              "      <td>2</td>\n",
              "      <td>2</td>\n",
              "      <td>1</td>\n",
              "      <td>2</td>\n",
              "      <td>1</td>\n",
              "      <td>3</td>\n",
              "      <td>0</td>\n",
              "      <td>3</td>\n",
              "      <td>2</td>\n",
              "      <td>0</td>\n",
              "      <td>2</td>\n",
              "      <td>8</td>\n",
              "    </tr>\n",
              "    <tr>\n",
              "      <th>2</th>\n",
              "      <td>6</td>\n",
              "      <td>3</td>\n",
              "      <td>52</td>\n",
              "      <td>2</td>\n",
              "      <td>1</td>\n",
              "      <td>12</td>\n",
              "      <td>4</td>\n",
              "      <td>0</td>\n",
              "      <td>3</td>\n",
              "      <td>4</td>\n",
              "      <td>4</td>\n",
              "      <td>6</td>\n",
              "      <td>0</td>\n",
              "      <td>1</td>\n",
              "      <td>2</td>\n",
              "    </tr>\n",
              "    <tr>\n",
              "      <th>3</th>\n",
              "      <td>0</td>\n",
              "      <td>0</td>\n",
              "      <td>2</td>\n",
              "      <td>56</td>\n",
              "      <td>18</td>\n",
              "      <td>1</td>\n",
              "      <td>3</td>\n",
              "      <td>6</td>\n",
              "      <td>2</td>\n",
              "      <td>3</td>\n",
              "      <td>1</td>\n",
              "      <td>0</td>\n",
              "      <td>2</td>\n",
              "      <td>2</td>\n",
              "      <td>4</td>\n",
              "    </tr>\n",
              "    <tr>\n",
              "      <th>4</th>\n",
              "      <td>0</td>\n",
              "      <td>0</td>\n",
              "      <td>2</td>\n",
              "      <td>16</td>\n",
              "      <td>61</td>\n",
              "      <td>2</td>\n",
              "      <td>5</td>\n",
              "      <td>7</td>\n",
              "      <td>2</td>\n",
              "      <td>0</td>\n",
              "      <td>0</td>\n",
              "      <td>3</td>\n",
              "      <td>0</td>\n",
              "      <td>0</td>\n",
              "      <td>2</td>\n",
              "    </tr>\n",
              "    <tr>\n",
              "      <th>5</th>\n",
              "      <td>3</td>\n",
              "      <td>4</td>\n",
              "      <td>2</td>\n",
              "      <td>0</td>\n",
              "      <td>4</td>\n",
              "      <td>68</td>\n",
              "      <td>2</td>\n",
              "      <td>2</td>\n",
              "      <td>4</td>\n",
              "      <td>2</td>\n",
              "      <td>2</td>\n",
              "      <td>0</td>\n",
              "      <td>2</td>\n",
              "      <td>3</td>\n",
              "      <td>2</td>\n",
              "    </tr>\n",
              "    <tr>\n",
              "      <th>6</th>\n",
              "      <td>0</td>\n",
              "      <td>1</td>\n",
              "      <td>2</td>\n",
              "      <td>3</td>\n",
              "      <td>6</td>\n",
              "      <td>1</td>\n",
              "      <td>59</td>\n",
              "      <td>4</td>\n",
              "      <td>3</td>\n",
              "      <td>2</td>\n",
              "      <td>0</td>\n",
              "      <td>2</td>\n",
              "      <td>0</td>\n",
              "      <td>4</td>\n",
              "      <td>13</td>\n",
              "    </tr>\n",
              "    <tr>\n",
              "      <th>7</th>\n",
              "      <td>0</td>\n",
              "      <td>1</td>\n",
              "      <td>2</td>\n",
              "      <td>4</td>\n",
              "      <td>4</td>\n",
              "      <td>0</td>\n",
              "      <td>9</td>\n",
              "      <td>62</td>\n",
              "      <td>5</td>\n",
              "      <td>0</td>\n",
              "      <td>0</td>\n",
              "      <td>0</td>\n",
              "      <td>0</td>\n",
              "      <td>0</td>\n",
              "      <td>13</td>\n",
              "    </tr>\n",
              "    <tr>\n",
              "      <th>8</th>\n",
              "      <td>1</td>\n",
              "      <td>2</td>\n",
              "      <td>1</td>\n",
              "      <td>5</td>\n",
              "      <td>2</td>\n",
              "      <td>0</td>\n",
              "      <td>1</td>\n",
              "      <td>2</td>\n",
              "      <td>75</td>\n",
              "      <td>1</td>\n",
              "      <td>0</td>\n",
              "      <td>1</td>\n",
              "      <td>8</td>\n",
              "      <td>0</td>\n",
              "      <td>1</td>\n",
              "    </tr>\n",
              "    <tr>\n",
              "      <th>9</th>\n",
              "      <td>1</td>\n",
              "      <td>0</td>\n",
              "      <td>1</td>\n",
              "      <td>2</td>\n",
              "      <td>1</td>\n",
              "      <td>1</td>\n",
              "      <td>0</td>\n",
              "      <td>4</td>\n",
              "      <td>4</td>\n",
              "      <td>70</td>\n",
              "      <td>1</td>\n",
              "      <td>3</td>\n",
              "      <td>3</td>\n",
              "      <td>4</td>\n",
              "      <td>5</td>\n",
              "    </tr>\n",
              "    <tr>\n",
              "      <th>10</th>\n",
              "      <td>8</td>\n",
              "      <td>7</td>\n",
              "      <td>8</td>\n",
              "      <td>3</td>\n",
              "      <td>5</td>\n",
              "      <td>7</td>\n",
              "      <td>1</td>\n",
              "      <td>11</td>\n",
              "      <td>0</td>\n",
              "      <td>3</td>\n",
              "      <td>42</td>\n",
              "      <td>1</td>\n",
              "      <td>1</td>\n",
              "      <td>1</td>\n",
              "      <td>2</td>\n",
              "    </tr>\n",
              "    <tr>\n",
              "      <th>11</th>\n",
              "      <td>0</td>\n",
              "      <td>2</td>\n",
              "      <td>26</td>\n",
              "      <td>5</td>\n",
              "      <td>9</td>\n",
              "      <td>8</td>\n",
              "      <td>2</td>\n",
              "      <td>4</td>\n",
              "      <td>3</td>\n",
              "      <td>3</td>\n",
              "      <td>1</td>\n",
              "      <td>30</td>\n",
              "      <td>0</td>\n",
              "      <td>1</td>\n",
              "      <td>6</td>\n",
              "    </tr>\n",
              "    <tr>\n",
              "      <th>12</th>\n",
              "      <td>1</td>\n",
              "      <td>1</td>\n",
              "      <td>1</td>\n",
              "      <td>6</td>\n",
              "      <td>1</td>\n",
              "      <td>2</td>\n",
              "      <td>2</td>\n",
              "      <td>0</td>\n",
              "      <td>9</td>\n",
              "      <td>4</td>\n",
              "      <td>0</td>\n",
              "      <td>0</td>\n",
              "      <td>68</td>\n",
              "      <td>4</td>\n",
              "      <td>1</td>\n",
              "    </tr>\n",
              "    <tr>\n",
              "      <th>13</th>\n",
              "      <td>0</td>\n",
              "      <td>1</td>\n",
              "      <td>0</td>\n",
              "      <td>3</td>\n",
              "      <td>5</td>\n",
              "      <td>1</td>\n",
              "      <td>1</td>\n",
              "      <td>0</td>\n",
              "      <td>9</td>\n",
              "      <td>3</td>\n",
              "      <td>3</td>\n",
              "      <td>0</td>\n",
              "      <td>10</td>\n",
              "      <td>63</td>\n",
              "      <td>1</td>\n",
              "    </tr>\n",
              "    <tr>\n",
              "      <th>14</th>\n",
              "      <td>0</td>\n",
              "      <td>5</td>\n",
              "      <td>2</td>\n",
              "      <td>2</td>\n",
              "      <td>4</td>\n",
              "      <td>1</td>\n",
              "      <td>6</td>\n",
              "      <td>8</td>\n",
              "      <td>5</td>\n",
              "      <td>2</td>\n",
              "      <td>2</td>\n",
              "      <td>1</td>\n",
              "      <td>0</td>\n",
              "      <td>2</td>\n",
              "      <td>60</td>\n",
              "    </tr>\n",
              "  </tbody>\n",
              "</table>\n",
              "</div>\n",
              "      <button class=\"colab-df-convert\" onclick=\"convertToInteractive('df-ebf987f1-e5d0-4f72-815a-db54c685a4d2')\"\n",
              "              title=\"Convert this dataframe to an interactive table.\"\n",
              "              style=\"display:none;\">\n",
              "        \n",
              "  <svg xmlns=\"http://www.w3.org/2000/svg\" height=\"24px\"viewBox=\"0 0 24 24\"\n",
              "       width=\"24px\">\n",
              "    <path d=\"M0 0h24v24H0V0z\" fill=\"none\"/>\n",
              "    <path d=\"M18.56 5.44l.94 2.06.94-2.06 2.06-.94-2.06-.94-.94-2.06-.94 2.06-2.06.94zm-11 1L8.5 8.5l.94-2.06 2.06-.94-2.06-.94L8.5 2.5l-.94 2.06-2.06.94zm10 10l.94 2.06.94-2.06 2.06-.94-2.06-.94-.94-2.06-.94 2.06-2.06.94z\"/><path d=\"M17.41 7.96l-1.37-1.37c-.4-.4-.92-.59-1.43-.59-.52 0-1.04.2-1.43.59L10.3 9.45l-7.72 7.72c-.78.78-.78 2.05 0 2.83L4 21.41c.39.39.9.59 1.41.59.51 0 1.02-.2 1.41-.59l7.78-7.78 2.81-2.81c.8-.78.8-2.07 0-2.86zM5.41 20L4 18.59l7.72-7.72 1.47 1.35L5.41 20z\"/>\n",
              "  </svg>\n",
              "      </button>\n",
              "      \n",
              "  <style>\n",
              "    .colab-df-container {\n",
              "      display:flex;\n",
              "      flex-wrap:wrap;\n",
              "      gap: 12px;\n",
              "    }\n",
              "\n",
              "    .colab-df-convert {\n",
              "      background-color: #E8F0FE;\n",
              "      border: none;\n",
              "      border-radius: 50%;\n",
              "      cursor: pointer;\n",
              "      display: none;\n",
              "      fill: #1967D2;\n",
              "      height: 32px;\n",
              "      padding: 0 0 0 0;\n",
              "      width: 32px;\n",
              "    }\n",
              "\n",
              "    .colab-df-convert:hover {\n",
              "      background-color: #E2EBFA;\n",
              "      box-shadow: 0px 1px 2px rgba(60, 64, 67, 0.3), 0px 1px 3px 1px rgba(60, 64, 67, 0.15);\n",
              "      fill: #174EA6;\n",
              "    }\n",
              "\n",
              "    [theme=dark] .colab-df-convert {\n",
              "      background-color: #3B4455;\n",
              "      fill: #D2E3FC;\n",
              "    }\n",
              "\n",
              "    [theme=dark] .colab-df-convert:hover {\n",
              "      background-color: #434B5C;\n",
              "      box-shadow: 0px 1px 3px 1px rgba(0, 0, 0, 0.15);\n",
              "      filter: drop-shadow(0px 1px 2px rgba(0, 0, 0, 0.3));\n",
              "      fill: #FFFFFF;\n",
              "    }\n",
              "  </style>\n",
              "\n",
              "      <script>\n",
              "        const buttonEl =\n",
              "          document.querySelector('#df-ebf987f1-e5d0-4f72-815a-db54c685a4d2 button.colab-df-convert');\n",
              "        buttonEl.style.display =\n",
              "          google.colab.kernel.accessAllowed ? 'block' : 'none';\n",
              "\n",
              "        async function convertToInteractive(key) {\n",
              "          const element = document.querySelector('#df-ebf987f1-e5d0-4f72-815a-db54c685a4d2');\n",
              "          const dataTable =\n",
              "            await google.colab.kernel.invokeFunction('convertToInteractive',\n",
              "                                                     [key], {});\n",
              "          if (!dataTable) return;\n",
              "\n",
              "          const docLinkHtml = 'Like what you see? Visit the ' +\n",
              "            '<a target=\"_blank\" href=https://colab.research.google.com/notebooks/data_table.ipynb>data table notebook</a>'\n",
              "            + ' to learn more about interactive tables.';\n",
              "          element.innerHTML = '';\n",
              "          dataTable['output_type'] = 'display_data';\n",
              "          await google.colab.output.renderOutput(dataTable, element);\n",
              "          const docLink = document.createElement('div');\n",
              "          docLink.innerHTML = docLinkHtml;\n",
              "          element.appendChild(docLink);\n",
              "        }\n",
              "      </script>\n",
              "    </div>\n",
              "  </div>\n",
              "  "
            ]
          },
          "metadata": {},
          "execution_count": 255
        }
      ]
    },
    {
      "cell_type": "markdown",
      "source": [
        "匯入pandas模組\n",
        "\n",
        "reshape(-1)轉換1維陣列\n",
        "\n",
        "測試資料的預測結果\n",
        "\n",
        "設定行的名稱label\n",
        "\n",
        "設定列的名稱是predict"
      ],
      "metadata": {
        "id": "kQZdeca-m9Ns"
      }
    },
    {
      "cell_type": "code",
      "execution_count": 233,
      "metadata": {
        "id": "mNYccE8kVbET",
        "colab": {
          "base_uri": "https://localhost:8080/"
        },
        "outputId": "406ed267-7644-4276-c8d7-0fb3d6f78b74"
      },
      "outputs": [
        {
          "output_type": "stream",
          "name": "stdout",
          "text": [
            "{0: 'apple', 1: 'aquarium_fish', 2: 'baby', 3: 'bear', 4: 'beaver', 5: 'bed', 6: 'bee', 7: 'beetle', 8: 'bicycle', 9: 'bottle', 10: 'bowl', 11: 'boy', 12: 'bridge', 13: 'bus', 14: 'butterfly'}\n"
          ]
        }
      ],
      "source": [
        "print(label_dict)"
      ]
    },
    {
      "cell_type": "markdown",
      "metadata": {
        "id": "xgPEYeP6ncct"
      },
      "source": [
        "# Save model to Google Drive"
      ]
    },
    {
      "cell_type": "code",
      "source": [
        "from google.colab import drive\n",
        "drive.mount('/content/drive')"
      ],
      "metadata": {
        "colab": {
          "base_uri": "https://localhost:8080/"
        },
        "id": "5zDh3X6jJO3S",
        "outputId": "53661dc9-f683-44a2-c34f-445e495478f2"
      },
      "execution_count": 257,
      "outputs": [
        {
          "output_type": "stream",
          "name": "stdout",
          "text": [
            "Mounted at /content/drive\n"
          ]
        }
      ]
    },
    {
      "cell_type": "markdown",
      "metadata": {
        "id": "XzrMssWNVbEU"
      },
      "source": [
        "# Save model to JSON"
      ]
    },
    {
      "cell_type": "code",
      "source": [
        "import os\n",
        "try:\n",
        "  os.makedirs('/content/Save/')\n",
        "except:\n",
        "  print(\"File existed\")"
      ],
      "metadata": {
        "id": "GoajPEEz46ed"
      },
      "execution_count": 259,
      "outputs": []
    },
    {
      "cell_type": "code",
      "execution_count": 260,
      "metadata": {
        "id": "AvoekqDXVbEU"
      },
      "outputs": [],
      "source": [
        "model_json = model.to_json()\n",
        "with open(\"/content/Save/cifarCnnModelnew.json\", \"w\") as json_file:\n",
        "    json_file.write(model_json)"
      ]
    },
    {
      "cell_type": "markdown",
      "metadata": {
        "id": "kTqXuqg_VbEU"
      },
      "source": [
        "# Save Weight to h5 "
      ]
    },
    {
      "cell_type": "code",
      "execution_count": 261,
      "metadata": {
        "id": "lMjKTwBWVbEU",
        "colab": {
          "base_uri": "https://localhost:8080/"
        },
        "outputId": "852525d8-dee4-46b6-e68c-6c2f38df5df0"
      },
      "outputs": [
        {
          "output_type": "stream",
          "name": "stdout",
          "text": [
            "Saved model to disk\n"
          ]
        }
      ],
      "source": [
        "model.save_weights(\"/content/Save/cifarCnnModelnew.h5\")\n",
        "print(\"Saved model to disk\")"
      ]
    }
  ],
  "metadata": {
    "anaconda-cloud": {},
    "kernelspec": {
      "display_name": "Python 3",
      "language": "python",
      "name": "python3"
    },
    "language_info": {
      "codemirror_mode": {
        "name": "ipython",
        "version": 3
      },
      "file_extension": ".py",
      "mimetype": "text/x-python",
      "name": "python",
      "nbconvert_exporter": "python",
      "pygments_lexer": "ipython3",
      "version": "3.5.5"
    },
    "colab": {
      "provenance": []
    },
    "accelerator": "GPU"
  },
  "nbformat": 4,
  "nbformat_minor": 0
}