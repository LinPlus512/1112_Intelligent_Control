{
  "cells": [
    {
      "cell_type": "markdown",
      "metadata": {
        "id": "KWzoawynocGS"
      },
      "source": [
        "## import package"
      ]
    },
    {
      "cell_type": "code",
      "execution_count": 2,
      "metadata": {
        "id": "Qt84ev2_ocGX"
      },
      "outputs": [],
      "source": [
        "# ! pip install scikit-learn"
      ]
    },
    {
      "cell_type": "code",
      "execution_count": 3,
      "metadata": {
        "id": "wwhuVNaQocGY"
      },
      "outputs": [],
      "source": [
        "import torch\n",
        "import torch.nn as nn\n",
        "import torch.optim as optim\n",
        "from torch.utils.data import DataLoader, TensorDataset\n",
        "\n",
        "import pandas as pd\n",
        "import numpy as np\n",
        "from sklearn.model_selection import train_test_split"
      ]
    },
    {
      "cell_type": "code",
      "execution_count": 4,
      "metadata": {
        "colab": {
          "base_uri": "https://localhost:8080/"
        },
        "id": "ka1A8AAPocGZ",
        "outputId": "a2f65f88-e6cd-41e3-b271-989f53523ec5"
      },
      "outputs": [
        {
          "data": {
            "text/plain": [
              "<torch._C.Generator at 0x12817b3b0>"
            ]
          },
          "execution_count": 4,
          "metadata": {},
          "output_type": "execute_result"
        }
      ],
      "source": [
        "torch.manual_seed(42)"
      ]
    },
    {
      "cell_type": "markdown",
      "metadata": {
        "id": "vBR2E2XpocGa"
      },
      "source": [
        "## Datasets"
      ]
    },
    {
      "cell_type": "code",
      "execution_count": 169,
      "metadata": {
        "colab": {
          "base_uri": "https://localhost:8080/"
        },
        "id": "oz9r-CEkocGa",
        "outputId": "35981c10-db8b-4ff3-899d-64d955e7b3ca"
      },
      "outputs": [
        {
          "name": "stdout",
          "output_type": "stream",
          "text": [
            "mps\n"
          ]
        }
      ],
      "source": [
        "# Check that MPS is available\n",
        "if not torch.backends.mps.is_available():\n",
        "    if not torch.backends.mps.is_built():\n",
        "        print(\"MPS not available because the current PyTorch install was not \"\n",
        "              \"built with MPS enabled.\")\n",
        "    else:\n",
        "        print(\"MPS not available because the current MacOS version is not 12.3+ \"\n",
        "              \"and/or you do not have an MPS-enabled device on this machine.\")\n",
        "else:\n",
        "    device = torch.device(\"mps\")\n",
        "    print(device)\n",
        "\n",
        "if not torch.cuda.is_available():\n",
        "    None\n",
        "else:\n",
        "    device = torch.device(\"cuda\")\n",
        "    print(device)\n"
      ]
    },
    {
      "cell_type": "code",
      "execution_count": 170,
      "metadata": {
        "colab": {
          "base_uri": "https://localhost:8080/"
        },
        "id": "Zxw0NzR-ocGb",
        "outputId": "c55a6dd3-a013-49ea-ddfc-40a7e4674790"
      },
      "outputs": [
        {
          "name": "stdout",
          "output_type": "stream",
          "text": [
            "data numbers: 4801366\n",
            "data sets: 3754\n",
            "Input shape: (3754, 1279)\n",
            "Output shape: (3754, 1279)\n"
          ]
        }
      ],
      "source": [
        "# read the CSV file\n",
        "data = pd.read_csv('ann_datasets.csv')\n",
        "print(f\"data numbers: {len(data)}\")\n",
        "print(f\"data sets: {int(len(data)/1279)}\")\n",
        "\n",
        "\n",
        "# deal the input\n",
        "input_features = 'sbi'\n",
        "output_feature = 'sbi_30min'\n",
        "num_stations = 1279 # station numbers\n",
        "group_size = num_stations  # each input element size\n",
        "\n",
        "num_groups = len(data) // group_size  # set numbers\n",
        "input_data = np.zeros((num_groups, group_size))\n",
        "\n",
        "for i in range(num_groups):\n",
        "    start_idx = i * group_size\n",
        "    end_idx = start_idx + group_size\n",
        "    group_data = data.iloc[start_idx:end_idx]\n",
        "\n",
        "    for j, row in group_data.iterrows():\n",
        "        station_index = j % group_size\n",
        "        input_data[i, station_index] = row[input_features]\n",
        "\n",
        "# deal the output\n",
        "output_data = np.zeros((num_groups, group_size))\n",
        "\n",
        "for i in range(num_groups):\n",
        "    start_idx = i * group_size\n",
        "    end_idx = start_idx + group_size\n",
        "    group_data = data.iloc[start_idx:end_idx]\n",
        "\n",
        "    for j, row in group_data.iterrows():\n",
        "        station_index = j % group_size\n",
        "        output_data[i, station_index] = row[output_feature]\n",
        "\n",
        "# check the dimension\n",
        "print('Input shape:', input_data.shape)  # (set, element size)\n",
        "print('Output shape:', output_data.shape)  # (set, element size)"
      ]
    },
    {
      "cell_type": "code",
      "execution_count": 171,
      "metadata": {
        "colab": {
          "base_uri": "https://localhost:8080/"
        },
        "id": "sLVRGgnMocGc",
        "outputId": "84507dac-99c9-403e-a33f-1ef2e1c87f24"
      },
      "outputs": [
        {
          "name": "stdout",
          "output_type": "stream",
          "text": [
            "Training input shape: (3003, 1279)\n",
            "Validation input shape: (751, 1279)\n",
            "Training output shape: (3003, 1279)\n",
            "Validation output shape: (751, 1279)\n"
          ]
        }
      ],
      "source": [
        "# split the datasets to the training and validation.\n",
        "train_input, val_input, train_output, val_output = train_test_split(input_data, output_data, test_size=0.2, random_state=42)\n",
        "\n",
        "print('Training input shape:', train_input.shape)\n",
        "print('Validation input shape:', val_input.shape)\n",
        "print('Training output shape:', train_output.shape)\n",
        "print('Validation output shape:', val_output.shape)"
      ]
    },
    {
      "cell_type": "markdown",
      "metadata": {
        "id": "KfTseNQqocGd"
      },
      "source": [
        "## Model"
      ]
    },
    {
      "cell_type": "code",
      "execution_count": 191,
      "metadata": {
        "id": "PVkovH6p6rA6"
      },
      "outputs": [],
      "source": [
        "class MyModel(nn.Module):\n",
        "    def __init__(self, model_idx, input_dim, output_dim):\n",
        "        super(MyModel, self).__init__()\n",
        "        \n",
        "        self.models = {\n",
        "            1: nn.Sequential(\n",
        "                nn.Linear(input_dim, output_dim)\n",
        "            ),\n",
        "            2: nn.Sequential(\n",
        "                nn.Linear(input_dim, 512),\n",
        "                nn.ReLU(),\n",
        "                nn.Dropout(0.5),\n",
        "                nn.Linear(512, 512),\n",
        "                nn.ReLU(),\n",
        "                nn.Dropout(0.2),\n",
        "                nn.Linear(512, output_dim)\n",
        "            ),\n",
        "            3: nn.Sequential(\n",
        "                nn.Linear(input_dim, 512),\n",
        "                nn.LeakyReLU(),\n",
        "                nn.Linear(512, 512),\n",
        "                nn.LeakyReLU(),\n",
        "                nn.Linear(512, output_dim)\n",
        "            ),\n",
        "            4: nn.Sequential(\n",
        "                nn.Linear(input_dim, 512),\n",
        "                nn.LeakyReLU(),\n",
        "                nn.Linear(512, 256),\n",
        "                nn.LeakyReLU(),\n",
        "                nn.Linear(256, 128),\n",
        "                nn.LeakyReLU(),\n",
        "                nn.Linear(128, 64),\n",
        "                nn.LeakyReLU(),\n",
        "                nn.Linear(64, output_dim)\n",
        "            )\n",
        "        }\n",
        "        \n",
        "        self.model_idx = model_idx\n",
        "        self.model = self.models[model_idx]\n",
        "\n",
        "    def forward(self, x):\n",
        "        out = self.model(x)\n",
        "        return out"
      ]
    },
    {
      "cell_type": "markdown",
      "metadata": {
        "id": "jdKi6a0g6uBU"
      },
      "source": [
        "## hyperparameters"
      ]
    },
    {
      "cell_type": "code",
      "execution_count": 372,
      "metadata": {
        "id": "M4_BIMtC6tzV"
      },
      "outputs": [],
      "source": [
        "# define the hyperparameters\n",
        "model_idx = 4\n",
        "input_dim = train_input.shape[1]  # 1279\n",
        "output_dim = train_output.shape[1]  # 1279\n",
        "num_epochs = 200\n",
        "learning_rate = 0.001\n",
        "save_model_or_not = 0"
      ]
    },
    {
      "cell_type": "markdown",
      "metadata": {
        "id": "IBv1-_fL6z5K"
      },
      "source": [
        "## loss function and optimizer"
      ]
    },
    {
      "cell_type": "code",
      "execution_count": 373,
      "metadata": {
        "id": "0uMlkt626462"
      },
      "outputs": [],
      "source": [
        "# push model to GPU\n",
        "model = MyModel(model_idx, input_dim, output_dim).to(device)\n",
        "\n",
        "# define the loss function and optimizer\n",
        "criterion = nn.CrossEntropyLoss()\n",
        "optimizer = optim.AdamW(model.parameters(), lr=learning_rate)\n",
        "# scheduler = optim.lr_scheduler.StepLR(optimizer, step_size=5, gamma=0.1)"
      ]
    },
    {
      "cell_type": "code",
      "execution_count": 374,
      "metadata": {},
      "outputs": [
        {
          "data": {
            "text/plain": [
              "MyModel(\n",
              "  (model): Sequential(\n",
              "    (0): Linear(in_features=1279, out_features=512, bias=True)\n",
              "    (1): LeakyReLU(negative_slope=0.01)\n",
              "    (2): Linear(in_features=512, out_features=256, bias=True)\n",
              "    (3): LeakyReLU(negative_slope=0.01)\n",
              "    (4): Linear(in_features=256, out_features=128, bias=True)\n",
              "    (5): LeakyReLU(negative_slope=0.01)\n",
              "    (6): Linear(in_features=128, out_features=64, bias=True)\n",
              "    (7): LeakyReLU(negative_slope=0.01)\n",
              "    (8): Linear(in_features=64, out_features=1279, bias=True)\n",
              "  )\n",
              ")"
            ]
          },
          "execution_count": 374,
          "metadata": {},
          "output_type": "execute_result"
        }
      ],
      "source": [
        "model"
      ]
    },
    {
      "cell_type": "code",
      "execution_count": 375,
      "metadata": {
        "id": "5pIQHeLe2ycN"
      },
      "outputs": [],
      "source": [
        "# convert the training data to tensor(vector)\n",
        "train_input_tensor = torch.Tensor(train_input).to(device)\n",
        "train_output_tensor = torch.Tensor(train_output).to(device)\n",
        "\n",
        "# convert the validatioin data to tensor(vector)\n",
        "val_input_tensor = torch.Tensor(val_input).to(device)\n",
        "val_output_tensor = torch.Tensor(val_output).to(device)"
      ]
    },
    {
      "cell_type": "markdown",
      "metadata": {
        "id": "yvBs6g917Fn4"
      },
      "source": [
        "## Training"
      ]
    },
    {
      "cell_type": "code",
      "execution_count": 376,
      "metadata": {
        "colab": {
          "base_uri": "https://localhost:8080/"
        },
        "id": "tAUkx62m2zM5",
        "outputId": "9e3e5a6a-805b-468e-b0f7-26ccfe3c57d9"
      },
      "outputs": [
        {
          "name": "stdout",
          "output_type": "stream",
          "text": [
            "Epoch 1/200, Train Loss: 58947.37109375, Val Loss: 58955.359375\n",
            "Epoch 2/200, Train Loss: 58935.765625, Val Loss: 58869.96875\n",
            "Epoch 3/200, Train Loss: 58848.80078125, Val Loss: 58839.84375\n",
            "Epoch 4/200, Train Loss: 58818.34765625, Val Loss: 58793.2578125\n",
            "Epoch 5/200, Train Loss: 58771.80859375, Val Loss: 58757.58984375\n",
            "Epoch 6/200, Train Loss: 58734.9609375, Val Loss: 58720.26953125\n",
            "Epoch 7/200, Train Loss: 58696.28515625, Val Loss: 58672.9921875\n",
            "Epoch 8/200, Train Loss: 58648.64453125, Val Loss: 58620.9765625\n",
            "Epoch 9/200, Train Loss: 58595.09765625, Val Loss: 58567.09765625\n",
            "Epoch 10/200, Train Loss: 58540.65234375, Val Loss: 58506.89453125\n",
            "Epoch 11/200, Train Loss: 58480.45703125, Val Loss: 58440.59375\n",
            "Epoch 12/200, Train Loss: 58413.32421875, Val Loss: 58376.7578125\n",
            "Epoch 13/200, Train Loss: 58347.9921875, Val Loss: 58301.1796875\n",
            "Epoch 14/200, Train Loss: 58271.4921875, Val Loss: 58226.12109375\n",
            "Epoch 15/200, Train Loss: 58195.2421875, Val Loss: 58145.765625\n",
            "Epoch 16/200, Train Loss: 58113.37109375, Val Loss: 58064.2578125\n",
            "Epoch 17/200, Train Loss: 58030.1875, Val Loss: 57979.0078125\n",
            "Epoch 18/200, Train Loss: 57943.41015625, Val Loss: 57895.0\n",
            "Epoch 19/200, Train Loss: 57857.58984375, Val Loss: 57810.3984375\n",
            "Epoch 20/200, Train Loss: 57771.32421875, Val Loss: 57725.7109375\n",
            "Epoch 21/200, Train Loss: 57685.34765625, Val Loss: 57640.20703125\n",
            "Epoch 22/200, Train Loss: 57598.33203125, Val Loss: 57557.72265625\n",
            "Epoch 23/200, Train Loss: 57514.359375, Val Loss: 57478.3203125\n",
            "Epoch 24/200, Train Loss: 57433.2890625, Val Loss: 57401.38671875\n",
            "Epoch 25/200, Train Loss: 57355.0, Val Loss: 57328.65625\n",
            "Epoch 26/200, Train Loss: 57280.828125, Val Loss: 57258.49609375\n",
            "Epoch 27/200, Train Loss: 57209.2890625, Val Loss: 57194.58203125\n",
            "Epoch 28/200, Train Loss: 57143.5390625, Val Loss: 57132.72265625\n",
            "Epoch 29/200, Train Loss: 57081.23828125, Val Loss: 57073.3671875\n",
            "Epoch 30/200, Train Loss: 57020.05078125, Val Loss: 57017.47265625\n",
            "Epoch 31/200, Train Loss: 56963.13671875, Val Loss: 56967.30859375\n",
            "Epoch 32/200, Train Loss: 56912.05078125, Val Loss: 56922.79296875\n",
            "Epoch 33/200, Train Loss: 56866.125, Val Loss: 56880.43359375\n",
            "Epoch 34/200, Train Loss: 56823.12109375, Val Loss: 56844.57421875\n",
            "Epoch 35/200, Train Loss: 56786.234375, Val Loss: 56814.03125\n",
            "Epoch 36/200, Train Loss: 56754.5859375, Val Loss: 56785.97265625\n",
            "Epoch 37/200, Train Loss: 56726.0703125, Val Loss: 56755.21875\n",
            "Epoch 38/200, Train Loss: 56694.59375, Val Loss: 56725.70703125\n",
            "Epoch 39/200, Train Loss: 56664.2578125, Val Loss: 56699.5234375\n",
            "Epoch 40/200, Train Loss: 56637.71875, Val Loss: 56676.82421875\n",
            "Epoch 41/200, Train Loss: 56614.41796875, Val Loss: 56658.3828125\n",
            "Epoch 42/200, Train Loss: 56595.42578125, Val Loss: 56640.109375\n",
            "Epoch 43/200, Train Loss: 56576.77734375, Val Loss: 56619.40625\n",
            "Epoch 44/200, Train Loss: 56555.86328125, Val Loss: 56603.6015625\n",
            "Epoch 45/200, Train Loss: 56539.7421875, Val Loss: 56589.0078125\n",
            "Epoch 46/200, Train Loss: 56524.80078125, Val Loss: 56575.36328125\n",
            "Epoch 47/200, Train Loss: 56510.84375, Val Loss: 56562.7890625\n",
            "Epoch 48/200, Train Loss: 56498.171875, Val Loss: 56550.0625\n",
            "Epoch 49/200, Train Loss: 56485.46484375, Val Loss: 56537.6640625\n",
            "Epoch 50/200, Train Loss: 56472.90234375, Val Loss: 56526.92578125\n",
            "Epoch 51/200, Train Loss: 56462.1875, Val Loss: 56515.5390625\n",
            "Epoch 52/200, Train Loss: 56450.50390625, Val Loss: 56503.86328125\n",
            "Epoch 53/200, Train Loss: 56438.79296875, Val Loss: 56493.82421875\n",
            "Epoch 54/200, Train Loss: 56428.6640625, Val Loss: 56483.7109375\n",
            "Epoch 55/200, Train Loss: 56418.30859375, Val Loss: 56472.8125\n",
            "Epoch 56/200, Train Loss: 56407.296875, Val Loss: 56462.03125\n",
            "Epoch 57/200, Train Loss: 56396.46484375, Val Loss: 56452.40625\n",
            "Epoch 58/200, Train Loss: 56386.7578125, Val Loss: 56443.3671875\n",
            "Epoch 59/200, Train Loss: 56377.5546875, Val Loss: 56436.84765625\n",
            "Epoch 60/200, Train Loss: 56370.94921875, Val Loss: 56443.21875\n",
            "Epoch 61/200, Train Loss: 56376.83203125, Val Loss: 56469.59375\n",
            "Epoch 62/200, Train Loss: 56403.34375, Val Loss: 56452.24609375\n",
            "Epoch 63/200, Train Loss: 56385.3984375, Val Loss: 56393.29296875\n",
            "Epoch 64/200, Train Loss: 56327.2421875, Val Loss: 56416.4921875\n",
            "Epoch 65/200, Train Loss: 56350.44921875, Val Loss: 56380.8125\n",
            "Epoch 66/200, Train Loss: 56314.47265625, Val Loss: 56377.609375\n",
            "Epoch 67/200, Train Loss: 56311.19140625, Val Loss: 56363.38671875\n",
            "Epoch 68/200, Train Loss: 56297.13671875, Val Loss: 56347.52734375\n",
            "Epoch 69/200, Train Loss: 56281.26953125, Val Loss: 56342.70703125\n",
            "Epoch 70/200, Train Loss: 56275.9921875, Val Loss: 56323.16796875\n",
            "Epoch 71/200, Train Loss: 56256.84375, Val Loss: 56317.6015625\n",
            "Epoch 72/200, Train Loss: 56251.3359375, Val Loss: 56298.984375\n",
            "Epoch 73/200, Train Loss: 56233.03515625, Val Loss: 56293.25\n",
            "Epoch 74/200, Train Loss: 56226.84765625, Val Loss: 56276.33203125\n",
            "Epoch 75/200, Train Loss: 56210.40625, Val Loss: 56267.88671875\n",
            "Epoch 76/200, Train Loss: 56202.32421875, Val Loss: 56252.44921875\n",
            "Epoch 77/200, Train Loss: 56186.87890625, Val Loss: 56243.87109375\n",
            "Epoch 78/200, Train Loss: 56178.03515625, Val Loss: 56228.9296875\n",
            "Epoch 79/200, Train Loss: 56163.33984375, Val Loss: 56219.5390625\n",
            "Epoch 80/200, Train Loss: 56154.1640625, Val Loss: 56204.6953125\n",
            "Epoch 81/200, Train Loss: 56139.3515625, Val Loss: 56195.76171875\n",
            "Epoch 82/200, Train Loss: 56130.3359375, Val Loss: 56180.56640625\n",
            "Epoch 83/200, Train Loss: 56115.50390625, Val Loss: 56171.6015625\n",
            "Epoch 84/200, Train Loss: 56106.8046875, Val Loss: 56156.171875\n",
            "Epoch 85/200, Train Loss: 56091.3984375, Val Loss: 56147.73046875\n",
            "Epoch 86/200, Train Loss: 56082.9375, Val Loss: 56132.73828125\n",
            "Epoch 87/200, Train Loss: 56068.1640625, Val Loss: 56123.29296875\n",
            "Epoch 88/200, Train Loss: 56058.98046875, Val Loss: 56109.64453125\n",
            "Epoch 89/200, Train Loss: 56045.2578125, Val Loss: 56099.0234375\n",
            "Epoch 90/200, Train Loss: 56034.81640625, Val Loss: 56086.92578125\n",
            "Epoch 91/200, Train Loss: 56023.02734375, Val Loss: 56075.05078125\n",
            "Epoch 92/200, Train Loss: 56011.42578125, Val Loss: 56064.78125\n",
            "Epoch 93/200, Train Loss: 56001.171875, Val Loss: 56052.60546875\n",
            "Epoch 94/200, Train Loss: 55989.32421875, Val Loss: 56043.73046875\n",
            "Epoch 95/200, Train Loss: 55980.58984375, Val Loss: 56036.23046875\n",
            "Epoch 96/200, Train Loss: 55973.2890625, Val Loss: 56035.39453125\n",
            "Epoch 97/200, Train Loss: 55972.1328125, Val Loss: 56035.0390625\n",
            "Epoch 98/200, Train Loss: 55972.78125, Val Loss: 56010.6015625\n",
            "Epoch 99/200, Train Loss: 55948.1875, Val Loss: 55993.06640625\n",
            "Epoch 100/200, Train Loss: 55930.67578125, Val Loss: 55995.69921875\n",
            "Epoch 101/200, Train Loss: 55933.828125, Val Loss: 55978.21875\n",
            "Epoch 102/200, Train Loss: 55916.38671875, Val Loss: 55959.234375\n",
            "Epoch 103/200, Train Loss: 55897.6640625, Val Loss: 55959.01171875\n",
            "Epoch 104/200, Train Loss: 55897.5625, Val Loss: 55945.73828125\n",
            "Epoch 105/200, Train Loss: 55884.375, Val Loss: 55931.67578125\n",
            "Epoch 106/200, Train Loss: 55870.8203125, Val Loss: 55927.54296875\n",
            "Epoch 107/200, Train Loss: 55866.73828125, Val Loss: 55913.97265625\n",
            "Epoch 108/200, Train Loss: 55853.13671875, Val Loss: 55905.015625\n",
            "Epoch 109/200, Train Loss: 55844.67578125, Val Loss: 55899.04296875\n",
            "Epoch 110/200, Train Loss: 55838.91796875, Val Loss: 55886.95703125\n",
            "Epoch 111/200, Train Loss: 55826.671875, Val Loss: 55879.41015625\n",
            "Epoch 112/200, Train Loss: 55819.31640625, Val Loss: 55871.875\n",
            "Epoch 113/200, Train Loss: 55812.28515625, Val Loss: 55861.8984375\n",
            "Epoch 114/200, Train Loss: 55802.18359375, Val Loss: 55854.72265625\n",
            "Epoch 115/200, Train Loss: 55795.15234375, Val Loss: 55847.8203125\n",
            "Epoch 116/200, Train Loss: 55788.76953125, Val Loss: 55837.80859375\n",
            "Epoch 117/200, Train Loss: 55778.625, Val Loss: 55830.81640625\n",
            "Epoch 118/200, Train Loss: 55771.76171875, Val Loss: 55824.3125\n",
            "Epoch 119/200, Train Loss: 55765.7109375, Val Loss: 55815.15234375\n",
            "Epoch 120/200, Train Loss: 55756.51953125, Val Loss: 55808.46484375\n",
            "Epoch 121/200, Train Loss: 55749.86328125, Val Loss: 55802.21875\n",
            "Epoch 122/200, Train Loss: 55744.06640625, Val Loss: 55794.3046875\n",
            "Epoch 123/200, Train Loss: 55736.12890625, Val Loss: 55787.609375\n",
            "Epoch 124/200, Train Loss: 55729.640625, Val Loss: 55781.89453125\n",
            "Epoch 125/200, Train Loss: 55724.18359375, Val Loss: 55777.72265625\n",
            "Epoch 126/200, Train Loss: 55720.1640625, Val Loss: 55778.05859375\n",
            "Epoch 127/200, Train Loss: 55720.68359375, Val Loss: 55783.26953125\n",
            "Epoch 128/200, Train Loss: 55726.40625, Val Loss: 55786.3515625\n",
            "Epoch 129/200, Train Loss: 55729.3203125, Val Loss: 55770.3984375\n",
            "Epoch 130/200, Train Loss: 55713.58984375, Val Loss: 55744.83203125\n",
            "Epoch 131/200, Train Loss: 55688.08984375, Val Loss: 55753.3828125\n",
            "Epoch 132/200, Train Loss: 55696.78125, Val Loss: 55748.83203125\n",
            "Epoch 133/200, Train Loss: 55692.28515625, Val Loss: 55727.8515625\n",
            "Epoch 134/200, Train Loss: 55671.46875, Val Loss: 55735.875\n",
            "Epoch 135/200, Train Loss: 55679.59765625, Val Loss: 55722.01171875\n",
            "Epoch 136/200, Train Loss: 55665.80859375, Val Loss: 55716.15234375\n",
            "Epoch 137/200, Train Loss: 55660.1953125, Val Loss: 55714.61328125\n",
            "Epoch 138/200, Train Loss: 55658.51953125, Val Loss: 55701.6875\n",
            "Epoch 139/200, Train Loss: 55645.57421875, Val Loss: 55703.203125\n",
            "Epoch 140/200, Train Loss: 55647.5546875, Val Loss: 55691.90234375\n",
            "Epoch 141/200, Train Loss: 55635.953125, Val Loss: 55691.40625\n",
            "Epoch 142/200, Train Loss: 55635.66015625, Val Loss: 55683.1015625\n",
            "Epoch 143/200, Train Loss: 55627.48046875, Val Loss: 55679.48046875\n",
            "Epoch 144/200, Train Loss: 55623.97265625, Val Loss: 55674.2890625\n",
            "Epoch 145/200, Train Loss: 55618.71875, Val Loss: 55668.4375\n",
            "Epoch 146/200, Train Loss: 55612.91796875, Val Loss: 55665.8125\n",
            "Epoch 147/200, Train Loss: 55610.47265625, Val Loss: 55658.21875\n",
            "Epoch 148/200, Train Loss: 55602.90625, Val Loss: 55656.8125\n",
            "Epoch 149/200, Train Loss: 55601.54296875, Val Loss: 55649.70703125\n",
            "Epoch 150/200, Train Loss: 55594.39453125, Val Loss: 55647.05078125\n",
            "Epoch 151/200, Train Loss: 55591.8984375, Val Loss: 55641.6328125\n",
            "Epoch 152/200, Train Loss: 55586.5078125, Val Loss: 55637.46875\n",
            "Epoch 153/200, Train Loss: 55582.32421875, Val Loss: 55633.9609375\n",
            "Epoch 154/200, Train Loss: 55578.953125, Val Loss: 55628.7109375\n",
            "Epoch 155/200, Train Loss: 55573.73046875, Val Loss: 55625.94140625\n",
            "Epoch 156/200, Train Loss: 55570.98828125, Val Loss: 55620.81640625\n",
            "Epoch 157/200, Train Loss: 55565.88671875, Val Loss: 55617.578125\n",
            "Epoch 158/200, Train Loss: 55562.71875, Val Loss: 55613.46875\n",
            "Epoch 159/200, Train Loss: 55558.6640625, Val Loss: 55609.38671875\n",
            "Epoch 160/200, Train Loss: 55554.5703125, Val Loss: 55606.3359375\n",
            "Epoch 161/200, Train Loss: 55551.60546875, Val Loss: 55601.84375\n",
            "Epoch 162/200, Train Loss: 55547.1796875, Val Loss: 55598.72265625\n",
            "Epoch 163/200, Train Loss: 55544.02734375, Val Loss: 55595.2578125\n",
            "Epoch 164/200, Train Loss: 55540.58984375, Val Loss: 55591.1875\n",
            "Epoch 165/200, Train Loss: 55536.55078125, Val Loss: 55588.26953125\n",
            "Epoch 166/200, Train Loss: 55533.6484375, Val Loss: 55584.765625\n",
            "Epoch 167/200, Train Loss: 55530.1328125, Val Loss: 55581.23828125\n",
            "Epoch 168/200, Train Loss: 55526.640625, Val Loss: 55578.28125\n",
            "Epoch 169/200, Train Loss: 55523.765625, Val Loss: 55575.203125\n",
            "Epoch 170/200, Train Loss: 55520.58984375, Val Loss: 55572.45703125\n",
            "Epoch 171/200, Train Loss: 55517.95703125, Val Loss: 55571.8359375\n",
            "Epoch 172/200, Train Loss: 55517.2734375, Val Loss: 55573.6796875\n",
            "Epoch 173/200, Train Loss: 55519.12890625, Val Loss: 55583.33203125\n",
            "Epoch 174/200, Train Loss: 55528.484375, Val Loss: 55583.24609375\n",
            "Epoch 175/200, Train Loss: 55528.390625, Val Loss: 55569.609375\n",
            "Epoch 176/200, Train Loss: 55515.2734375, Val Loss: 55558.13671875\n",
            "Epoch 177/200, Train Loss: 55503.4921875, Val Loss: 55562.17578125\n",
            "Epoch 178/200, Train Loss: 55507.8515625, Val Loss: 55559.27734375\n",
            "Epoch 179/200, Train Loss: 55504.703125, Val Loss: 55548.56640625\n",
            "Epoch 180/200, Train Loss: 55494.09375, Val Loss: 55550.91015625\n",
            "Epoch 181/200, Train Loss: 55496.7421875, Val Loss: 55548.109375\n",
            "Epoch 182/200, Train Loss: 55493.625, Val Loss: 55539.390625\n",
            "Epoch 183/200, Train Loss: 55485.0625, Val Loss: 55542.21484375\n",
            "Epoch 184/200, Train Loss: 55487.9921875, Val Loss: 55537.53515625\n",
            "Epoch 185/200, Train Loss: 55482.96875, Val Loss: 55531.578125\n",
            "Epoch 186/200, Train Loss: 55477.21484375, Val Loss: 55533.1796875\n",
            "Epoch 187/200, Train Loss: 55478.8671875, Val Loss: 55528.1796875\n",
            "Epoch 188/200, Train Loss: 55473.703125, Val Loss: 55524.2734375\n",
            "Epoch 189/200, Train Loss: 55469.90234375, Val Loss: 55523.81640625\n",
            "Epoch 190/200, Train Loss: 55469.546875, Val Loss: 55519.23046875\n",
            "Epoch 191/200, Train Loss: 55464.828125, Val Loss: 55517.51953125\n",
            "Epoch 192/200, Train Loss: 55463.078125, Val Loss: 55515.51953125\n",
            "Epoch 193/200, Train Loss: 55461.19140625, Val Loss: 55511.375\n",
            "Epoch 194/200, Train Loss: 55456.92578125, Val Loss: 55509.84375\n",
            "Epoch 195/200, Train Loss: 55455.390625, Val Loss: 55507.41015625\n",
            "Epoch 196/200, Train Loss: 55453.01953125, Val Loss: 55504.40625\n",
            "Epoch 197/200, Train Loss: 55450.015625, Val Loss: 55502.94140625\n",
            "Epoch 198/200, Train Loss: 55448.40625, Val Loss: 55499.99609375\n",
            "Epoch 199/200, Train Loss: 55445.5390625, Val Loss: 55497.6015625\n",
            "Epoch 200/200, Train Loss: 55443.23828125, Val Loss: 55495.98046875\n"
          ]
        }
      ],
      "source": [
        "# build a list to save the loss data\n",
        "train_losses = []\n",
        "val_losses = []\n",
        "\n",
        "for epoch in range(num_epochs):\n",
        "    model.train()\n",
        "    optimizer.zero_grad()\n",
        "\n",
        "    # forward propagration\n",
        "    output = model(train_input_tensor)\n",
        "\n",
        "    # calculate the training loss\n",
        "    train_loss = criterion(output, train_output_tensor)\n",
        "\n",
        "    # back propagation and update the weight\n",
        "    train_loss.backward()\n",
        "    optimizer.step()\n",
        "\n",
        "    # # update learning rate\n",
        "    # scheduler.step()\n",
        "\n",
        "    # evaluate the model and calculate the validation loss\n",
        "    model.eval()\n",
        "    with torch.no_grad():\n",
        "        val_output_pred = model(val_input_tensor)\n",
        "        val_loss = criterion(val_output_pred, val_output_tensor)\n",
        "\n",
        "    # save the value of loss\n",
        "    train_losses.append(train_loss.item())\n",
        "    val_losses.append(val_loss.item())\n",
        "\n",
        "    # print the info.\n",
        "    print(f\"Epoch {epoch+1}/{num_epochs}, Train Loss: {train_loss.item()}, Val Loss: {val_loss.item()}\")\n",
        "\n"
      ]
    },
    {
      "cell_type": "markdown",
      "metadata": {
        "id": "Z8oGFTPa7Snq"
      },
      "source": [
        "## save the model"
      ]
    },
    {
      "cell_type": "code",
      "execution_count": 377,
      "metadata": {
        "id": "kr2Eezmx5Zwr"
      },
      "outputs": [],
      "source": [
        "# save the model\n",
        "if save_model_or_not == True:\n",
        "  torch.save(model.state_dict(), 'model.pt')\n",
        "  print(\"save done\")"
      ]
    },
    {
      "cell_type": "markdown",
      "metadata": {
        "id": "N5viFhTA7VSh"
      },
      "source": [
        "## plot the loss trend line"
      ]
    },
    {
      "cell_type": "code",
      "execution_count": 378,
      "metadata": {
        "id": "jeSjnRzo3EpE"
      },
      "outputs": [],
      "source": [
        "from matplotlib import pyplot as plt "
      ]
    },
    {
      "cell_type": "code",
      "execution_count": 379,
      "metadata": {
        "colab": {
          "base_uri": "https://localhost:8080/",
          "height": 449
        },
        "id": "LDv2qppJ4sBH",
        "outputId": "0cd2708f-bc63-41bf-8af2-55184317c39f"
      },
      "outputs": [
        {
          "data": {
            "image/png": "[encoded data removed]",
            "text/plain": [
              "<Figure size 640x480 with 1 Axes>"
            ]
          },
          "metadata": {},
          "output_type": "display_data"
        }
      ],
      "source": [
        "# plot loss-epochs diagrame\n",
        "plt.plot(range(1, num_epochs+1), train_losses, label='Train Loss')\n",
        "plt.plot(range(1, num_epochs+1), val_losses, label='Val Loss')\n",
        "plt.xlabel('Epoch')\n",
        "plt.ylabel('Loss')\n",
        "plt.legend()\n",
        "plt.show()"
      ]
    },
    {
      "cell_type": "markdown",
      "metadata": {
        "id": "vP42M8QD7bHN"
      },
      "source": [
        "## evaluate the test data"
      ]
    },
    {
      "cell_type": "code",
      "execution_count": 380,
      "metadata": {},
      "outputs": [],
      "source": [
        "# cannot use f1 score to evaluate model, because it is for classification used.\n",
        "def compute_f1_score(predictions, targets):\n",
        "    binary_predictions = torch.round(torch.sigmoid(predictions)).cpu().numpy()\n",
        "    targets = targets.cpu().numpy()\n",
        "\n",
        "    true_positives = np.sum(np.logical_and(binary_predictions == 1, targets == 1))\n",
        "    false_positives = np.sum(np.logical_and(binary_predictions == 1, targets == 0))\n",
        "    false_negatives = np.sum(np.logical_and(binary_predictions == 0, targets == 1))\n",
        "\n",
        "    precision = true_positives / (true_positives + false_positives + 1e-8)\n",
        "    recall = true_positives / (true_positives + false_negatives + 1e-8)\n",
        "\n",
        "    f1_score = 2 * (precision * recall) / (precision + recall + 1e-8)\n",
        "\n",
        "    return precision, recall, f1_score"
      ]
    },
    {
      "cell_type": "code",
      "execution_count": 381,
      "metadata": {},
      "outputs": [
        {
          "name": "stdout",
          "output_type": "stream",
          "text": [
            "data numbers: 38370\n",
            "data sets: 30\n"
          ]
        }
      ],
      "source": [
        "# read test datasets\n",
        "data = pd.read_csv('ann_datasets_test.csv')\n",
        "print(f\"data numbers: {len(data)}\")\n",
        "print(f\"data sets: {int(len(data)/1279)}\")\n",
        "\n",
        "input_features = 'sbi'\n",
        "output_feature = 'sbi_30min'\n",
        "num_stations = 1279\n",
        "group_size = num_stations\n",
        "\n",
        "num_groups = len(data) // group_size\n",
        "input_test_data = np.zeros((num_groups, group_size))"
      ]
    },
    {
      "cell_type": "code",
      "execution_count": 382,
      "metadata": {},
      "outputs": [],
      "source": [
        "for i in range(num_groups):\n",
        "    start_idx = i * group_size\n",
        "    end_idx = start_idx + group_size\n",
        "    group_data = data.iloc[start_idx:end_idx]\n",
        "\n",
        "    for j, row in group_data.iterrows():\n",
        "        station_index = j % group_size\n",
        "        input_data[i, station_index] = row[input_features]\n",
        "\n",
        "output_test_data = np.zeros((num_groups, group_size))\n",
        "\n",
        "for i in range(num_groups):\n",
        "    start_idx = i * group_size\n",
        "    end_idx = start_idx + group_size\n",
        "    group_data = data.iloc[start_idx:end_idx]\n",
        "\n",
        "    for j, row in group_data.iterrows():\n",
        "        station_index = j % group_size\n",
        "        output_test_data[i, station_index] = row[output_feature]"
      ]
    },
    {
      "cell_type": "code",
      "execution_count": 383,
      "metadata": {},
      "outputs": [],
      "source": [
        "# turn into torch vector\n",
        "input_data_tensor = torch.Tensor(input_test_data).to(device)\n",
        "output_data_tensor = torch.Tensor(output_test_data).to(device)"
      ]
    },
    {
      "cell_type": "code",
      "execution_count": 384,
      "metadata": {},
      "outputs": [
        {
          "name": "stdout",
          "output_type": "stream",
          "text": [
            "MAE:5.52\n",
            "MSE:72.76\n"
          ]
        }
      ],
      "source": [
        "model = MyModel(model_idx, input_dim, output_dim).to(device)\n",
        "\n",
        "# predict\n",
        "with torch.no_grad():\n",
        "    test_output_pred = model(input_data_tensor)\n",
        "\n",
        "# calculate precision, recall, f1_score\n",
        "precision, recall, f1_score = compute_f1_score(test_output_pred, output_data_tensor)\n",
        "# calculate MAE\n",
        "mae = torch.abs(test_output_pred - output_data_tensor).mean()\n",
        "print(f\"MAE:{mae.item():.2f}\")\n",
        "# calculate MSE\n",
        "mse = ((test_output_pred - output_data_tensor) ** 2).mean()\n",
        "print(f\"MSE:{mse.item():.2f}\")"
      ]
    },
    {
      "attachments": {},
      "cell_type": "markdown",
      "metadata": {},
      "source": [
        "## Ensemble"
      ]
    },
    {
      "cell_type": "code",
      "execution_count": 385,
      "metadata": {},
      "outputs": [],
      "source": [
        "# hyperparameters\n",
        "ensenble_or_not = 0\n",
        "model_num = 4\n",
        "input_dim = train_input.shape[1]  # 1279\n",
        "output_dim = train_output.shape[1]  # 1279\n",
        "num_epochs = 200\n",
        "learning_rate = 0.001\n",
        "save_model_or_not = 1"
      ]
    },
    {
      "cell_type": "code",
      "execution_count": 386,
      "metadata": {},
      "outputs": [],
      "source": [
        "# loss function and optimizer\n",
        "criterion = nn.CrossEntropyLoss()\n",
        "optimizer = optim.AdamW(model.parameters(), lr=learning_rate)"
      ]
    },
    {
      "cell_type": "code",
      "execution_count": 387,
      "metadata": {},
      "outputs": [],
      "source": [
        "# save the trained model\n",
        "trained_models = []\n",
        "if ensenble_or_not == True:\n",
        "    for idx in range(model_num):\n",
        "\n",
        "        model = MyModel(model_idx, input_dim, output_dim).to(device)\n",
        "\n",
        "        trained_models.append(model)\n",
        "\n",
        "        optimizer = optim.AdamW(model.parameters(), lr=learning_rate)\n",
        "\n",
        "        train_input_tensor = torch.Tensor(train_input).to(device)\n",
        "        train_output_tensor = torch.Tensor(train_output).to(device)\n",
        "\n",
        "        for epoch in range(num_epochs):\n",
        "            outputs = model(train_input_tensor)\n",
        "            loss = criterion(outputs, train_output_tensor)\n",
        "\n",
        "            optimizer.zero_grad()\n",
        "            loss.backward()\n",
        "            optimizer.step()\n",
        "\n",
        "            if (epoch + 1) % 10 == 0:\n",
        "                print(f\"Epoch {epoch + 1}/{num_epochs}, Loss: {loss.item()}\")\n",
        "\n",
        "        if save_model_or_not:\n",
        "            torch.save(model.state_dict(), f\"Ensemble_model{idx + 1}.pt\")"
      ]
    },
    {
      "cell_type": "code",
      "execution_count": 388,
      "metadata": {},
      "outputs": [],
      "source": [
        "if ensenble_or_not == True:\n",
        "    # turn into torch vector\n",
        "    input_data_tensor = torch.Tensor(input_test_data)\n",
        "    output_data_tensor = torch.Tensor(output_test_data)"
      ]
    },
    {
      "cell_type": "code",
      "execution_count": 389,
      "metadata": {},
      "outputs": [],
      "source": [
        "# Create a list to store the loaded models\n",
        "loaded_models = []\n",
        "if ensenble_or_not == True:\n",
        "\n",
        "    # Load model weights\n",
        "    for idx in range(model_num):\n",
        "        model_ensamble = MyModel(model_idx, input_dim, output_dim)\n",
        "        model_ensamble.load_state_dict(torch.load(f\"Ensemble_model{idx + 1}.pt\", map_location=torch.device(\"cpu\")))\n",
        "        model_ensamble.eval()\n",
        "        loaded_models.append(model_ensamble)\n",
        "\n",
        "    def ensemble_vote(models, input_data):\n",
        "        # Perform predictions with each model\n",
        "        predictions = [model(input_data) for model in models]\n",
        "        \n",
        "        # Compute the mode of predictions\n",
        "        final_predictions = torch.mode(torch.stack(predictions), dim=0).values\n",
        "        \n",
        "        return final_predictions\n",
        "\n",
        "    # Perform ensemble voting using loaded models\n",
        "    with torch.no_grad():\n",
        "        ensemble_predictions_vote = ensemble_vote(loaded_models, input_data_tensor)\n",
        "\n",
        "    # calculate MAE\n",
        "    mae = torch.abs(ensemble_predictions_vote - output_data_tensor).mean()\n",
        "    print(f\"MAE:{mae.item():.2f}\")\n",
        "    # calculate MSE\n",
        "    mse = ((ensemble_predictions_vote - output_data_tensor) ** 2).mean()\n",
        "    print(f\"MSE:{mse.item():.2f}\")"
      ]
    }
  ],
  "metadata": {
    "accelerator": "GPU",
    "colab": {
      "gpuType": "T4",
      "provenance": []
    },
    "gpuClass": "standard",
    "kernelspec": {
      "display_name": ".venv",
      "language": "python",
      "name": "python3"
    },
    "language_info": {
      "codemirror_mode": {
        "name": "ipython",
        "version": 3
      },
      "file_extension": ".py",
      "mimetype": "text/x-python",
      "name": "python",
      "nbconvert_exporter": "python",
      "pygments_lexer": "ipython3",
      "version": "3.10.11"
    },
    "orig_nbformat": 4
  },
  "nbformat": 4,
  "nbformat_minor": 0
}
